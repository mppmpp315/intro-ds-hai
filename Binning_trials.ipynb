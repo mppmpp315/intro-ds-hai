{
 "metadata": {
  "name": "",
  "signature": "sha256:0342e41f9ca566823121b2eb1e06e8a4650ae10f317c659b75f2d221c9a8505c"
 },
 "nbformat": 3,
 "nbformat_minor": 0,
 "worksheets": [
  {
   "cells": [
    {
     "cell_type": "code",
     "collapsed": false,
     "input": [
      "%matplotlib inline\n",
      "import sys\n",
      "sys.path.append('src')\n",
      "sys.path.append('data')\n",
      "\n",
      "import numpy as np\n",
      "import pandas as pd\n",
      "import matplotlib.pyplot as plt\n",
      "\n",
      "import data_utils\n",
      "import binning_utils\n",
      "import hai_data_cleanup\n",
      "import merge_data\n",
      "import classifier\n",
      "reload(merge_data)\n",
      "reload(data_utils)\n",
      "reload(binning_utils)\n",
      "reload(hai_data_cleanup)\n",
      "reload(classifier)\n",
      "from sklearn import linear_model\n",
      "from sklearn.cross_validation import train_test_split\n",
      "from sklearn.metrics import roc_auc_score\n",
      "#from sets import Set"
     ],
     "language": "python",
     "metadata": {},
     "outputs": [],
     "prompt_number": 8
    },
    {
     "cell_type": "code",
     "collapsed": false,
     "input": [
      "Proxy_df = merge_data.mergeAllTheThingsForProxy(binning_utils.binByLabel, binning_utils.binByScore1)"
     ],
     "language": "python",
     "metadata": {},
     "outputs": [],
     "prompt_number": 10
    },
    {
     "cell_type": "code",
     "collapsed": false,
     "input": [
      "#t2 = merge_data.mergeAllTheThings()"
     ],
     "language": "python",
     "metadata": {},
     "outputs": [],
     "prompt_number": 11
    },
    {
     "cell_type": "code",
     "collapsed": false,
     "input": [
      "'''from pandas.util.testing import assert_frame_equal\n",
      "\n",
      "assert_frame_equal(t, t2)\n",
      "\n",
      "try:\n",
      "    assert_frame_equal(t, t2)\n",
      "    print True\n",
      "except:  # appeantly AssertionError doesn't catch all\n",
      "    print False\n",
      "'''"
     ],
     "language": "python",
     "metadata": {},
     "outputs": [
      {
       "metadata": {},
       "output_type": "pyout",
       "prompt_number": 12,
       "text": [
        "\"from pandas.util.testing import assert_frame_equal\\n\\nassert_frame_equal(t, t2)\\n\\ntry:\\n    assert_frame_equal(t, t2)\\n    print True\\nexcept:  # appeantly AssertionError doesn't catch all\\n    print False\\n\""
       ]
      }
     ],
     "prompt_number": 12
    },
    {
     "cell_type": "code",
     "collapsed": false,
     "input": [],
     "language": "python",
     "metadata": {},
     "outputs": [],
     "prompt_number": 12
    },
    {
     "cell_type": "markdown",
     "metadata": {},
     "source": [
      "Proxy regression cross validation version 1.:\n",
      "\n",
      "    1) we split the data into sub_DF_a = train+test. and sub_DF_b = holdout data.\n",
      "    2) we perform cross valiation on sub_DF_a, in each iteration of the kfold training on the proxy variable and testing on the proxy variable.\n",
      "    3) evaluate final perforance on target variable in the holdout set.\n",
      "\n",
      "Proxy regression cross validation version 2.:\n",
      "\n",
      "    1) we split the data into sub_DF_a = train+test. and sub_DF_b = holdout data.\n",
      "    2) we perform cross valiation on sub_DF_a, in each iteration of the kfold training on the proxy variable and testing on the target variable.\n",
      "    3) evaluate final perforance on target variable in the holdout set."
     ]
    },
    {
     "cell_type": "heading",
     "level": 3,
     "metadata": {},
     "source": [
      "Version 1"
     ]
    },
    {
     "cell_type": "code",
     "collapsed": false,
     "input": [
      "Proxy_df.columns"
     ],
     "language": "python",
     "metadata": {},
     "outputs": [
      {
       "metadata": {},
       "output_type": "pyout",
       "prompt_number": 13,
       "text": [
        "Index([u'Bin 2014', u'AK', u'AL', u'AR', u'AZ', u'CA', u'CO', u'CT', u'DC', u'DE', u'FL', u'GA', u'HI', u'IA', u'ID', u'IL', u'IN', u'KS', u'KY', u'LA', u'MA', u'MD', u'ME', u'MI', u'MN', u'MO', u'MS', u'MT', u'NC', u'ND', u'NE', u'NH', u'NJ', u'NM', u'NV', u'NY', u'OH', u'OK', u'OR', u'PA', u'PR', u'RI', u'SC', u'SD', u'TN', u'TX', u'UT', u'VA', u'VI', u'VT', u'WA', u'WI', u'WV', u'WY', u'Bin 2013', u'Bin 2012', u'SCIP_INF_1_1', u'SCIP_INF_2_1', u'SCIP_INF_3_1', u'SCIP_INF_10_1', u'SCIP_INF_1_2', u'SCIP_INF_2_2', u'SCIP_INF_3_2', u'SCIP_INF_10_2', u'Spending_per_patient_2012', u'Spending_per_patient_2013', u'Acute myocardial infarction, discharged alive w/o CC/MCC 2013', u'Acute myocardial infarction, discharged alive w MCC 2013', u'Acute myocardial infarction, discharged alive w CC 2013', u'Heart failure and shock w/o CC/MCC 2013', u'Heart failure and shock w MCC 2013', u'Heart failure and shock w CC 2013', u'Chronic obstructive pulmonary disease w/o CC/MCC 2013', u'Chronic obstructive pulmonary disease w MCC 2013', u'Chronic obstructive pulmonary disease w CC 2013', u'Simple pneumonia and pleurisy w MCC 2013', u'Diabetes w MCC 2013', u'Chest Pain 2013', u'Cardiac valve and oth maj cardiothoracic proc w/o card cath w/o CC/MCC 2013', u'Cardiac valve and oth maj cardiothoracic proc w/o card cath w MCC 2013', u'Cardiac valve and oth maj cardiothoracic proc w/o card cath w CC 2013', u'Major cardiovasc procedures w MCC or thoracic aortic aneurysm repair 2013', u'Cardiac defibrillator implant w/o cardiac cath w/o MCC 2013', u'Cardiac defibrillator implant w/o cardiac cath w MCC 2013', u'Cardiac defib implant w cardiac cath w/o AMI/HF/shock w/o MCC 2013', u'Cardiac defib implant w cardiac cath w/o AMI/HF/shock w MCC 2013', u'Extracranial procedures w/o CC/MCC 2013', u'Extracranial procedures w CC 2013', u'Coronary bypass w/o cardiac cath w/o MCC 2013', u'Coronary bypass w/o cardiac cath w MCC 2013', u'Permanent cardiac pacemaker implant w/o CC/MCC 2013', u'Permanent cardiac pacemaker implant w CC 2013', u'Perc cardiovasc proc w drug-eluting stent w/o MCC 2013', u'Laparoscopic cholecystectomy w/o c.d.e. w/o CC/MCC 2013', u'Laparoscopic cholecystectomy w/o c.d.e. w MCC 2013', u'Laparoscopic cholecystectomy w/o c.d.e. w CC 2013', u'Cholecystectomy except by laparoscope w/o c.d.e. w MCC 2013', u'Hernia procedures except inguinal and femoral w/o CC/MCC 2013', u'Hernia procedures except inguinal and femoral w MCC 2013', u'Hernia procedures except inguinal and femoral w CC 2013', ...], dtype='object')"
       ]
      }
     ],
     "prompt_number": 13
    },
    {
     "cell_type": "code",
     "collapsed": false,
     "input": [
      "#train_ix, test_ix = data_utils.splitTestTrainIndicesWithProxy(DF = Proxy_df, target_column_name = 'Bin 2014', proxy_column_name = 'Bin 2013', train_size = 0.8)\n",
      "\n",
      "#df_train, df_test = Proxy_df.ix[train_ix], Proxy_df.ix[test_ix]"
     ],
     "language": "python",
     "metadata": {},
     "outputs": [],
     "prompt_number": 14
    },
    {
     "cell_type": "code",
     "collapsed": false,
     "input": [
      "#set up consistant X, Y(target) and Y_s(proxy) for all following analysis\n",
      "proxy_column_name = 'Bin 2013'\n",
      "target_column_name = 'Bin 2014'\n",
      "\n",
      "Y = Proxy_df[target_column_name]\n",
      "Y_s = Proxy_df[proxy_column_name] \n",
      "X = Proxy_df.drop([proxy_column_name,target_column_name],axis = 1)\n",
      "\n",
      "train_test_ix, holdout_ix = data_utils.splitTestTrainIndicesWithProxy(Proxy_df, target_column_name, \n",
      "                                                   proxy_column_name, train_size = 0.8)\n",
      "X_train_test, X_holdout = X.ix[train_test_ix], X.ix[holdout_ix]\n",
      "Y_train_test, Y_holdout = Y.ix[train_test_ix], Y.ix[holdout_ix]\n",
      "Y_s_train_test, Y_s_holdout = Y_s.ix[train_test_ix], Y_s.ix[holdout_ix]\n",
      "\n",
      "# we don't touch the holdout until the very end."
     ],
     "language": "python",
     "metadata": {},
     "outputs": [],
     "prompt_number": 15
    },
    {
     "cell_type": "code",
     "collapsed": false,
     "input": [],
     "language": "python",
     "metadata": {},
     "outputs": [],
     "prompt_number": 15
    },
    {
     "cell_type": "code",
     "collapsed": false,
     "input": [
      "#we perform cross valiation on sub_DF_a, in each iteration of the kfold training on the proxy variable and \n",
      "#testing on the proxy variable.\n",
      "# run regular k folds. since we are using the proxy which has a lot of positives, \n",
      "#then we don't need to worry about min positives.\n",
      "\n",
      "X = X_train_test\n",
      "Y = Y_s_train_test\n",
      "clf = classifier.BestAUCLogisiticRegression(X, Y, regularization_type='l2')\n"
     ],
     "language": "python",
     "metadata": {},
     "outputs": [
      {
       "output_type": "stream",
       "stream": "stdout",
       "text": [
        "best C for logistic regression 1 results in AUC 0.604001374208\n"
       ]
      }
     ],
     "prompt_number": 16
    },
    {
     "cell_type": "code",
     "collapsed": false,
     "input": [
      "#Test classifier with best hyper parameters on Holdout sample\n",
      "\n",
      "scores = classifier.fit(X_train, Y_train).predict_proba(X_test)[:,1] # TODO use .decision_function(X_test)? seems to work out the same\n",
      "auc = metrics.roc_auc_score(Y_test, scores)"
     ],
     "language": "python",
     "metadata": {},
     "outputs": []
    },
    {
     "cell_type": "code",
     "collapsed": false,
     "input": [
      "'''\n",
      "def proxyLogisticRegression(DF, target_column_name, proxy_column_name, train_size = 0.75):\n",
      "    \"\"\" Performs logostic regression using a proxy variable Y_s. This means that we train the dataset on the proxy variable Y_s\n",
      "    and test the AUC of our model using the target variable Y. \n",
      "    In this function we are also calculating the AUC for Y_s to get a general sense of how good our model is.\n",
      "    Args:\n",
      "        DF: a pandas dataframe on which to do the analysis.\n",
      "           DF must contain at the very least the columns: [proxy_column_name, target_column_name] and one feature.\n",
      "\n",
      "        target_column_name: the name of the column containing the binary target variable.\n",
      "\n",
      "        proxy_column_name: the name of the column containing the binary proxy variable.\n",
      "\n",
      "        train_size: float. the mean fraction of overall positives we want the training DF to contain. default = 0.75.\n",
      "        \n",
      "    Returns:  \n",
      "        AUC_target: AUC score for target variable Y when trained on Y_s\n",
      "        AUC_proxy: AUC score for proxy variable Y_s when trained on Y_s\n",
      "    \"\"\"\n",
      "    \n",
      "    AUCs_target = []\n",
      "    AUCs_proxy = []\n",
      "    # Set up target Y,proxy Y_s and features X \n",
      "    Y = DF[target_column_name]\n",
      "    Y_s = DF[proxy_column_name] \n",
      "    X = DF.drop([proxy_column_name,target_column_name],axis = 1)\n",
      "    \n",
      "    # Split test and training data\n",
      "    train_ix, test_ix = splitTestTrainIndicesWithProxy(DF, target_column_name, proxy_column_name, train_size)\n",
      "    X_train, X_test = X.ix[train_ix], X.ix[test_ix]\n",
      "    Y_train, Y_test = Y.ix[train_ix], Y.ix[test_ix]\n",
      "    Y_s_train, Y_s_test = Y_s.ix[train_ix], Y_s.ix[test_ix]\n",
      "    \n",
      "    #make sure proxy and target have the same shape\n",
      "    assert Y_s_train.shape == Y_train.shape\n",
      "    assert Y_s_test.shape == Y_test.shape\n",
      "    \n",
      "    # TODO(maya): Do cross validation here! This will result in less variable AUCs results.\n",
      "    \n",
      "    # init classifier instance\n",
      "    clf = linear_model.LogisticRegression() #C=1 by default\n",
      "\n",
      "    # train on Y_s\n",
      "    clf = clf.fit(X_train, Y_s_train)\n",
      "\n",
      "    # evaluate AUC for Y\n",
      "    AUC_target = roc_auc_score(y_true = Y_test, y_score = clf.decision_function(X_test))\n",
      "    \n",
      "    # evaluate AUC for Y_s. as a check of how informative the model is\n",
      "    AUC_proxy = roc_auc_score(y_true = Y_s_test, y_score = clf.decision_function(X_test))\n",
      "    \n",
      "    return AUC_target, AUC_proxy\n",
      "'''"
     ],
     "language": "python",
     "metadata": {},
     "outputs": [
      {
       "metadata": {},
       "output_type": "pyout",
       "prompt_number": 28,
       "text": [
        "'\\ndef proxyLogisticRegression(DF, target_column_name, proxy_column_name, train_size = 0.75):\\n    \"\"\" Performs logostic regression using a proxy variable Y_s. This means that we train the dataset on the proxy variable Y_s\\n    and test the AUC of our model using the target variable Y. \\n    In this function we are also calculating the AUC for Y_s to get a general sense of how good our model is.\\n    Args:\\n        DF: a pandas dataframe on which to do the analysis.\\n           DF must contain at the very least the columns: [proxy_column_name, target_column_name] and one feature.\\n\\n        target_column_name: the name of the column containing the binary target variable.\\n\\n        proxy_column_name: the name of the column containing the binary proxy variable.\\n\\n        train_size: float. the mean fraction of overall positives we want the training DF to contain. default = 0.75.\\n        \\n    Returns:  \\n        AUC_target: AUC score for target variable Y when trained on Y_s\\n        AUC_proxy: AUC score for proxy variable Y_s when trained on Y_s\\n    \"\"\"\\n    \\n    AUCs_target = []\\n    AUCs_proxy = []\\n    # Set up target Y,proxy Y_s and features X \\n    Y = DF[target_column_name]\\n    Y_s = DF[proxy_column_name] \\n    X = DF.drop([proxy_column_name,target_column_name],axis = 1)\\n    \\n    # Split test and training data\\n    train_ix, test_ix = splitTestTrainIndicesWithProxy(DF, target_column_name, proxy_column_name, train_size)\\n    X_train, X_test = X.ix[train_ix], X.ix[test_ix]\\n    Y_train, Y_test = Y.ix[train_ix], Y.ix[test_ix]\\n    Y_s_train, Y_s_test = Y_s.ix[train_ix], Y_s.ix[test_ix]\\n    \\n    #make sure proxy and target have the same shape\\n    assert Y_s_train.shape == Y_train.shape\\n    assert Y_s_test.shape == Y_test.shape\\n    \\n    # TODO(maya): Do cross validation here! This will result in less variable AUCs results.\\n    \\n    # init classifier instance\\n    clf = linear_model.LogisticRegression() #C=1 by default\\n\\n    # train on Y_s\\n    clf = clf.fit(X_train, Y_s_train)\\n\\n    # evaluate AUC for Y\\n    AUC_target = roc_auc_score(y_true = Y_test, y_score = clf.decision_function(X_test))\\n    \\n    # evaluate AUC for Y_s. as a check of how informative the model is\\n    AUC_proxy = roc_auc_score(y_true = Y_s_test, y_score = clf.decision_function(X_test))\\n    \\n    return AUC_target, AUC_proxy\\n'"
       ]
      }
     ],
     "prompt_number": 28
    },
    {
     "cell_type": "code",
     "collapsed": false,
     "input": [
      "#split into k folds."
     ],
     "language": "python",
     "metadata": {},
     "outputs": []
    }
   ],
   "metadata": {}
  }
 ]
}