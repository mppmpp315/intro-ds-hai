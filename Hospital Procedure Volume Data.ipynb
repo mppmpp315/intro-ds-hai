{
 "metadata": {
  "name": "",
  "signature": "sha256:1ce4c4572813642592f7dab948f23522255bc2fde0b77a039feb1d6f9bb3be69"
 },
 "nbformat": 3,
 "nbformat_minor": 0,
 "worksheets": [
  {
   "cells": [
    {
     "cell_type": "code",
     "collapsed": false,
     "input": [
      "#### Goal: Analyze and integrate the data from the 'Hospital Volume' Datasets.\n",
      "## Each table has the number of each kind of procedure performed at that hospital.\n",
      "\n",
      "### 2012\n",
      "## File:\n",
      "# Medicare Payment and Volume Measures.csv\n",
      "## Columns:\n",
      "# \"Provider Number\",\n",
      "# \"Diagnosis Related Group\",\n",
      "# \"Number Of Cases\" -- Missing data is \"*\".\n",
      "## Other info:\n",
      "# This file includes extra columns for \"Medicare Average Payment\", but it never seems to have data.\n",
      "\n",
      "### 2013\n",
      "## File:\n",
      "# Medicare Volume Measures.csv\n",
      "## Columns:\n",
      "# \"Provider Number\"\n",
      "# \"Diagnosis Related Group\",\n",
      "# \"Number Of Cases\"  -- Missing data is \"*\"\n",
      "\n",
      "### 2014 (will not be used)\n",
      "## File:\n",
      "# Medicare Volume - Hospital.csv\n",
      "## Columns:\n",
      "# \"Provider ID\"\n",
      "# \"Diagnosis Related Group\",\n",
      "# \"Denominator\": (i.e. number of cases). Missing data is denoted by \"\".\n",
      "\n",
      "### Summary\n",
      "# -- All the differenct procedures seem to have the same names (e.g. \"Major small and large bowel procedures w MCC\") \n",
      "#    across all three years.\n",
      "# -- There are roughly 100 different procedures...I doubt most of them will be helpful.\n",
      "# -- We could run that one analysis (the \"lift\" curve?) for each procedures to see which ones help the most.\n",
      "# -- Alternatively, we could calculate a composite statistic.\n",
      "#    E.g., the total number of procedures done by the hospital in a given year. \n",
      "#   Seems too reductive. many procedures probably don't even use a central line.\n",
      "# -- This data is nice because we have it for all three years, and it varies in each year."
     ],
     "language": "python",
     "metadata": {},
     "outputs": [],
     "prompt_number": 1
    },
    {
     "cell_type": "code",
     "collapsed": false,
     "input": [
      "#### Tasks to complete\n",
      "\n",
      "## 1) Read either the 2012 or 2013 tables into a common data frame format, e.g.\n",
      "# [Provider ID, Composite Volume Statistic], or if you prefer\n",
      "# [Provider ID, Volume Measure 1, Volume Measure 2, ...]\n",
      "\n",
      "## 2) Read both data frames into one dataframe that summarizes both years. For example:\n",
      "# [Provider ID, Composite Volume Statistic 2012, Composite Volume Statistic 2013]\n",
      "# [Provider ID, Average Composite Volume Statistic]"
     ],
     "language": "python",
     "metadata": {},
     "outputs": [],
     "prompt_number": 2
    },
    {
     "cell_type": "code",
     "collapsed": false,
     "input": [
      "import sys\n",
      "sys.path.append('src')\n",
      "sys.path.append('data')\n",
      "\n",
      "import numpy as np\n",
      "import pandas as pd"
     ],
     "language": "python",
     "metadata": {},
     "outputs": [],
     "prompt_number": 3
    },
    {
     "cell_type": "code",
     "collapsed": false,
     "input": [
      "## Task 1) Read either the 2012 or 2013 tables into a common data frame format, e.g.\n",
      "# [Provider ID, Composite Volume Statistic], or if you prefer\n",
      "# [Provider ID, Volume Measure 1, Volume Measure 2, ...]\n",
      "\n",
      "# TODO"
     ],
     "language": "python",
     "metadata": {},
     "outputs": [],
     "prompt_number": 4
    },
    {
     "cell_type": "code",
     "collapsed": false,
     "input": [
      "## Task 2) Read both data frames into one dataframe that summarizes both years. For example:\n",
      "# [Provider ID, Composite Volume Statistic 2012, Composite Volume Statistic 2013]\n",
      "# [Provider ID, Average Composite Volume Statistic]\n",
      "\n",
      "# TODO"
     ],
     "language": "python",
     "metadata": {},
     "outputs": [],
     "prompt_number": 5
    },
    {
     "cell_type": "code",
     "collapsed": false,
     "input": [],
     "language": "python",
     "metadata": {},
     "outputs": []
    }
   ],
   "metadata": {}
  }
 ]
}