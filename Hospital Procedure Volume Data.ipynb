{
 "metadata": {
  "name": "",
  "signature": "sha256:94d1cf4b5c9e2af080fec193dea5ef45fadc89cf7f7dd63366878d9b8652ec4f"
 },
 "nbformat": 3,
 "nbformat_minor": 0,
 "worksheets": [
  {
   "cells": [
    {
     "cell_type": "code",
     "collapsed": false,
     "input": [
      "#### Goal: Analyze and integrate the data from the 'Hospital Volume' Datasets.\n",
      "## Each table has the number of each kind of procedure performed at that hospital.\n",
      "\n",
      "### 2012\n",
      "## File:\n",
      "# Medicare Payment and Volume Measures.csv\n",
      "## Columns:\n",
      "# \"Provider Number\",\n",
      "# \"Diagnosis Related Group\",\n",
      "# \"Number Of Cases\" -- Missing data is \"*\".\n",
      "## Other info:\n",
      "# This file includes extra columns for \"Medicare Average Payment\", but it never seems to have data.\n",
      "\n",
      "### 2013\n",
      "## File:\n",
      "# Medicare Volume Measures.csv\n",
      "## Columns:\n",
      "# \"Provider Number\"\n",
      "# \"Diagnosis Related Group\",\n",
      "# \"Number Of Cases\"  -- Missing data is \"*\"\n",
      "\n",
      "### 2014 (will not be used)\n",
      "## File:\n",
      "# Medicare Volume - Hospital.csv\n",
      "## Columns:\n",
      "# \"Provider ID\"\n",
      "# \"Diagnosis Related Group\",\n",
      "# \"Denominator\": (i.e. number of cases). Missing data is denoted by \"\".\n",
      "\n",
      "### Summary\n",
      "# -- All the differenct procedures seem to have the same names (e.g. \"Major small and large bowel procedures w MCC\") \n",
      "#    across all three years.\n",
      "# -- There are roughly 100 different procedures...I doubt most of them will be helpful.\n",
      "# -- We could run that one analysis (the \"lift\" curve?) for each procedures to see which ones help the most.\n",
      "# -- Alternatively, we could calculate a composite statistic.\n",
      "#    E.g., the total number of procedures done by the hospital in a given year. \n",
      "#   Seems too reductive. many procedures probably don't even use a central line.\n",
      "# -- This data is nice because we have it for all three years, and it varies in each year."
     ],
     "language": "python",
     "metadata": {},
     "outputs": [],
     "prompt_number": 1
    },
    {
     "cell_type": "code",
     "collapsed": false,
     "input": [
      "#### Tasks to complete\n",
      "\n",
      "## 1) Read either the 2012 or 2013 tables into a common data frame format, e.g.\n",
      "# [Provider ID, Composite Volume Statistic], or if you prefer\n",
      "# [Provider ID, Volume Measure 1, Volume Measure 2, ...]\n",
      "\n",
      "## 2) Read both data frames into one dataframe that summarizes both years. For example:\n",
      "# [Provider ID, Composite Volume Statistic 2012, Composite Volume Statistic 2013]\n",
      "# [Provider ID, Average Composite Volume Statistic]"
     ],
     "language": "python",
     "metadata": {},
     "outputs": [],
     "prompt_number": 2
    },
    {
     "cell_type": "code",
     "collapsed": false,
     "input": [
      "import sys\n",
      "sys.path.append('src')\n",
      "sys.path.append('data')\n",
      "\n",
      "import numpy as np\n",
      "import pandas as pd"
     ],
     "language": "python",
     "metadata": {},
     "outputs": [],
     "prompt_number": 1
    },
    {
     "cell_type": "code",
     "collapsed": false,
     "input": [
      "## Task 1) Read either the 2012 or 2013 tables into a common data frame format, e.g.\n",
      "# [Provider ID, Composite Volume Statistic], or if you prefer\n",
      "# [Provider ID, Volume Measure 1, Volume Measure 2, ...]\n",
      "\n",
      "import data_utils\n",
      "df_2013 = data_utils.parseFileWithIndex('data/2013/Medicare Volume Measures.csv', \n",
      "                               ['Diagnosis Related Group', 'Number Of Cases'])\n",
      "df_2012 = data_utils.parseFileWithIndex('data/2012/Medicare Payment and Volume Measures.csv', \n",
      "                               ['Diagnosis Related Group', 'Number Of Cases'])\n",
      "mincases = '10'\n",
      "missing_marker = '*'"
     ],
     "language": "python",
     "metadata": {},
     "outputs": [],
     "prompt_number": 78
    },
    {
     "cell_type": "code",
     "collapsed": false,
     "input": [
      "## Task 2) Read both data frames into one dataframe that summarizes both years. For example:\n",
      "# [Provider ID, Composite Volume Statistic 2012, Composite Volume Statistic 2013]\n",
      "# [Provider ID, Average Composite Volume Statistic]\n",
      "\n",
      "reformatted = []\n",
      "for df in [df_2013, df_2012]:\n",
      "    df['Number Of Cases'][df['Number Of Cases'] == missing_marker] = mincases\n",
      "    df['Number Of Cases'] = df['Number Of Cases'].str.replace(\",\", \"\")\n",
      "    df['Number Of Cases'] = df['Number Of Cases'].astype(float)\n",
      "    \n",
      "    hospitals = pd.unique(df.index)\n",
      "    cols = pd.unique(df['Diagnosis Related Group'])\n",
      "    \n",
      "    df2 = pd.DataFrame(index = hospitals, columns = cols)\n",
      "    for col in cols:\n",
      "        x = df['Number Of Cases'][df['Diagnosis Related Group'] == col]\n",
      "        df2[col] = x\n",
      "        \n",
      "    reformatted.append(df2)"
     ],
     "language": "python",
     "metadata": {},
     "outputs": [],
     "prompt_number": 79
    },
    {
     "cell_type": "code",
     "collapsed": false,
     "input": [
      "reformatted[0].columns = reformatted[0].columns.map(lambda x: str(x) + ' 2013')\n",
      "volume = reformatted[0].join(reformatted[1], how = 'outer', rsuffix=' 2012')\n",
      "    "
     ],
     "language": "python",
     "metadata": {},
     "outputs": [],
     "prompt_number": 81
    },
    {
     "cell_type": "code",
     "collapsed": false,
     "input": [],
     "language": "python",
     "metadata": {},
     "outputs": []
    }
   ],
   "metadata": {}
  }
 ]
}