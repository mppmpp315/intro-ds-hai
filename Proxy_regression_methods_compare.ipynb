{
 "metadata": {
  "name": "",
  "signature": "sha256:0041d86d7471393406fa5ed02ae154e2639cc479c3b0fd468b72f7c054764009"
 },
 "nbformat": 3,
 "nbformat_minor": 0,
 "worksheets": [
  {
   "cells": [
    {
     "cell_type": "heading",
     "level": 1,
     "metadata": {},
     "source": [
      "Methods comparison for Regression by Proxy "
     ]
    },
    {
     "cell_type": "code",
     "collapsed": false,
     "input": [
      "%matplotlib inline\n",
      "import sys\n",
      "sys.path.append('src')\n",
      "sys.path.append('data')\n",
      "\n",
      "import numpy as np\n",
      "import pandas as pd\n",
      "import matplotlib.pyplot as plt\n",
      "\n",
      "import data_utils\n",
      "import binning_utils\n",
      "import hai_data_cleanup\n",
      "import merge_data\n",
      "import classifier\n",
      "reload(merge_data)\n",
      "reload(data_utils)\n",
      "reload(binning_utils)\n",
      "reload(hai_data_cleanup)\n",
      "reload(classifier)\n",
      "from sklearn import linear_model\n",
      "from sklearn.cross_validation import train_test_split\n",
      "from sklearn.metrics import roc_auc_score,roc_curve, auc\n",
      "\n",
      "from sklearn.cross_validation import KFold\n",
      "from sklearn import metrics"
     ],
     "language": "python",
     "metadata": {},
     "outputs": [],
     "prompt_number": 107
    },
    {
     "cell_type": "markdown",
     "metadata": {},
     "source": [
      "Main Idea:\n",
      "Proxy regression is way in which you try to predict target variable Y by training on a proxy variable Y_s.\n",
      "It is important to not that by doing so we are assuming that the target variable (Y) is highly correlated with the proxy variable (Y_s), which is why trainning on one to predict the other actually works.\n",
      "\n",
      "This is useful in situations where a binary target variable has very few \"positive\" occurences and the proxy variable (Y_s) has significantly more \"positive\" occurances. (According to the professor), it has been shown that many times when a target variable is sparse, training on a proxy and predicting on the target yields much better results than training on the target itself.\n",
      "\n",
      "In this notebook we will be attempting to create 2 types of proxy regressions:\n",
      "\n",
      "1) logistic regression\n",
      "    \n",
      "2) SVM: "
     ]
    },
    {
     "cell_type": "heading",
     "level": 2,
     "metadata": {},
     "source": [
      "Logistic Regression Proxy"
     ]
    },
    {
     "cell_type": "markdown",
     "metadata": {},
     "source": [
      "\n",
      "\n",
      "Proxy regression cross validation version 1.:\n",
      "\n",
      "    1) we split the data into sub_DF_a = train+test. and sub_DF_b = holdout data.\n",
      "    2) we perform cross valiation on sub_DF_a, in each iteration of the kfold training on the proxy variable and testing on the proxy variable.\n",
      "    3) evaluate final perforance on target variable in the holdout set.\n",
      "\n",
      "Proxy regression cross validation version 2.:\n",
      "\n",
      "    1) we split the data into sub_DF_a = train+test. and sub_DF_b = holdout data.\n",
      "    2) we perform cross valiation on sub_DF_a, in each iteration of the kfold training on the proxy variable and testing on the target variable.\n",
      "    3) evaluate final perforance on target variable in the holdout set."
     ]
    },
    {
     "cell_type": "code",
     "collapsed": false,
     "input": [],
     "language": "python",
     "metadata": {},
     "outputs": []
    },
    {
     "cell_type": "code",
     "collapsed": false,
     "input": [],
     "language": "python",
     "metadata": {},
     "outputs": [],
     "prompt_number": 89
    },
    {
     "cell_type": "code",
     "collapsed": false,
     "input": [
      "#set up consistant X, Y(target) and Y_s(proxy) for all following analysis\n",
      "proxy_column_name = 'Bin 2013'\n",
      "target_column_name = 'Bin 2014'\n",
      "\n",
      "def patition_data(DF):\n",
      "    Y = DF[target_column_name]\n",
      "    Y_s = DF[proxy_column_name] \n",
      "    X = DF.drop([proxy_column_name,target_column_name],axis = 1)\n",
      "\n",
      "    train_test_ix, holdout_ix = data_utils.splitTestTrainIndicesWithProxy(DF, target_column_name, \n",
      "                                                               proxy_column_name, train_size = 0.8)\n",
      "\n",
      "    X_train_test, X_holdout = X.ix[train_test_ix], X.ix[holdout_ix]\n",
      "    Y_train_test, Y_holdout = Y.ix[train_test_ix], Y.ix[holdout_ix]\n",
      "    Y_s_train_test, Y_s_holdout = Y_s.ix[train_test_ix], Y_s.ix[holdout_ix]\n",
      "    \n",
      "    return X_train_test, X_holdout,Y_train_test, Y_holdout,Y_s_train_test, Y_s_holdout\n",
      "\n",
      "\n",
      "# we don't touch the holdout until the very end."
     ],
     "language": "python",
     "metadata": {},
     "outputs": [],
     "prompt_number": 90
    },
    {
     "cell_type": "code",
     "collapsed": false,
     "input": [
      "#Proxy_df = merge_data.mergeAllTheThingsForProxy(binning_utils.binByLabel, binning_utils.binByScore1)\n",
      "\n",
      "#Proxy_df2 = merge_data.mergeAllTheThingsForProxy(binning_utils.binByScore1, binning_utils.binByScore2)\n",
      "\n",
      "Proxy_df3 = merge_data.mergeAllTheThingsForProxy(binning_utils.binByScore1, binning_utils.binByScore3)"
     ],
     "language": "python",
     "metadata": {},
     "outputs": [],
     "prompt_number": 112
    },
    {
     "cell_type": "code",
     "collapsed": false,
     "input": [
      "X_train_test, X_holdout,Y_train_test, Y_holdout,Y_s_train_test, Y_s_holdout = patition_data(Proxy_df3)"
     ],
     "language": "python",
     "metadata": {},
     "outputs": [],
     "prompt_number": 113
    },
    {
     "cell_type": "code",
     "collapsed": false,
     "input": [],
     "language": "python",
     "metadata": {},
     "outputs": [],
     "prompt_number": 113
    },
    {
     "cell_type": "heading",
     "level": 3,
     "metadata": {},
     "source": [
      "Version 1"
     ]
    },
    {
     "cell_type": "code",
     "collapsed": false,
     "input": [
      "#we perform cross valiation on sub_DF_a, in each iteration of the kfold training on the proxy variable and \n",
      "#testing on the proxy variable.\n",
      "# run regular k folds. since we are using the proxy which has a lot of positives, \n",
      "#then we don't need to worry about min positives.\n",
      "\n",
      "X = X_train_test\n",
      "Y = Y_s_train_test\n",
      "clf = classifier.BestAUCLogisiticRegression(X, Y, regularization_type='l2')\n",
      "# we get back a classifie that's already bin fit on all the training data "
     ],
     "language": "python",
     "metadata": {},
     "outputs": [
      {
       "output_type": "stream",
       "stream": "stdout",
       "text": [
        "best C for logistic regression 0.1 results in AUC 0.606527590847\n"
       ]
      }
     ],
     "prompt_number": 114
    },
    {
     "cell_type": "code",
     "collapsed": false,
     "input": [
      "# evaluate AUC for Y\n",
      "AUC_target = roc_auc_score(y_true = Y_holdout, y_score = clf.predict_proba(X_holdout)[:,1])\n",
      "\n",
      "# evaluate AUC for Y_s. as a check of how informative the model is\n",
      "AUC_proxy = roc_auc_score(y_true = Y_s_holdout, y_score = clf.predict_proba(X_holdout)[:,1])\n",
      "\n",
      "print \"AUC_target\" , AUC_target\n",
      "print \"AUC_Proxy\", AUC_proxy\n"
     ],
     "language": "python",
     "metadata": {},
     "outputs": [
      {
       "output_type": "stream",
       "stream": "stdout",
       "text": [
        "AUC_target 0.678346456693\n",
        "AUC_Proxy 0.678627553693\n"
       ]
      }
     ],
     "prompt_number": 115
    },
    {
     "cell_type": "code",
     "collapsed": false,
     "input": [
      "print metrics.classification_report(Y_holdout,clf.predict(X_holdout))\n"
     ],
     "language": "python",
     "metadata": {},
     "outputs": [
      {
       "output_type": "stream",
       "stream": "stdout",
       "text": [
        "             precision    recall  f1-score   support\n",
        "\n",
        "        0.0       0.96      0.95      0.95       381\n",
        "        1.0       0.17      0.20      0.19        20\n",
        "\n",
        "avg / total       0.92      0.91      0.92       401\n",
        "\n"
       ]
      }
     ],
     "prompt_number": 116
    },
    {
     "cell_type": "code",
     "collapsed": false,
     "input": [
      "#Test classifier with best hyper parameters on Holdout sample\n",
      "fpr, tpr, thresholds = roc_curve(Y_holdout, clf.predict_proba(X_holdout)[:,1])\n",
      "roc_auc = auc(fpr, tpr)\n",
      "plt.plot(fpr, tpr, color=\"g\", label= ' (AUC = %0.2f)' % roc_auc)\n",
      "plt.plot([0, 1], [0, 1], 'k--')\n",
      "plt.xlim([0.0, 1.0])\n",
      "plt.ylim([0.0, 1.0])\n",
      "plt.xlabel('FPR')\n",
      "plt.ylabel('TPR')\n",
      "plt.title('ROC for proxy regression \\n Version 1 (bin1 is target, bin3 is proxy)')\n",
      "plt.legend(loc=\"lower right\")\n",
      "plt.savefig(\"figures/Roc_version_1_c.pdf\")"
     ],
     "language": "python",
     "metadata": {},
     "outputs": [
      {
       "metadata": {},
       "output_type": "display_data",
       "png": "[encoded data removed]",
       "text": [
        "<matplotlib.figure.Figure at 0x10e1136d0>"
       ]
      }
     ],
     "prompt_number": 117
    },
    {
     "cell_type": "heading",
     "level": 2,
     "metadata": {},
     "source": [
      "Version 2"
     ]
    },
    {
     "cell_type": "code",
     "collapsed": false,
     "input": [
      "\n",
      "def meanAUCCrossValidationForProxy(X, Y_s, Y, classifier, num_folds=5):\n",
      "    cross_valdation_obj = KFold(n=X.shape[0], n_folds = num_folds, random_state=42)\n",
      "    aucs = []\n",
      "    for train_index, test_index in cross_valdation_obj:\n",
      "        \n",
      "        #train on proxy variable\n",
      "        X_train = X.iloc[train_index]\n",
      "        Y_s_train = Y_s.iloc[train_index]\n",
      "\n",
      "        #fine tune hyper parameters with target variable\n",
      "        X_test = X.iloc[test_index]\n",
      "        Y_test = Y_s.iloc[test_index]\n",
      "       \n",
      "        scores = classifier.fit(X_train, Y_s_train).predict_proba(X_test)[:,1] # TODO use .decision_function(X_test)? seems to work out the same\n",
      "        auc = roc_auc_score(Y_test, scores)\n",
      "        aucs.append(auc)\n",
      "\n",
      "    return np.mean(aucs)\n",
      "\n",
      "\n",
      "def BestAUCLogisiticRegressionForProxy(X_train, Y_s_train, Y_train, regularization_type='l2'):\n",
      "    logistic_regression_params = [10**i for i in range(-3,7)] + [1e30]\n",
      "    best_c = None\n",
      "    best_auc = None\n",
      "\n",
      "    for c in logistic_regression_params:\n",
      "        classifier = linear_model.LogisticRegression(C=c, penalty=regularization_type) \n",
      "        auc = meanAUCCrossValidationForProxy(X_train,Y_s_train, Y_train, classifier)\n",
      "        if not best_c or best_auc < auc:\n",
      "            best_c = c\n",
      "            best_auc = auc\n",
      "    print 'best C for logistic regression', best_c, 'results in AUC', best_auc\n",
      "    classifier = linear_model.LogisticRegression(C=best_c, penalty=regularization_type)\n",
      "    return classifier.fit(X_train, Y_train)\n",
      "\n",
      "\n"
     ],
     "language": "python",
     "metadata": {},
     "outputs": [],
     "prompt_number": 118
    },
    {
     "cell_type": "code",
     "collapsed": false,
     "input": [
      "X = X_train_test\n",
      "Y = Y_train_test\n",
      "Y_s = Y_s_train_test\n",
      "\n",
      "clf2 = BestAUCLogisiticRegressionForProxy(X, Y_s, Y,regularization_type='l2')\n"
     ],
     "language": "python",
     "metadata": {},
     "outputs": [
      {
       "output_type": "stream",
       "stream": "stdout",
       "text": [
        "best C for logistic regression 0.1 results in AUC 0.606527590847\n"
       ]
      }
     ],
     "prompt_number": 119
    },
    {
     "cell_type": "code",
     "collapsed": false,
     "input": [
      "# evaluate AUC for Y\n",
      "AUC_target_2 = roc_auc_score(y_true = Y_holdout, y_score = clf2.predict_proba(X_holdout)[:,1])\n",
      "\n",
      "# evaluate AUC for Y_s. as a check of how informative the model is\n",
      "AUC_proxy_2 = roc_auc_score(y_true = Y_s_holdout, y_score = clf2.predict_proba(X_holdout)[:,1])\n",
      "\n",
      "print \"AUC_target\" , AUC_target_2\n",
      "print \"AUC_Proxy\", AUC_proxy_2"
     ],
     "language": "python",
     "metadata": {},
     "outputs": [
      {
       "output_type": "stream",
       "stream": "stdout",
       "text": [
        "AUC_target 0.716141732283\n",
        "AUC_Proxy 0.626244106862\n"
       ]
      }
     ],
     "prompt_number": 120
    },
    {
     "cell_type": "code",
     "collapsed": false,
     "input": [
      "print metrics.classification_report(Y_holdout,clf2.predict(X_holdout))"
     ],
     "language": "python",
     "metadata": {},
     "outputs": [
      {
       "output_type": "stream",
       "stream": "stdout",
       "text": [
        "             precision    recall  f1-score   support\n",
        "\n",
        "        0.0       0.95      0.99      0.97       381\n",
        "        1.0       0.25      0.05      0.08        20\n",
        "\n",
        "avg / total       0.92      0.95      0.93       401\n",
        "\n"
       ]
      }
     ],
     "prompt_number": 121
    },
    {
     "cell_type": "code",
     "collapsed": false,
     "input": [
      "#Test classifier with best hyper parameters on Holdout sample\n",
      "\n",
      "fpr2, tpr2, thresholds = roc_curve(Y_holdout, clf2.predict_proba(X_holdout)[:,1])\n",
      "roc_auc2 = auc(fpr2, tpr2)\n",
      "#c2 = (np.random.rand(), np.random.rand(), np.random.rand())\n",
      "plt.plot(fpr2, tpr2, color=\"r\", label= ' (AUC = %0.2f)' % roc_auc2)\n",
      "\n",
      "plt.plot([0, 1], [0, 1], 'k--')\n",
      "plt.xlim([0.0, 1.0])\n",
      "plt.ylim([0.0, 1.0])\n",
      "plt.xlabel('FPR')\n",
      "plt.ylabel('TPR')\n",
      "plt.title('ROC for proxy regression \\n Version 2 (bin1 is target, bin3 is proxy)')\n",
      "plt.legend(loc=\"lower right\")\n",
      "plt.savefig(\"figures/Roc_version_2c.pdf\")\n"
     ],
     "language": "python",
     "metadata": {},
     "outputs": [
      {
       "metadata": {},
       "output_type": "display_data",
       "png": "[encoded data removed]",
       "text": [
        "<matplotlib.figure.Figure at 0x10ce827d0>"
       ]
      }
     ],
     "prompt_number": 122
    },
    {
     "cell_type": "code",
     "collapsed": false,
     "input": [
      "#Test classifier with best hyper parameters on Holdout sample\n",
      "fpr, tpr, thresholds = roc_curve(Y_holdout, clf.predict_proba(X_holdout)[:,1])\n",
      "roc_auc = auc(fpr, tpr)\n",
      "\n",
      "plt.plot(fpr, tpr, color=\"g\", label= ' Version 1 (AUC = %0.2f)' % roc_auc)\n",
      "\n",
      "fpr2, tpr2, thresholds = roc_curve(Y_holdout, clf2.predict_proba(X_holdout)[:,1])\n",
      "roc_auc2 = auc(fpr2, tpr2)\n",
      "plt.plot(fpr2, tpr2, color=\"r\", label= 'Version 2 (AUC = %0.2f)' % roc_auc2)\n",
      "\n",
      "plt.plot([0, 1], [0, 1], 'k--')\n",
      "plt.xlim([0.0, 1.0])\n",
      "plt.ylim([0.0, 1.0])\n",
      "plt.xlabel('FPR')\n",
      "plt.ylabel('TPR')\n",
      "plt.title('ROC (bin1 is target, bin3 is proxy)')\n",
      "plt.legend(loc=\"lower right\")\n",
      "\n",
      "plt.savefig(\"figures/Roc_c.pdf\")\n"
     ],
     "language": "python",
     "metadata": {},
     "outputs": [
      {
       "metadata": {},
       "output_type": "display_data",
       "png": "[encoded data removed]",
       "text": [
        "<matplotlib.figure.Figure at 0x10ccb2250>"
       ]
      }
     ],
     "prompt_number": 123
    },
    {
     "cell_type": "code",
     "collapsed": false,
     "input": [
      "'''\n",
      "def multiple_evals(num_of_evals):\n",
      "    split_indices_train_test = []\n",
      "    split_indices_holdout = []\n",
      "    for _ in xrange(num_of_evals):\n",
      "        train_test_ix, holdout_ix = data_utils.splitTestTrainIndicesWithProxy(Proxy_df, target_column_name, \n",
      "                                                           proxy_column_name, train_size = 0.8)\n",
      "        split_indices_train_test.append(train_test_ix)\n",
      "        split_indices_holdout.append(holdout_ix)\n",
      "\n",
      "    return split_indices_train_test, split_indices_holdout\n",
      "\n",
      "\n",
      "indices_list = multiple_evals(num_of_evals = 5)\n",
      "len(t[0])\n",
      "'''\n"
     ],
     "language": "python",
     "metadata": {},
     "outputs": [
      {
       "metadata": {},
       "output_type": "pyout",
       "prompt_number": 88,
       "text": [
        "5"
       ]
      }
     ],
     "prompt_number": 88
    },
    {
     "cell_type": "code",
     "collapsed": false,
     "input": [
      "'''def run_multiple_times(indices_list, num_of_evals):\n",
      "    for i in xrange(num_of_evals):\n",
      "        X_train_test, X_holdout = X.ix[train_test_ix], X.ix[holdout_ix]\n",
      "        Y_train_test, Y_holdout = Y.ix[train_test_ix], Y.ix[holdout_ix]\n",
      "        Y_s_train_test, Y_s_holdout = Y_s.ix[train_test_ix], Y_s.ix[holdout_ix]'''"
     ],
     "language": "python",
     "metadata": {},
     "outputs": [],
     "prompt_number": 56
    },
    {
     "cell_type": "code",
     "collapsed": false,
     "input": [],
     "language": "python",
     "metadata": {},
     "outputs": [],
     "prompt_number": 88
    },
    {
     "cell_type": "code",
     "collapsed": false,
     "input": [],
     "language": "python",
     "metadata": {},
     "outputs": []
    }
   ],
   "metadata": {}
  }
 ]
}