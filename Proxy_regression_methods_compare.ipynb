{
 "metadata": {
  "name": "",
  "signature": "sha256:65908b5b5bbf1a7b888f902358e7846cbc27bb21e15d7966cc16c3f5a7e5c0ac"
 },
 "nbformat": 3,
 "nbformat_minor": 0,
 "worksheets": [
  {
   "cells": [
    {
     "cell_type": "code",
     "collapsed": false,
     "input": [
      "%matplotlib inline\n",
      "import sys\n",
      "sys.path.append('src')\n",
      "sys.path.append('data')\n",
      "\n",
      "import numpy as np\n",
      "import pandas as pd\n",
      "import matplotlib.pyplot as plt\n",
      "\n",
      "import data_utils\n",
      "import binning_utils\n",
      "import hai_data_cleanup\n",
      "import merge_data\n",
      "import classifier\n",
      "reload(merge_data)\n",
      "reload(data_utils)\n",
      "reload(binning_utils)\n",
      "reload(hai_data_cleanup)\n",
      "reload(classifier)\n",
      "from sklearn import linear_model\n",
      "from sklearn.cross_validation import train_test_split\n",
      "from sklearn.metrics import roc_auc_score,roc_curve, auc\n",
      "\n",
      "from sklearn.cross_validation import KFold\n",
      "#from sets import Set"
     ],
     "language": "python",
     "metadata": {},
     "outputs": [],
     "prompt_number": 57
    },
    {
     "cell_type": "code",
     "collapsed": false,
     "input": [
      "Proxy_df = merge_data.mergeAllTheThingsForProxy(binning_utils.binByLabel, binning_utils.binByScore1)"
     ],
     "language": "python",
     "metadata": {},
     "outputs": [],
     "prompt_number": 58
    },
    {
     "cell_type": "code",
     "collapsed": false,
     "input": [],
     "language": "python",
     "metadata": {},
     "outputs": [],
     "prompt_number": 59
    },
    {
     "cell_type": "code",
     "collapsed": false,
     "input": [],
     "language": "python",
     "metadata": {},
     "outputs": [
      {
       "metadata": {},
       "output_type": "pyout",
       "prompt_number": 60,
       "text": [
        "\"from pandas.util.testing import assert_frame_equal\\n\\nassert_frame_equal(t, t2)\\n\\ntry:\\n    assert_frame_equal(t, t2)\\n    print True\\nexcept:  # appeantly AssertionError doesn't catch all\\n    print False\\n\""
       ]
      }
     ],
     "prompt_number": 60
    },
    {
     "cell_type": "code",
     "collapsed": false,
     "input": [],
     "language": "python",
     "metadata": {},
     "outputs": [],
     "prompt_number": 60
    },
    {
     "cell_type": "markdown",
     "metadata": {},
     "source": [
      "Proxy regression cross validation version 1.:\n",
      "\n",
      "    1) we split the data into sub_DF_a = train+test. and sub_DF_b = holdout data.\n",
      "    2) we perform cross valiation on sub_DF_a, in each iteration of the kfold training on the proxy variable and testing on the proxy variable.\n",
      "    3) evaluate final perforance on target variable in the holdout set.\n",
      "\n",
      "Proxy regression cross validation version 2.:\n",
      "\n",
      "    1) we split the data into sub_DF_a = train+test. and sub_DF_b = holdout data.\n",
      "    2) we perform cross valiation on sub_DF_a, in each iteration of the kfold training on the proxy variable and testing on the target variable.\n",
      "    3) evaluate final perforance on target variable in the holdout set."
     ]
    },
    {
     "cell_type": "heading",
     "level": 3,
     "metadata": {},
     "source": [
      "Version 1"
     ]
    },
    {
     "cell_type": "code",
     "collapsed": false,
     "input": [
      "#Proxy_df.columns"
     ],
     "language": "python",
     "metadata": {},
     "outputs": [],
     "prompt_number": 61
    },
    {
     "cell_type": "code",
     "collapsed": false,
     "input": [],
     "language": "python",
     "metadata": {},
     "outputs": [],
     "prompt_number": 61
    },
    {
     "cell_type": "code",
     "collapsed": false,
     "input": [
      "#set up consistant X, Y(target) and Y_s(proxy) for all following analysis\n",
      "proxy_column_name = 'Bin 2013'\n",
      "target_column_name = 'Bin 2014'\n",
      "\n",
      "Y = Proxy_df[target_column_name]\n",
      "Y_s = Proxy_df[proxy_column_name] \n",
      "X = Proxy_df.drop([proxy_column_name,target_column_name],axis = 1)\n",
      "\n",
      "train_test_ix, holdout_ix = data_utils.splitTestTrainIndicesWithProxy(Proxy_df, target_column_name, \n",
      "                                                   proxy_column_name, train_size = 0.8)\n",
      "X_train_test, X_holdout = X.ix[train_test_ix], X.ix[holdout_ix]\n",
      "Y_train_test, Y_holdout = Y.ix[train_test_ix], Y.ix[holdout_ix]\n",
      "Y_s_train_test, Y_s_holdout = Y_s.ix[train_test_ix], Y_s.ix[holdout_ix]\n",
      "\n",
      "# we don't touch the holdout until the very end."
     ],
     "language": "python",
     "metadata": {},
     "outputs": [],
     "prompt_number": 62
    },
    {
     "cell_type": "code",
     "collapsed": false,
     "input": [
      "#we perform cross valiation on sub_DF_a, in each iteration of the kfold training on the proxy variable and \n",
      "#testing on the proxy variable.\n",
      "# run regular k folds. since we are using the proxy which has a lot of positives, \n",
      "#then we don't need to worry about min positives.\n",
      "\n",
      "X = X_train_test\n",
      "Y = Y_s_train_test\n",
      "clf = classifier.BestAUCLogisiticRegression(X, Y, regularization_type='l2')\n",
      "# we get back a classifie that's already bin fit on all the training data "
     ],
     "language": "python",
     "metadata": {},
     "outputs": [
      {
       "output_type": "stream",
       "stream": "stdout",
       "text": [
        "best C for logistic regression 1 results in AUC 0.589148513223\n"
       ]
      }
     ],
     "prompt_number": 63
    },
    {
     "cell_type": "code",
     "collapsed": false,
     "input": [
      "# evaluate AUC for Y\n",
      "AUC_target = roc_auc_score(y_true = Y_holdout, y_score = clf.predict_proba(X_holdout)[:,1])\n",
      "\n",
      "# evaluate AUC for Y_s. as a check of how informative the model is\n",
      "AUC_proxy = roc_auc_score(y_true = Y_s_holdout, y_score = clf.predict_proba(X_holdout)[:,1])\n",
      "\n",
      "print \"AUC_target\" , AUC_target\n",
      "print \"AUC_Proxy\", AUC_proxy\n"
     ],
     "language": "python",
     "metadata": {},
     "outputs": [
      {
       "output_type": "stream",
       "stream": "stdout",
       "text": [
        "AUC_target 0.787783375315\n",
        "AUC_Proxy 0.609671848014\n"
       ]
      }
     ],
     "prompt_number": 64
    },
    {
     "cell_type": "code",
     "collapsed": false,
     "input": [
      "#Test classifier with best hyper parameters on Holdout sample\n",
      "fpr, tpr, thresholds = roc_curve(Y_holdout, clf.predict_proba(X_holdout)[:,1])\n",
      "roc_auc = auc(fpr, tpr)\n",
      "c = (np.random.rand(), np.random.rand(), np.random.rand())\n",
      "plt.plot(fpr, tpr, color=c, label= ' (AUC = %0.2f)' % roc_auc)\n",
      "plt.plot([0, 1], [0, 1], 'k--')\n",
      "plt.xlim([0.0, 1.0])\n",
      "plt.ylim([0.0, 1.0])\n",
      "plt.xlabel('FPR')\n",
      "plt.ylabel('TPR')\n",
      "plt.title('ROC')\n",
      "plt.legend(loc=\"lower right\")"
     ],
     "language": "python",
     "metadata": {},
     "outputs": [
      {
       "metadata": {},
       "output_type": "pyout",
       "prompt_number": 65,
       "text": [
        "<matplotlib.legend.Legend at 0x10b2890d0>"
       ]
      },
      {
       "metadata": {},
       "output_type": "display_data",
       "png": "[encoded data removed]",
       "text": [
        "<matplotlib.figure.Figure at 0x10b0aa590>"
       ]
      }
     ],
     "prompt_number": 65
    },
    {
     "cell_type": "heading",
     "level": 2,
     "metadata": {},
     "source": [
      "Version 2"
     ]
    },
    {
     "cell_type": "code",
     "collapsed": false,
     "input": [
      "\n",
      "def meanAUCCrossValidationForProxy(X, Y_s, Y, classifier, num_folds=5):\n",
      "    cross_valdation_obj = KFold(n=X.shape[0], n_folds = num_folds, random_state=42)\n",
      "    aucs = []\n",
      "    for train_index, test_index in cross_valdation_obj:\n",
      "        \n",
      "        #train on proxy variable\n",
      "        X_train = X.iloc[train_index]\n",
      "        Y_s_train = Y_s.iloc[train_index]\n",
      "\n",
      "        #fine tune hyper parameters with target variable\n",
      "        X_test = X.iloc[test_index]\n",
      "        Y_test = Y_s.iloc[test_index]\n",
      "       \n",
      "        scores = classifier.fit(X_train, Y_s_train).predict_proba(X_test)[:,1] # TODO use .decision_function(X_test)? seems to work out the same\n",
      "        auc = roc_auc_score(Y_test, scores)\n",
      "        aucs.append(auc)\n",
      "\n",
      "    return np.mean(aucs)\n",
      "\n",
      "\n",
      "def BestAUCLogisiticRegressionForProxy(X_train, Y_s_train, Y_train, regularization_type='l2'):\n",
      "    logistic_regression_params = [10**i for i in range(-3,7)] + [1e30]\n",
      "    best_c = None\n",
      "    best_auc = None\n",
      "\n",
      "    for c in logistic_regression_params:\n",
      "        classifier = linear_model.LogisticRegression(C=c, penalty=regularization_type) \n",
      "        auc = meanAUCCrossValidationForProxy(X_train,Y_s_train, Y_train, classifier)\n",
      "        if not best_c or best_auc < auc:\n",
      "            best_c = c\n",
      "            best_auc = auc\n",
      "    print 'best C for logistic regression', best_c, 'results in AUC', best_auc\n",
      "    classifier = linear_model.LogisticRegression(C=best_c, penalty=regularization_type)\n",
      "    return classifier.fit(X_train, Y_train)\n",
      "\n",
      "\n"
     ],
     "language": "python",
     "metadata": {},
     "outputs": [],
     "prompt_number": 66
    },
    {
     "cell_type": "code",
     "collapsed": false,
     "input": [
      "X = X_train_test\n",
      "Y = Y_train_test\n",
      "Y_s = Y_s_train_test\n",
      "\n",
      "clf2 = BestAUCLogisiticRegressionForProxy(X, Y_s, Y,regularization_type='l2')\n",
      "#meanAUCCrossValidationForProxy(X, Y_s, Y, classifier, num_folds=5)"
     ],
     "language": "python",
     "metadata": {},
     "outputs": [
      {
       "output_type": "stream",
       "stream": "stdout",
       "text": [
        "best C for logistic regression 1 results in AUC 0.589148513223\n"
       ]
      }
     ],
     "prompt_number": 67
    },
    {
     "cell_type": "code",
     "collapsed": false,
     "input": [
      "# evaluate AUC for Y\n",
      "AUC_target_2 = roc_auc_score(y_true = Y_holdout, y_score = clf2.predict_proba(X_holdout)[:,1])\n",
      "\n",
      "# evaluate AUC for Y_s. as a check of how informative the model is\n",
      "AUC_proxy_2 = roc_auc_score(y_true = Y_s_holdout, y_score = clf2.predict_proba(X_holdout)[:,1])\n",
      "\n",
      "print \"AUC_target\" , AUC_target_2\n",
      "print \"AUC_Proxy\", AUC_proxy_2"
     ],
     "language": "python",
     "metadata": {},
     "outputs": [
      {
       "output_type": "stream",
       "stream": "stdout",
       "text": [
        "AUC_target 0.751889168766\n",
        "AUC_Proxy 0.626943005181\n"
       ]
      }
     ],
     "prompt_number": 68
    },
    {
     "cell_type": "code",
     "collapsed": false,
     "input": [
      "#Test classifier with best hyper parameters on Holdout sample\n",
      "fpr2, tpr2, thresholds = roc_curve(Y_holdout, clf2.predict_proba(X_holdout)[:,1])\n",
      "roc_auc = auc(fpr2, tpr2)\n",
      "c = (np.random.rand(), np.random.rand(), np.random.rand())\n",
      "plt.plot(fpr, tpr, color=c, label= ' (AUC = %0.2f)' % roc_auc)\n",
      "plt.plot([0, 1], [0, 1], 'k--')\n",
      "plt.xlim([0.0, 1.0])\n",
      "plt.ylim([0.0, 1.0])\n",
      "plt.xlabel('FPR')\n",
      "plt.ylabel('TPR')\n",
      "plt.title('ROC')\n",
      "plt.legend(loc=\"lower right\")"
     ],
     "language": "python",
     "metadata": {},
     "outputs": [
      {
       "metadata": {},
       "output_type": "pyout",
       "prompt_number": 69,
       "text": [
        "<matplotlib.legend.Legend at 0x10ab1ccd0>"
       ]
      },
      {
       "metadata": {},
       "output_type": "display_data",
       "png": "[encoded data removed]",
       "text": [
        "<matplotlib.figure.Figure at 0x10a9c1b10>"
       ]
      }
     ],
     "prompt_number": 69
    },
    {
     "cell_type": "code",
     "collapsed": false,
     "input": [],
     "language": "python",
     "metadata": {},
     "outputs": [],
     "prompt_number": 69
    },
    {
     "cell_type": "code",
     "collapsed": false,
     "input": [],
     "language": "python",
     "metadata": {},
     "outputs": []
    },
    {
     "cell_type": "code",
     "collapsed": false,
     "input": [],
     "language": "python",
     "metadata": {},
     "outputs": [],
     "prompt_number": 56
    },
    {
     "cell_type": "code",
     "collapsed": false,
     "input": [],
     "language": "python",
     "metadata": {},
     "outputs": [],
     "prompt_number": 56
    },
    {
     "cell_type": "code",
     "collapsed": false,
     "input": [],
     "language": "python",
     "metadata": {},
     "outputs": []
    }
   ],
   "metadata": {}
  }
 ]
}