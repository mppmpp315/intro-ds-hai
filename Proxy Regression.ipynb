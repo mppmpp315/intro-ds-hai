{
 "metadata": {
  "name": "",
  "signature": "sha256:7d04bf8a56948364d48839c5faad8a83409226ad1ad5ebeb55486fa878b39f73"
 },
 "nbformat": 3,
 "nbformat_minor": 0,
 "worksheets": [
  {
   "cells": [
    {
     "cell_type": "heading",
     "level": 1,
     "metadata": {},
     "source": [
      "This Notebook will expirement with Proxy Regression "
     ]
    },
    {
     "cell_type": "code",
     "collapsed": false,
     "input": [
      "%matplotlib inline\n",
      "import sys\n",
      "sys.path.append('src')\n",
      "sys.path.append('data')\n",
      "\n",
      "import numpy as np\n",
      "import pandas as pd\n",
      "import matplotlib.pyplot as plt\n",
      "\n",
      "import data_utils\n",
      "import hai_data_cleanup\n",
      "import merge_data\n",
      "reload(merge_data)\n",
      "\n",
      "\n",
      "from sklearn import linear_model\n",
      "from sklearn.cross_validation import train_test_split\n",
      "from sklearn.metrics import roc_auc_score\n",
      "from sets import Set"
     ],
     "language": "python",
     "metadata": {},
     "outputs": [],
     "prompt_number": 1
    },
    {
     "cell_type": "heading",
     "level": 4,
     "metadata": {},
     "source": [
      "Overview"
     ]
    },
    {
     "cell_type": "markdown",
     "metadata": {},
     "source": [
      "there will be 2 types of proxy regressions:\n",
      "1) linear regression. attempt to predict the variable Y using Y_s when Y_s is continuous.\n",
      "this will require binning the results of the prediction.\n",
      "\n",
      "2) logistic regression. attempt to predict variable Y using Y_s when is binary.\n",
      "    "
     ]
    },
    {
     "cell_type": "code",
     "collapsed": false,
     "input": [
      "DF = merge_data.mergeAllTheThings()"
     ],
     "language": "python",
     "metadata": {},
     "outputs": [
      {
       "output_type": "stream",
       "stream": "stdout",
       "text": [
        "             Spending_per_patient_2012  Spending_per_patient_2013\n",
        "Provider ID                                                      \n",
        "10001                             0.99                       1.00\n",
        "10005                             1.02                       1.00\n",
        "10006                             0.98                       1.00\n",
        "10007                             0.98                       1.00\n",
        "10008                             1.02                       0.99\n"
       ]
      }
     ],
     "prompt_number": 2
    },
    {
     "cell_type": "code",
     "collapsed": false,
     "input": [
      "DF.head()"
     ],
     "language": "python",
     "metadata": {},
     "outputs": [
      {
       "html": [
        "<div style=\"max-height:1000px;max-width:1500px;overflow:auto;\">\n",
        "<table border=\"1\" class=\"dataframe\">\n",
        "  <thead>\n",
        "    <tr style=\"text-align: right;\">\n",
        "      <th></th>\n",
        "      <th>City</th>\n",
        "      <th>State</th>\n",
        "      <th>Bin 2014</th>\n",
        "      <th>Bin 2013</th>\n",
        "      <th>Bin 2012</th>\n",
        "      <th>SCIP_INF_1_1</th>\n",
        "      <th>SCIP_INF_2_1</th>\n",
        "      <th>SCIP_INF_3_1</th>\n",
        "      <th>SCIP_INF_10_1</th>\n",
        "      <th>SCIP_INF_1_2</th>\n",
        "      <th>SCIP_INF_2_2</th>\n",
        "      <th>SCIP_INF_3_2</th>\n",
        "      <th>SCIP_INF_10_2</th>\n",
        "      <th>Spending_per_patient_2012</th>\n",
        "      <th>Spending_per_patient_2013</th>\n",
        "    </tr>\n",
        "    <tr>\n",
        "      <th>Provider ID</th>\n",
        "      <th></th>\n",
        "      <th></th>\n",
        "      <th></th>\n",
        "      <th></th>\n",
        "      <th></th>\n",
        "      <th></th>\n",
        "      <th></th>\n",
        "      <th></th>\n",
        "      <th></th>\n",
        "      <th></th>\n",
        "      <th></th>\n",
        "      <th></th>\n",
        "      <th></th>\n",
        "      <th></th>\n",
        "      <th></th>\n",
        "    </tr>\n",
        "  </thead>\n",
        "  <tbody>\n",
        "    <tr>\n",
        "      <th>10001</th>\n",
        "      <td> 250</td>\n",
        "      <td> 1</td>\n",
        "      <td> 0</td>\n",
        "      <td> 0</td>\n",
        "      <td> 0</td>\n",
        "      <td>  99</td>\n",
        "      <td> 100</td>\n",
        "      <td> 93</td>\n",
        "      <td> 100</td>\n",
        "      <td>  99</td>\n",
        "      <td> 100</td>\n",
        "      <td>  95</td>\n",
        "      <td> 100</td>\n",
        "      <td> 0.99</td>\n",
        "      <td> 1.00</td>\n",
        "    </tr>\n",
        "    <tr>\n",
        "      <th>10005</th>\n",
        "      <td>  99</td>\n",
        "      <td> 1</td>\n",
        "      <td> 0</td>\n",
        "      <td> 0</td>\n",
        "      <td> 0</td>\n",
        "      <td>  97</td>\n",
        "      <td>  99</td>\n",
        "      <td> 98</td>\n",
        "      <td> 100</td>\n",
        "      <td>  99</td>\n",
        "      <td>  98</td>\n",
        "      <td> 100</td>\n",
        "      <td> 100</td>\n",
        "      <td> 1.02</td>\n",
        "      <td> 1.00</td>\n",
        "    </tr>\n",
        "    <tr>\n",
        "      <th>10006</th>\n",
        "      <td> 327</td>\n",
        "      <td> 1</td>\n",
        "      <td> 0</td>\n",
        "      <td> 0</td>\n",
        "      <td> 0</td>\n",
        "      <td> 100</td>\n",
        "      <td>  99</td>\n",
        "      <td> 99</td>\n",
        "      <td> 100</td>\n",
        "      <td> 100</td>\n",
        "      <td>  98</td>\n",
        "      <td>  97</td>\n",
        "      <td> 100</td>\n",
        "      <td> 0.98</td>\n",
        "      <td> 1.00</td>\n",
        "    </tr>\n",
        "    <tr>\n",
        "      <th>10011</th>\n",
        "      <td>  91</td>\n",
        "      <td> 1</td>\n",
        "      <td> 0</td>\n",
        "      <td> 0</td>\n",
        "      <td> 0</td>\n",
        "      <td> 100</td>\n",
        "      <td>  98</td>\n",
        "      <td> 97</td>\n",
        "      <td> 100</td>\n",
        "      <td> 100</td>\n",
        "      <td>  98</td>\n",
        "      <td>  97</td>\n",
        "      <td> 100</td>\n",
        "      <td> 1.00</td>\n",
        "      <td> 0.98</td>\n",
        "    </tr>\n",
        "    <tr>\n",
        "      <th>10016</th>\n",
        "      <td>   7</td>\n",
        "      <td> 1</td>\n",
        "      <td> 0</td>\n",
        "      <td> 0</td>\n",
        "      <td> 0</td>\n",
        "      <td> 100</td>\n",
        "      <td> 100</td>\n",
        "      <td> 99</td>\n",
        "      <td> 100</td>\n",
        "      <td> 100</td>\n",
        "      <td> 100</td>\n",
        "      <td>  99</td>\n",
        "      <td> 100</td>\n",
        "      <td> 0.98</td>\n",
        "      <td> 1.01</td>\n",
        "    </tr>\n",
        "  </tbody>\n",
        "</table>\n",
        "</div>"
       ],
       "metadata": {},
       "output_type": "pyout",
       "prompt_number": 3,
       "text": [
        "             City  State  Bin 2014  Bin 2013  Bin 2012  SCIP_INF_1_1  \\\n",
        "Provider ID                                                            \n",
        "10001         250      1         0         0         0            99   \n",
        "10005          99      1         0         0         0            97   \n",
        "10006         327      1         0         0         0           100   \n",
        "10011          91      1         0         0         0           100   \n",
        "10016           7      1         0         0         0           100   \n",
        "\n",
        "             SCIP_INF_2_1  SCIP_INF_3_1  SCIP_INF_10_1  SCIP_INF_1_2  \\\n",
        "Provider ID                                                            \n",
        "10001                 100            93            100            99   \n",
        "10005                  99            98            100            99   \n",
        "10006                  99            99            100           100   \n",
        "10011                  98            97            100           100   \n",
        "10016                 100            99            100           100   \n",
        "\n",
        "             SCIP_INF_2_2  SCIP_INF_3_2  SCIP_INF_10_2  \\\n",
        "Provider ID                                              \n",
        "10001                 100            95            100   \n",
        "10005                  98           100            100   \n",
        "10006                  98            97            100   \n",
        "10011                  98            97            100   \n",
        "10016                 100            99            100   \n",
        "\n",
        "             Spending_per_patient_2012  Spending_per_patient_2013  \n",
        "Provider ID                                                        \n",
        "10001                             0.99                       1.00  \n",
        "10005                             1.02                       1.00  \n",
        "10006                             0.98                       1.00  \n",
        "10011                             1.00                       0.98  \n",
        "10016                             0.98                       1.01  "
       ]
      }
     ],
     "prompt_number": 3
    },
    {
     "cell_type": "code",
     "collapsed": false,
     "input": [
      "working_df=DF.drop(['City', 'State'],axis = 1)"
     ],
     "language": "python",
     "metadata": {},
     "outputs": [],
     "prompt_number": 4
    },
    {
     "cell_type": "markdown",
     "metadata": {},
     "source": [
      "**Our Very Own sklearn.cross_validation.train_test_split.**\n",
      "\n",
      "This function because:\n",
      "    a) sklearn.cross_validation.train_test_split, returns a ndarrays so we don't know the indices of the split so we can't use the indices to split both Y and Y_s\n",
      "    b) we want to make sure that we have at least a minimun number of positives in both training and testing data"
     ]
    },
    {
     "cell_type": "code",
     "collapsed": false,
     "input": [
      "def splitTestTrainIndices(DF , target_column_name, proxy_column_name, fraction_of_df = 0.75, min_frac_positive = 0.75):\n",
      "    \"\"\" This function is splits a DF into \n",
      "    makes sure that there are at least num_of_positives positives in the each chunk so the AUC score makes sense.\n",
      "    \"\"\"\n",
      "    boolean = False\n",
      "    super_set = Set(DF.index)\n",
      "    \n",
      "    #calculate the positives in target and proxy\n",
      "    min_positives_target = np.floor(np.sum(working_df[target_column_name])*min_frac_positive)\n",
      "    min_positives_proxy = np.floor(np.sum(working_df[proxy_column_name])*min_frac_positive)\n",
      "   \n",
      "   \n",
      "    while boolean == False:\n",
      "        train_ix = np.random.choice(DF.index, size= np.floor(fraction_of_df*len(DF.index)), replace=False)\n",
      "        train_ix = Set(train_ix)\n",
      "        test_ix = super_set-train_ix\n",
      "\n",
      "        #calculate number of positives in target\n",
      "        positives_train = DF[target_column_name].ix[train_ix].sum()\n",
      "        positives_test = DF[target_column_name].ix[test_ix].sum()\n",
      "        \n",
      "        #calculate number of positives in proxy\n",
      "        positives_proxy_train = DF[proxy_column_name].ix[train_ix].sum()\n",
      "        positives_proxy_test = DF[proxy_column_name].ix[test_ix].sum()\n",
      "        \n",
      "        #print \"required\", min_positives_target, min_positives_proxy\n",
      "        #print positives_train, positives_test, \"---\", positives_proxy_train, positives_proxy_test\n",
      "        \n",
      "        #make sure the is a minimun amount of positives in training\n",
      "        condition_a = positives_train >= min_positives_target\n",
      "        condition_b = positives_proxy_train >= min_positives_proxy\n",
      "        \n",
      "        #there should be at least 20% of positives in testing, otherwise the AUC cannot be calculated/ will be heavily variable.\n",
      "        condition_c = positives_test >= np.floor(np.sum(working_df[target_column_name])*0.1)\n",
      "        condition_d = positives_proxy_test >= np.floor(np.sum(working_df[proxy_column_name])*0.1)\n",
      "        \n",
      "        #print \"88\", np.floor(np.sum(working_df[target_column_name])*0.2), np.floor(np.sum(working_df[proxy_column_name])*0.2)\n",
      "        \n",
      "        if condition_a and condition_b and condition_c and condition_d:\n",
      "            boolean = True\n",
      "        \n",
      "    #make sure we didn't lose any indices\n",
      "    assert train_ix | test_ix == super_set\n",
      "    \n",
      "    #print positives_train, positives_test, positives_proxy_train, positives_proxy_test\n",
      "    \n",
      "    return train_ix, test_ix\n",
      "\n",
      "\n",
      "\n"
     ],
     "language": "python",
     "metadata": {},
     "outputs": [],
     "prompt_number": 9
    },
    {
     "cell_type": "code",
     "collapsed": false,
     "input": [
      "splitTestTrainIndices(DF = working_df,target_column_name = 'Bin 2014', proxy_column_name = 'Bin 2013' , fraction_of_df = 0.5, min_frac_positive = 0.5)"
     ],
     "language": "python",
     "metadata": {},
     "outputs": [
      {
       "metadata": {},
       "output_type": "pyout",
       "prompt_number": 10,
       "text": [
        "(Set([260096, 520193, 450563, 390079, 490122, 140289, 260104, 260105, 520202, 450571, 260108, 210011, 100014, 260119, 170012, 170013, 60013, 170016, 340001, 260138, 260141, 340014, 340015, 510001, 510007, 170040, 450617, 340027, 220001, 510023, 510024, 520204, 340042, 450231, 450638, 340047, 260176, 260177, 340050, 340051, 450644, 340053, 260183, 140213, 260186, 340061, 510046, 510050, 450661, 340073, 340075, 450668, 450670, 450672, 450674, 450675, 450678, 260216, 510039, 450684, 100047, 340098, 110095, 510085, 80006, 80007, 450697, 170122, 170123, 340109, 450702, 50674, 340115, 340116, 250007, 340123, 450716, 170142, 30085, 340129, 420004, 100038, 340141, 340145, 420018, 340147, 450743, 250040, 420026, 50549, 170176, 360011, 420036, 210049, 250058, 330103, 340173, 420048, 330104, 420051, 170197, 450775, 250072, 440015, 420065, 420067, 440017, 420078, 420079, 250096, 450801, 420082, 100051, 420086, 390185, 340010, 360354, 450820, 450822, 100055, 240002, 330003, 330005, 160024, 330009, 250138, 330011, 450844, 330013, 330014, 450847, 450848, 160033, 330023, 330028, 160045, 330030, 500016, 450869, 160057, 500026, 450271, 330044, 330045, 500030, 160064, 450885, 670023, 330056, 500041, 450890, 330059, 330061, 160079, 510008, 500050, 330067, 500054, 330127, 670044, 330078, 670053, 670060, 500077, 160110, 100073, 500088, 70036, 330106, 330108, 670077, 30101, 70017, 70018, 240004, 240010, 70027, 500108, 450718, 70031, 70033, 160146, 70035, 410004, 160153, 410009, 410010, 330140, 440048, 240036, 520100, 140224, 440049, 340039, 110150, 230130, 330158, 330160, 340040, 330164, 500150, 500151, 240057, 330180, 330181, 240078, 330191, 100168, 330195, 330196, 50254, 330198, 330199, 330201, 330202, 450639, 240093, 330208, 330214, 330218, 330219, 330222, 140029, 330226, 140030, 150008, 330233, 330234, 330239, 330241, 320002, 50603, 150021, 320006, 150023, 150024, 320009, 450647, 140034, 330157, 50073, 320017, 330259, 330261, 490007, 490009, 150042, 490011, 150044, 150046, 150051, 490021, 490022, 330279, 150056, 150059, 330286, 390237, 150065, 490037, 490040, 490042, 210015, 490046, 330304, 490050, 330307, 490052, 150086, 450051, 150089, 380002, 490063, 110008, 240210, 490067, 150100, 320085, 330169, 40036, 330331, 330332, 340069, 150112, 60003, 210022, 60009, 60010, 60012, 490093, 330350, 150128, 50280, 230002, 450862, 30119, 60024, 490110, 60032, 490113, 390032, 50145, 330372, 150149, 490119, 230024, 150154, 230029, 400016, 150162, 230036, 400022, 150169, 330395, 330396, 330397, 230046, 150176, 60065, 230053, 380017, 190236, 400044, 390258, 230066, 110025, 230075, 230077, 230176, 510070, 60104, 110028, 230092, 60112, 170104, 60114, 100131, 390265, 140002, 230117, 210044, 140010, 140011, 400109, 450403, 140015, 310001, 400114, 310003, 230132, 310006, 310008, 280020, 140026, 400124, 190250, 230142, 400127, 310016, 310017, 230146, 310022, 230151, 310024, 450007, 310028, 310029, 140046, 180013, 310032, 310034, 140053, 140100, 310041, 360239, 310044, 310045, 140063, 310048, 310051, 310054, 310057, 230193, 140082, 140083, 140084, 230197, 310070, 80009, 140088, 310074, 150126, 310081, 310083, 310084, 310086, 100151, 310096, 230227, 140116, 140117, 140118, 50009, 310108, 140125, 50014, 310113, 140130, 30103, 330232, 310119, 220008, 50025, 220010, 450023, 180029, 390001, 390002, 140150, 50039, 220024, 390009, 390012, 230269, 140158, 230273, 140164, 230277, 50056, 50058, 390027, 390028, 140174, 50063, 140176, 140179, 50069, 140182, 390039, 230297, 140186, 220060, 50077, 220063, 390048, 390050, 140197, 220070, 220073, 220077, 140206, 220080, 140209, 50099, 50100, 50101, 220086, 50104, 50107, 140223, 390080, 390304, 220100, 220101, 390086, 140231, 220105, 50122, 390091, 50124, 140239, 140240, 50129, 130002, 390101, 50135, 50137, 50138, 390107, 50140, 130013, 220126, 390111, 300001, 140258, 300003, 390116, 50149, 220135, 50153, 390123, 300012, 390127, 50089, 300018, 470003, 390132, 390133, 390137, 150015, 390142, 140288, 390145, 140290, 220163, 410007, 150017, 50191, 390162, 390163, 390164, 330245, 40134, 390114, 500014, 140124, 330055, 250034, 50224, 50226, 390195, 310110, 50230, 50232, 390203, 50236, 50238, 50239, 390211, 40004, 50245, 40007, 50248, 420023, 390222, 390223, 40016, 50024, 210002, 210003, 210004, 210005, 40022, 390233, 40026, 40027, 40029, 520037, 370091, 210018, 210019, 380004, 50278, 380007, 210024, 40042, 210027, 210032, 50289, 380018, 150035, 380020, 40055, 210040, 380025, 380027, 390268, 50026, 40062, 520098, 210048, 50305, 140135, 210057, 500001, 210061, 380047, 50320, 390290, 40084, 390026, 380060, 380061, 50336, 180080, 50414, 390312, 50348, 50350, 50351, 40114, 50359, 390328, 10100, 380091, 170186, 50367, 190027, 380102, 120007, 390256, 50378, 50380, 140251, 110115, 290005, 50390, 290009, 50394, 50396, 460001, 460004, 460005, 460010, 490023, 140252, 450133, 50425, 310010, 290046, 290047, 290053, 50441, 460042, 50444, 440194, 460047, 460052, 50454, 50455, 50457, 30069, 450779, 10006, 220111, 50471, 290012, 250094, 30001, 30002, 30010, 50492, 30013, 190005, 50496, 200001, 50498, 450102, 30023, 30024, 200009, 50506, 50512, 370001, 200024, 50523, 150074, 50526, 370016, 200033, 200034, 450107, 100157, 50534, 30055, 370025, 420071, 30061, 30062, 30064, 390057, 370037, 190015, 390037, 50561, 30083, 50070, 50570, 520087, 150082, 50575, 360003, 50581, 140185, 50586, 190177, 50590, 50757, 420080, 90011, 50597, 50599, 30123, 50604, 370093, 230141, 110004, 110006, 110007, 50616, 110010, 110011, 50324, 50624, 520096, 370114, 280003, 50633, 50636, 110029, 110030, 50641, 110034, 110036, 110038, 280023, 440228, 450010, 450011, 280030, 450015, 110054, 50663, 450029, 110064, 450034, 50771, 450039, 450132, 450042, 280060, 50686, 490069, 50688, 280065, 110083, 110087, 50696, 110089, 450058, 370190, 390061, 280081, 50709, 190041, 110105, 370202, 110107, 20001, 450083, 230019, 50727, 110122, 50732, 110125, 110128, 450097, 190004, 450101, 190006, 460041, 190008, 450484, 50747, 280125, 110143, 190017, 190019, 280132, 50102, 360006, 450119, 190026, 50763, 450124, 50767, 450128, 100012, 450147, 360020, 50773, 190039, 360025, 360027, 190045, 530014, 360035, 360039, 110184, 180010, 230038, 110191, 360052, 360055, 360056, 360059, 360064, 260032, 100176, 360068, 190086, 450184, 360075, 360079, 190098, 450196, 110229, 360086, 450200, 360090, 360091, 100002, 450211, 450213, 100006, 150129, 100008, 160028, 260190, 190125, 450222, 160029, 360112, 100018, 100019, 140233, 100025, 360123, 190144, 270017, 440002, 440006, 100039, 100040, 450558, 100043, 440012, 360141, 360143, 100049, 360147, 100052, 190167, 360155, 100062, 360159, 190176, 360161, 440034, 100067, 100068, 100070, 440039, 450280, 270057, 100076, 100077, 360174, 100080, 450289, 250048, 360179, 360180, 440053, 100088, 190201, 440059, 100092, 190205, 10016, 440065, 100099, 210034, 400001, 440073, 100107, 360066, 100110, 100113, 360211, 100117, 100118, 100121, 450330, 100124, 100125, 100126, 100128, 100130, 50139, 450340, 180005, 360230, 100135, 440104, 100137, 450346, 400007, 180012, 10029, 440111, 450352, 180018, 10035, 110129, 350006, 190263, 10040, 440125, 10046, 350015, 190274, 440133, 360262, 10055, 180040, 50313, 180044, 50146, 150157, 180048, 10065, 450388, 520021, 440150, 100183, 440152, 440156, 10078, 440161, 10083, 10085, 10087, 100200, 450876, 100204, 110226, 100206, 520048, 520051, 100212, 330046, 100220, 360085, 100224, 10113, 520066, 440197, 230156, 100232, 260094, 100234, 520078, 100239, 100242, 520083, 100244, 90005, 230041, 100248, 520089, 10139, 100253, 450462, 180127, 100256, 100258, 100259, 100260, 520102, 230089, 50503, 180141, 150173, 670024, 100276, 260023, 300020, 430016, 60064, 100291, 100296, 450508, 360098, 10023, 50764, 260052, 450518, 50169, 100314, 100319, 520160, 260065, 260068, 450537, 160082, 260081, 180104, 260085, 360234, 330203, 260095]),\n",
        " Set([370234, 260110, 520207, 390147, 50180, 340002, 340004, 260137, 450610, 270003, 340020, 340021, 510006, 340028, 340030, 340032, 330080, 220171, 360118, 510022, 340041, 450634, 510029, 440137, 510031, 450643, 260180, 360212, 450651, 260191, 450656, 260193, 370215, 450659, 450662, 510055, 260200, 270012, 510058, 200039, 450669, 510062, 450237, 670056, 260210, 450677, 510071, 250009, 340090, 340091, 450686, 450688, 80001, 80003, 80004, 340107, 100034, 340113, 340114, 440003, 250004, 450709, 450711, 450713, 340126, 420002, 450723, 340132, 420007, 450730, 340142, 340143, 50179, 450742, 360137, 420027, 170086, 70005, 70006, 340166, 170185, 340171, 450766, 220074, 420049, 450771, 250069, 340183, 170020, 250078, 360144, 250082, 670075, 450788, 420070, 60113, 420073, 250097, 420083, 250100, 420085, 250102, 420087, 250104, 450809, 420091, 180045, 420105, 250123, 430095, 450832, 670031, 330004, 330006, 250141, 500003, 500005, 390225, 450855, 500008, 500011, 500012, 490107, 500015, 30088, 260040, 500021, 520070, 500024, 500025, 160058, 500027, 500031, 160067, 500036, 500039, 330057, 500044, 520139, 70029, 330065, 670034, 500051, 670041, 500058, 210016, 670047, 500064, 670055, 500072, 330090, 100071, 330094, 500079, 70002, 670068, 330101, 330102, 70007, 70010, 70011, 70012, 670079, 70016, 240001, 260179, 70019, 70020, 70022, 330119, 70024, 70025, 140155, 70028, 330125, 330126, 330128, 410001, 70034, 240019, 410005, 500119, 330136, 410011, 410012, 330141, 500129, 250019, 240038, 330153, 450037, 500141, 240047, 330162, 360360, 240053, 330167, 240061, 330175, 330182, 330184, 330185, 240080, 330193, 330194, 330204, 100090, 450358, 30022, 330215, 40020, 240106, 330221, 150002, 240115, 150004, 150005, 150006, 150007, 150009, 150010, 330235, 150012, 330240, 320001, 150018, 320004, 320005, 330246, 150026, 320018, 490004, 320021, 330264, 330267, 140228, 150047, 150048, 490017, 490018, 490020, 110001, 490024, 150058, 330285, 490032, 30093, 490041, 490043, 490044, 490045, 490048, 510048, 330306, 360203, 150084, 150088, 490057, 150090, 490059, 240207, 490066, 490075, 150109, 60001, 330340, 340070, 440081, 60011, 150125, 60014, 60015, 330353, 310038, 230004, 230005, 60022, 60023, 220020, 60027, 60028, 450044, 60030, 60031, 490112, 230017, 60034, 230020, 230021, 150150, 490120, 150153, 310039, 210029, 150161, 400019, 400021, 360163, 490136, 330393, 330394, 360095, 230047, 330401, 440091, 230054, 230059, 210035, 230069, 230070, 380009, 450046, 490077, 60100, 210038, 60103, 390263, 230097, 230099, 60116, 60119, 230104, 230105, 400098, 140007, 140008, 140013, 140018, 310005, 310009, 310011, 310012, 310014, 310015, 480002, 310019, 310021, 140040, 310025, 310027, 250031, 310031, 140048, 140049, 140052, 230165, 140054, 230167, 300023, 140062, 310047, 140065, 310050, 140067, 140068, 210055, 310060, 310061, 140080, 230195, 310073, 140091, 310076, 140095, 140101, 140103, 230216, 360076, 310092, 230222, 110164, 140113, 50002, 40078, 230230, 50007, 50008, 140122, 230236, 50013, 310111, 310112, 50017, 220002, 310075, 230244, 140133, 50022, 250001, 360008, 220011, 220012, 50030, 220015, 450024, 140148, 390006, 50040, 50043, 50045, 230270, 50047, 390016, 140162, 220035, 220036, 50054, 50055, 50057, 340119, 50060, 220046, 140177, 360259, 140180, 140181, 50071, 50072, 390041, 390042, 50075, 50076, 390045, 230302, 50079, 390049, 50082, 30121, 50084, 180038, 220031, 220071, 140200, 140202, 50093, 390063, 140208, 520008, 390066, 140211, 220084, 390070, 50103, 140217, 220090, 50108, 110069, 50112, 390081, 50115, 50116, 50121, 390090, 330231, 50125, 50126, 50127, 50128, 390097, 140242, 340131, 50132, 50133, 390102, 130007, 140250, 390110, 390113, 130018, 390115, 50150, 390119, 50152, 330236, 390044, 130028, 140114, 50159, 180051, 140276, 470005, 50167, 50168, 140281, 390139, 420010, 140286, 130049, 300034, 140291, 140292, 50006, 390151, 390153, 140119, 390156, 110082, 220175, 140304, 50195, 50197, 310052, 390168, 240132, 420015, 50204, 390174, 390178, 520027, 390180, 390046, 50222, 50225, 50228, 30110, 50231, 390201, 50235, 390204, 330250, 50242, 50243, 40010, 390219, 40014, 210001, 390226, 180067, 390228, 50261, 50262, 390231, 210008, 210009, 210012, 210013, 50272, 450064, 340155, 50276, 310118, 170049, 50281, 50283, 210028, 150034, 380014, 210033, 50290, 50291, 50292, 380022, 50295, 180088, 390267, 50300, 390270, 490005, 210051, 50308, 50309, 340130, 210056, 50315, 210062, 440173, 380050, 380051, 230254, 50327, 40088, 50329, 50334, 120005, 170182, 50342, 520049, 310064, 380075, 180124, 50353, 40118, 40119, 50360, 390004, 40071, 120001, 120002, 120004, 50373, 120006, 50376, 120011, 50382, 290001, 290003, 120022, 290007, 50393, 120026, 460003, 290021, 460006, 460009, 50411, 180093, 460021, 290039, 50424, 290041, 50426, 520063, 290045, 290049, 50438, 220110, 10114, 460051, 270049, 360048, 50464, 50468, 10118, 20017, 450135, 180103, 520189, 50481, 390329, 50485, 30006, 30007, 50488, 30011, 30012, 30014, 30016, 50502, 140172, 140187, 50510, 50515, 50516, 30037, 30038, 450469, 370008, 420068, 500124, 390179, 370013, 370014, 370018, 290022, 370023, 370028, 50541, 50078, 370032, 30065, 370034, 10131, 50551, 390036, 50557, 370047, 230207, 90006, 50567, 370056, 30089, 30092, 50573, 30094, 390058, 140184, 50580, 90003, 30105, 50588, 370078, 30111, 30114, 30115, 370089, 30122, 370094, 50609, 110003, 110005, 360009, 50036, 370106, 140191, 220116, 110016, 50625, 670071, 110024, 280009, 280013, 110031, 450002, 110035, 110039, 450209, 110043, 260005, 450018, 50038, 450021, 360017, 280040, 360359, 450028, 450130, 440185, 450033, 450035, 50677, 50678, 450040, 50772, 110074, 110075, 110076, 280061, 110078, 110079, 50689, 50690, 450054, 290019, 450056, 110091, 50701, 50704, 110168, 450068, 50710, 50717, 450079, 50723, 50724, 290054, 20006, 450087, 450092, 440183, 50735, 50736, 50737, 190002, 50739, 50740, 50742, 50744, 310002, 50746, 190011, 50748, 360001, 280130, 50755, 150113, 50760, 50761, 360012, 50765, 360016, 110161, 50770, 360019, 190036, 110165, 390073, 190040, 450137, 530012, 190046, 110177, 260027, 360037, 450152, 390076, 190060, 190064, 190065, 450163, 110198, 360041, 450176, 360070, 110215, 360072, 360074, 450424, 360077, 360078, 450193, 360082, 360084, 190102, 110192, 520013, 390067, 270014, 190111, 100001, 100007, 100009, 190128, 100017, 360051, 270004, 450229, 100022, 100023, 60020, 100026, 100028, 100029, 100030, 490101, 100032, 190146, 100035, 360132, 360133, 360134, 270023, 440009, 440011, 100044, 100045, 100046, 190160, 360145, 90008, 100053, 360150, 360151, 360152, 100057, 440029, 100063, 390096, 440035, 100069, 190183, 100072, 100075, 360172, 440046, 330024, 130003, 100084, 100086, 100087, 390100, 190202, 450299, 190204, 100093, 440063, 360192, 330027, 130006, 100105, 220119, 100109, 670082, 10001, 440082, 450324, 10005, 100122, 10011, 100127, 180001, 10019, 100132, 490118, 10024, 180009, 180011, 360236, 10033, 350002, 100150, 10039, 440120, 100154, 350011, 180102, 100161, 350019, 520004, 100166, 100167, 10056, 520009, 450379, 100173, 440144, 100177, 100179, 100180, 180056, 100187, 100189, 520030, 100191, 330043, 360081, 10090, 10092, 520045, 440176, 100209, 100213, 350070, 10103, 10104, 100217, 440189, 100223, 440193, 100226, 100228, 110230, 100230, 100231, 520075, 100236, 100238, 90001, 100243, 90004, 100246, 270051, 520088, 100249, 100252, 100254, 100255, 10144, 260001, 180130, 440227, 180132, 10149, 260006, 520103, 100264, 100265, 670019, 260011, 100268, 100269, 180143, 30087, 100275, 260020, 260022, 100281, 330399, 100284, 100285, 100286, 100287, 100288, 100289, 100290, 170146, 520136, 520138, 430027, 100302, 260047, 260048, 140280, 100307, 30030, 360276, 180035, 100315, 100316, 260062, 220066, 220176, 220082, 450431, 220052, 260077, 300029, 520177, 160083, 50174, 180036, 30036, 260091, 430077]))"
       ]
      }
     ],
     "prompt_number": 10
    },
    {
     "cell_type": "heading",
     "level": 2,
     "metadata": {},
     "source": [
      "Proxy Logistic Regression"
     ]
    },
    {
     "cell_type": "code",
     "collapsed": false,
     "input": [
      "\n",
      "def proxyLogisticRegression(DF,target_column_name, proxy_column_name, fraction_of_df = 0.75, min_frac_positive = 0.75):\n",
      "    \"\"\"\n",
      "    Args:\n",
      "        DF: DF must contain at the very least proxy_column_name, target_column_name and one feature.\n",
      "        target_column_name: name of column in DF which we wish to predict.\n",
      "        proxy_column_name: name of column in DF for which we wish to train on.\n",
      "        \n",
      "    Returns:  \n",
      "        AUC_target: AUC score for target variable\n",
      "        AUC_proxy: AUC score for proxy variable\n",
      "    \"\"\"\n",
      "    AUCs_target = []\n",
      "    AUCs_proxy = []\n",
      "    # Set up target Y,proxy Y_s and features X \n",
      "    Y = DF[target_column_name]\n",
      "    Y_s = DF[proxy_column_name] \n",
      "    X = DF.drop([proxy_column_name,target_column_name],axis = 1)\n",
      "    \n",
      "    # Set up Crossvalidation\n",
      "    train_ix, test_ix =splitTestTrainIndices(working_df , target_column_name, proxy_column_name, fraction_of_df, min_frac_positive)\n",
      "    X_train, X_test = X.ix[train_ix], X.ix[test_ix]\n",
      "    Y_train, Y_test = Y.ix[train_ix], Y.ix[test_ix]\n",
      "    Y_s_train, Y_s_test = Y_s.ix[train_ix], Y_s.ix[test_ix]\n",
      "    \n",
      "    #make sure proxy and target have the same shape\n",
      "    assert Y_s_train.shape == Y_train.shape\n",
      "    assert Y_s_test.shape == Y_test.shape\n",
      "    \n",
      "    # init classifier instance\n",
      "    clf = linear_model.LogisticRegression() #C=1e30\n",
      "\n",
      "    # train on Y_s\n",
      "    clf.fit(X_train, Y_s_train)\n",
      "\n",
      "    # test on Y\n",
      "    AUC_target = roc_auc_score(y_true = Y_test, y_score = clf.decision_function(X_test))\n",
      "    #print \"AUC_target\", AUC_target\n",
      "    \n",
      "    # As a check it might be interesting to know also how well we did on Y_s.\n",
      "    AUC_proxy = roc_auc_score(y_true = Y_s_test, y_score = clf.decision_function(X_test))\n",
      "    \n",
      "    #print \"AUC_Proxy\",AUC_proxy\n",
      "    return AUC_target, AUC_proxy\n",
      "   \n"
     ],
     "language": "python",
     "metadata": {},
     "outputs": [],
     "prompt_number": 11
    },
    {
     "cell_type": "heading",
     "level": 3,
     "metadata": {},
     "source": [
      "For exaple, we can use the 'Bin 2013' as the proxy variable to determine how well we can predict '2014'"
     ]
    },
    {
     "cell_type": "code",
     "collapsed": false,
     "input": [
      "proxyLogisticRegression(DF = working_df, target_column_name = 'Bin 2013', proxy_column_name = 'Bin 2014')"
     ],
     "language": "python",
     "metadata": {},
     "outputs": [
      {
       "metadata": {},
       "output_type": "pyout",
       "prompt_number": 12,
       "text": [
        "(0.37867203219315898, 0.48242971887550201)"
       ]
      }
     ],
     "prompt_number": 12
    },
    {
     "cell_type": "code",
     "collapsed": false,
     "input": [
      "def meanAucWithProxy(num_of_trials = 100, fraction_of_df = 0.5, min_frac_positive = 0.5):\n",
      "    AUCs_target = []\n",
      "    AUCs_proxy = []\n",
      "    for i in xrange(num_of_trials):\n",
      "        #print \"trial\", i\n",
      "        AUC_target, AUC_proxy = proxyLogisticRegression(working_df,'Bin 2013', 'Bin 2014',  fraction_of_df , min_frac_positive)\n",
      "        AUCs_target.append(AUC_target)\n",
      "        AUCs_proxy.append(AUC_proxy)\n",
      "    return np.mean(AUCs_target), np.mean(AUCs_proxy)\n",
      "\n",
      "meanAucWithProxy()"
     ],
     "language": "python",
     "metadata": {},
     "outputs": [
      {
       "metadata": {},
       "output_type": "pyout",
       "prompt_number": 13,
       "text": [
        "(0.49617279724515684, 0.49639177395795786)"
       ]
      }
     ],
     "prompt_number": 13
    },
    {
     "cell_type": "code",
     "collapsed": false,
     "input": [
      "\n",
      "def AucVariationWithPositives(frac_range):\n",
      "    \"\"\" this function tests the variation of the mean AUC for both target and proxy as \n",
      "    the result of changing the minimun fraction of positives in the train sample\n",
      "    Args:\n",
      "        frac_range: list of minimum fractions.\n",
      "    \"\"\"\n",
      "    list_AUC_target =[]\n",
      "    list_AUC_proxy = []\n",
      "    for f in frac_range:\n",
      "        print \"testing for fraction: \", f\n",
      "        mean_AUC_target, mean_AUC_proxy = meanAucWithProxy(num_of_trials = 500, fraction_of_df = 0.8, min_frac_positive = f)\n",
      "        #print \"*****\", , mean_AUC_proxy\n",
      "        list_AUC_target.append(mean_AUC_target)\n",
      "        list_AUC_proxy.append(mean_AUC_proxy)\n",
      "    return list_AUC_target, list_AUC_proxy\n",
      "\n",
      "frac_range = [0.5, 0.55, 0.6, 0.65, 0.7, 0.75, 0.8, 0.85, 0.9]\n",
      "\n",
      "list_AUC_target, list_AUC_proxy = AucVariationWithPositives(frac_range)"
     ],
     "language": "python",
     "metadata": {},
     "outputs": [
      {
       "output_type": "stream",
       "stream": "stdout",
       "text": [
        "testing for fraction:  0.5\n",
        "testing for fraction: "
       ]
      },
      {
       "output_type": "stream",
       "stream": "stdout",
       "text": [
        " 0.55\n",
        "testing for fraction: "
       ]
      },
      {
       "output_type": "stream",
       "stream": "stdout",
       "text": [
        " 0.6\n",
        "testing for fraction: "
       ]
      },
      {
       "output_type": "stream",
       "stream": "stdout",
       "text": [
        " 0.65\n",
        "testing for fraction: "
       ]
      },
      {
       "output_type": "stream",
       "stream": "stdout",
       "text": [
        " 0.7\n",
        "testing for fraction: "
       ]
      },
      {
       "output_type": "stream",
       "stream": "stdout",
       "text": [
        " 0.75\n",
        "testing for fraction: "
       ]
      },
      {
       "output_type": "stream",
       "stream": "stdout",
       "text": [
        " 0.8\n",
        "testing for fraction: "
       ]
      },
      {
       "output_type": "stream",
       "stream": "stdout",
       "text": [
        " 0.85\n",
        "testing for fraction: "
       ]
      },
      {
       "output_type": "stream",
       "stream": "stdout",
       "text": [
        " 0.9\n"
       ]
      }
     ],
     "prompt_number": 14
    },
    {
     "cell_type": "code",
     "collapsed": false,
     "input": [
      "plt.plot(frac_range,list_AUC_target)\n",
      "plt.show()"
     ],
     "language": "python",
     "metadata": {},
     "outputs": [
      {
       "metadata": {},
       "output_type": "display_data",
       "png": "[encoded data removed]",
       "text": [
        "<matplotlib.figure.Figure at 0x10bf7c610>"
       ]
      }
     ],
     "prompt_number": 15
    },
    {
     "cell_type": "code",
     "collapsed": false,
     "input": [
      "plt.plot(frac_range,list_AUC_proxy)\n",
      "plt.show()"
     ],
     "language": "python",
     "metadata": {},
     "outputs": [
      {
       "metadata": {},
       "output_type": "display_data",
       "png": "[encoded data removed]",
       "text": [
        "<matplotlib.figure.Figure at 0x1020b0890>"
       ]
      }
     ],
     "prompt_number": 16
    },
    {
     "cell_type": "code",
     "collapsed": false,
     "input": [],
     "language": "python",
     "metadata": {},
     "outputs": []
    },
    {
     "cell_type": "code",
     "collapsed": false,
     "input": [],
     "language": "python",
     "metadata": {},
     "outputs": []
    },
    {
     "cell_type": "code",
     "collapsed": false,
     "input": [],
     "language": "python",
     "metadata": {},
     "outputs": []
    },
    {
     "cell_type": "code",
     "collapsed": false,
     "input": [],
     "language": "python",
     "metadata": {},
     "outputs": []
    },
    {
     "cell_type": "code",
     "collapsed": false,
     "input": [],
     "language": "python",
     "metadata": {},
     "outputs": []
    },
    {
     "cell_type": "heading",
     "level": 2,
     "metadata": {},
     "source": [
      "Proxy Linear Regression"
     ]
    },
    {
     "cell_type": "code",
     "collapsed": false,
     "input": [
      "\n",
      "def proxyLinearRegression(DF,proxy_column_name,target_column_name):\n",
      "    \"\"\"\n",
      "    Args:\n",
      "        DF: DF must contain at the very least proxy_column_name, target_column_name and one feature.\n",
      "        proxy_column_name:\n",
      "        target_column_name:\n",
      "        \n",
      "    Returns:   \n",
      "    \"\"\"\n",
      "    \n",
      "    # Set up target Y,proxy Y_s and features X \n",
      "    Y = DF[target_column_name]\n",
      "    Y_s = DF[proxy_column_name] \n",
      "    X = DF.drop([proxy_column_name,target_column_name],axis = 1)\n",
      "    \n",
      "    # Set up Crossvalidation\n",
      "    kf = KFold(n=len(Y), n_folds = 10)\n",
      "    for train_index, test_index in kf:\n",
      "        #print len(train_index), len(test_index)\n",
      "        X_train, X_test = X.iloc[train_index], X.iloc[test_index]\n",
      "        Y_train, Y_test = Y.iloc[train_index], Y.iloc[test_index]\n",
      "        Y_s_train, Y_s_test = Y_s.iloc[train_index], Y_s.iloc[test_index]\n",
      "\n",
      "    # init classifier instance\n",
      "    regr = linear_model.LinearRegression()\n",
      "    \n",
      "    # train on Y_s\n",
      "    regr.fit(X_train, Y_s_train)\n",
      "    \n",
      "    # test on Y\n",
      "    \n",
      "    #regr.predict(X_test) - Y_test\n",
      "    \n",
      "    # As a check it might be interesting to know also how well we did on Y_s.\n",
      "    \n",
      "    \n",
      "    return\n",
      "\n",
      "proxyLinearRegression(DF = working_df, proxy_column_name = 'Bin 2014',target_column_name = 'Bin 2013')"
     ],
     "language": "python",
     "metadata": {},
     "outputs": []
    }
   ],
   "metadata": {}
  }
 ]
}