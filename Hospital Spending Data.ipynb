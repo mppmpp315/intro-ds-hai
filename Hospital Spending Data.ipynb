{
 "metadata": {
  "name": "",
  "signature": "sha256:946d59e9658a5d7f0bedae1570ece57f74539e57a5fe2cb019f018bdb652b266"
 },
 "nbformat": 3,
 "nbformat_minor": 0,
 "worksheets": [
  {
   "cells": [
    {
     "cell_type": "code",
     "collapsed": false,
     "input": [
      "### Goal: Analyze and integrate the data from the Hospital Medicare spending data. \n",
      "# The spending data for each hospital is represented by the \"MSPB\" score.\n",
      "# It's (average MSPB for the hospital) / (median MSPB across all hospitals)\n",
      "# It's distributed around 1.0. I'm guessing it's tightly normally distributed around 1.0.\n",
      "# Full explanation:\n",
      "# http://www.cms.gov/Medicare/Quality-Initiatives-Patient-Assessment-Instruments/hospital-value-based-purchasing/Downloads/MSPBDetail-Dec2012.pdf\n",
      "\n",
      "### 2012\n",
      "## File:\n",
      "# Medicare Spending Per Patient.csv\n",
      "## Columns:\n",
      "# \"Provider ID\"\n",
      "# \"Measure\",\n",
      "# \"Spending per Hospital Patient with Medicare\"\n",
      "## Other Notes\n",
      "# -- There is a\"Measure\" column, and itseems to always have the value: \"Spending per Hospital Patient with Medicare\", \n",
      "#    which is the name of another column. This column seems totally useless, which is probably why it's not in the 2014 data.\n",
      "# -- I don't know what how a missing data point is represented.\n",
      "\n",
      "### 2013\n",
      "## File:\n",
      "# Medicare Spending Per Patient.csv\n",
      "## Columns:\n",
      "# \"Provider ID\"\n",
      "# \"Spending per Hospital Patient with Medicare\"\n",
      "## Other Notes\n",
      "# -- The format of the 2013 data appears to be identical the the 2012 data.\n",
      "\n",
      "### 2014 (will not be used)\n",
      "## File:\n",
      "# Medicare Hospital Spending Per Patient - Hospital.csv\n",
      "## Columns:\n",
      "# \"Provider ID\"\n",
      "# \"Score\"\n",
      "\n",
      "### Summary\n",
      "# -- This data is easy to import, and we have data for all three years. Hopefully it's indicative of infection rate somehow."
     ],
     "language": "python",
     "metadata": {},
     "outputs": [],
     "prompt_number": 1
    },
    {
     "cell_type": "code",
     "collapsed": false,
     "input": [
      "#### Tasks to complete\n",
      "\n",
      "## 1) Read either the 2012 or 2013 tables into a common data frame format, e.g.\n",
      "# [Provider ID, Spending Score]\n",
      "\n",
      "## 2) Read both data frames into one dataframe that summarizes both years. For example:\n",
      "# [Provider ID, Spending Score 2012, Spending Score 2013], or some aggregate of the years\n",
      "# [Provider ID, Average Spending Score]"
     ],
     "language": "python",
     "metadata": {},
     "outputs": [],
     "prompt_number": 2
    },
    {
     "cell_type": "code",
     "collapsed": false,
     "input": [
      "import sys\n",
      "sys.path.append('src')\n",
      "sys.path.append('data')\n",
      "\n",
      "import numpy as np\n",
      "import pandas as pd\n",
      "\n",
      "import data_utils"
     ],
     "language": "python",
     "metadata": {},
     "outputs": [],
     "prompt_number": 7
    },
    {
     "cell_type": "code",
     "collapsed": false,
     "input": [
      "## Task 1a) Read either the 2012 table into the common data frame format:\n",
      "# [Provider ID, Spending Score]\n",
      "\n",
      "df_2012 = data_utils.parseFile('TODO_filepath', 'TODO_useful_columns_list')\n",
      "# TODO "
     ],
     "language": "python",
     "metadata": {},
     "outputs": [],
     "prompt_number": 1
    },
    {
     "cell_type": "code",
     "collapsed": false,
     "input": [
      "## Task 1b) Read either the 2013 table into the common data frame format:\n",
      "# [Provider ID, Spending Score]\n",
      "\n",
      "df_2013 = data_utils.parseFile('TODO_filepath', 'TODO_useful_columns_list')\n",
      "# TODO "
     ],
     "language": "python",
     "metadata": {},
     "outputs": [],
     "prompt_number": 5
    },
    {
     "cell_type": "code",
     "collapsed": false,
     "input": [
      "## 2) Read both data frames into one dataframe that summarizes both years. For example:\n",
      "# [Provider ID, Spending Score 2012, Spending Score 2013], or some aggregate of the years\n",
      "# [Provider ID, Average Spending Score]\n",
      "# TODO "
     ],
     "language": "python",
     "metadata": {},
     "outputs": [],
     "prompt_number": 6
    },
    {
     "cell_type": "code",
     "collapsed": false,
     "input": [],
     "language": "python",
     "metadata": {},
     "outputs": []
    }
   ],
   "metadata": {}
  }
 ]
}