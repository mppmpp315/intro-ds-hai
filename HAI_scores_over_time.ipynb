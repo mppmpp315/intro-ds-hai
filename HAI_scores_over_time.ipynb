{
 "metadata": {
  "name": "",
  "signature": "sha256:7282edba016e12fb0c8e20876c703a31dfbebae7746c9e2021bf5fe0d90e220a"
 },
 "nbformat": 3,
 "nbformat_minor": 0,
 "worksheets": [
  {
   "cells": [
    {
     "cell_type": "code",
     "collapsed": false,
     "input": [
      "import sys\n",
      "sys.path.append('/Users/pinesol/intro-ds-hai/src')"
     ],
     "language": "python",
     "metadata": {},
     "outputs": [],
     "prompt_number": 4
    },
    {
     "cell_type": "code",
     "collapsed": false,
     "input": [
      "#    We are most interested in researching the HAI score that changes a great deal from year to year, \n",
      "#    and has a support from many hospitals across all years. \n",
      "#    If a HAI score doesn't change much over time at a given hospital, then evaluating historical data isn't useful.\n",
      "#    If a HAI score isn't supported by many hospitals, then that limits our ability to make generalizations.\n",
      "# 1) Load the HAI file from all available years into their own data frames.\n",
      "# 2) Ensure that the infection file has all the same fields.\n",
      "# 3) Determine how many hospitals are in each year.\n",
      "# 4) Determine how many hospitals are in all years.\n",
      "# 5) Make a chart that shows how the support for each HAI statistic for each hospital over the 3 years.\n",
      "#    There should be 6 lines with 3 data points each.\n",
      "# 6) Make a histogram of the variance of a single HAI score accross hospitals across all years. \n",
      "#    Make 6 charts, one for each HAI score."
     ],
     "language": "python",
     "metadata": {},
     "outputs": [],
     "prompt_number": 2
    },
    {
     "cell_type": "code",
     "collapsed": false,
     "input": [
      "# 1) Load the HAI file from all available years into their own data frames.\n",
      "\n",
      "# HAI_1: 2014, 2013, 2012\n",
      "# HAI_2: 2014, 2013\n",
      "# HAI_3: 2014, 2013\n",
      "# HAI_4: 2014, 2013\n",
      "# HAI_5: 2014\n",
      "# HAI_6: 2014\n",
      "\n",
      "import hai_data_cleanup\n",
      "\n",
      "# Only 2014, 2013, and 2012 are currently avaiable (and I think they always track the previous year, but whatevs).\n",
      "base_data_dir = '/Users/pinesol/intro-ds-hai/data'\n",
      "data_year_files = ['2012/Healthcare_Associated_Infections.csv',\n",
      "                   '2013/Healthcare_Associated_Infections.csv', \n",
      "                   '2014/Healthcare Associated Infections - Hospital.csv']\n",
      "data_years = ['2012', '2013', '2014']\n",
      "\n",
      "dfs = []\n",
      "\n",
      "for year, filename in zip(data_years, data_year_files):\n",
      "    df = data_cleanup.parseHAIFile(base_data_dir + '/' + filename, year)\n",
      "    dfs.append(df)"
     ],
     "language": "python",
     "metadata": {},
     "outputs": [],
     "prompt_number": 19
    },
    {
     "cell_type": "code",
     "collapsed": false,
     "input": [],
     "language": "python",
     "metadata": {},
     "outputs": [],
     "prompt_number": 16
    },
    {
     "cell_type": "code",
     "collapsed": false,
     "input": [],
     "language": "python",
     "metadata": {},
     "outputs": [],
     "prompt_number": 11
    },
    {
     "cell_type": "code",
     "collapsed": false,
     "input": [],
     "language": "python",
     "metadata": {},
     "outputs": [],
     "prompt_number": 11
    },
    {
     "cell_type": "code",
     "collapsed": false,
     "input": [],
     "language": "python",
     "metadata": {},
     "outputs": []
    }
   ],
   "metadata": {}
  }
 ]
}