{
 "metadata": {
  "name": "",
  "signature": "sha256:4a7f2857ceabf1c6476d1ae88409ca8e89caf039bfa415c946e02909de0f8022"
 },
 "nbformat": 3,
 "nbformat_minor": 0,
 "worksheets": [
  {
   "cells": [
    {
     "cell_type": "code",
     "collapsed": false,
     "input": [
      "import sys\n",
      "sys.path.append('/Users/pinesol/intro-ds-hai/src')\n",
      "\n",
      "import numpy as np\n",
      "\n",
      "import matplotlib.pyplot as plt\n",
      "%matplotlib inline\n",
      "\n",
      "import hai_data_cleanup"
     ],
     "language": "python",
     "metadata": {},
     "outputs": [],
     "prompt_number": 40
    },
    {
     "cell_type": "code",
     "collapsed": false,
     "input": [
      "#    We are most interested in researching the HAI score that changes a great deal from year to year, \n",
      "#    and has a support from many hospitals across all years. \n",
      "#    If a HAI score doesn't change much over time at a given hospital, then evaluating historical data isn't useful.\n",
      "#    If a HAI score isn't supported by many hospitals, then that limits our ability to make generalizations.\n",
      "# 1) Load the HAI file from all available years into their own data frames.\n",
      "# 2) Ensure that the infection file has all the same fields.\n",
      "# 3) Determine how many hospitals are in each year.\n",
      "# 4) Determine how many hospitals are in all years.\n",
      "# 5) Make a chart that shows how the support for each HAI statistic for each hospital over the 3 years.\n",
      "#    There should be 6 lines with 3 data points each.\n",
      "# 6) Make a histogram of the variance of a single HAI score accross hospitals across all years. \n",
      "# 7) Normalize "
     ],
     "language": "python",
     "metadata": {},
     "outputs": [],
     "prompt_number": 2
    },
    {
     "cell_type": "code",
     "collapsed": false,
     "input": [
      "# 1) Load the HAI file from all available years into their own data frames.\n",
      "\n",
      "import hai_data_cleanup\n",
      "\n",
      "# Only 2014, 2013, and 2012 are currently avaiable (and I think they always track the previous year, but whatevs).\n",
      "base_data_dir = '/Users/pinesol/intro-ds-hai/data'\n",
      "data_year_files = ['2012/Healthcare_Associated_Infections.csv',\n",
      "                   '2013/Healthcare_Associated_Infections.csv', \n",
      "                   '2014/Healthcare Associated Infections - Hospital.csv']\n",
      "data_years = ['2012', '2013', '2014']\n",
      "\n",
      "dfs = []\n",
      "\n",
      "for year, filename in zip(data_years, data_year_files):\n",
      "    df = hai_data_cleanup.parseHAIFile(base_data_dir + '/' + filename, year)\n",
      "    dfs.append(df)"
     ],
     "language": "python",
     "metadata": {},
     "outputs": [],
     "prompt_number": 3
    },
    {
     "cell_type": "code",
     "collapsed": false,
     "input": [
      "# 2) Ensure that the infection file has all the same fields.\n",
      "\n",
      "# Answer: They don't!\n",
      "\n",
      "# HAI_1_SIR: 2014, 2013, 2012\n",
      "# HAI_2_SIR: 2014, 2013\n",
      "# HAI_3_SIR: 2014, 2013\n",
      "# HAI_4_SIR: 2014, 2013\n",
      "# HAI_5_SIR: 2014\n",
      "# HAI_6_SIR: 2014\n",
      "\n",
      "# All three years have the parameters for the HAI_SIR: lower and \n",
      "# upper confidence limits, observed cases, and number of central line days."
     ],
     "language": "python",
     "metadata": {},
     "outputs": [],
     "prompt_number": 37
    },
    {
     "cell_type": "code",
     "collapsed": false,
     "input": [
      "# 3) Determine how many hospitals are in each year.\n",
      "\n",
      "hospitals_ids_per_year = [set(df['Provider ID']) for df in dfs]\n",
      "num_hospitals_ids_per_year = [len(hospital_ids) for hospital_ids in hospitals_ids_per_year]\n",
      "\n",
      "bar_left_indexes = np.arange(len(data_years))  # the x locations for the bars\n",
      "bar_width = .5  # the width of the bars\n",
      "fig, ax = plt.subplots()\n",
      "ax.bar(bar_left_indexes, num_hospitals_ids_per_year, bar_width)\n",
      "ax.set_xticks(bar_left_indexes + bar_width/2)\n",
      "ax.set_xticklabels(data_years)\n",
      "plt.title(\"Number of unique provider IDs in HAI data\")\n",
      "plt.ylabel(\"Number of Hospitals\")\n",
      "plt.xlabel(\"Year\")\n",
      "plt.show()"
     ],
     "language": "python",
     "metadata": {},
     "outputs": [
      {
       "metadata": {},
       "output_type": "display_data",
       "png": "[encoded data removed]",
       "text": [
        "<matplotlib.figure.Figure at 0x10baa0410>"
       ]
      }
     ],
     "prompt_number": 24
    },
    {
     "cell_type": "code",
     "collapsed": false,
     "input": [
      "# 4) Determine how many hospitals are in all years.\n",
      "\n",
      "hospitals_in_all_years = set([])\n",
      "num_hospitals_any_year = set([])\n",
      "\n",
      "for hospital_ids in hospitals_ids_per_year:\n",
      "    if not hospitals_in_all_years:\n",
      "        hospitals_in_all_years |= hospital_ids\n",
      "    hospitals_in_all_years &= hospital_ids\n",
      "    \n",
      "    \n",
      "\n",
      "print 'Number of hospitals present in all years:', len(hospitals_in_all_years)"
     ],
     "language": "python",
     "metadata": {},
     "outputs": [
      {
       "output_type": "stream",
       "stream": "stdout",
       "text": [
        "Number of hospitals present in all years: 3555\n"
       ]
      }
     ],
     "prompt_number": 36
    },
    {
     "cell_type": "code",
     "collapsed": false,
     "input": [
      "# 5) Make a chart that shows how the support for each HAI statistic for each hospital over the 3 years.\n",
      "#    There should be 6 lines with 3 data points each."
     ],
     "language": "python",
     "metadata": {},
     "outputs": [],
     "prompt_number": 38
    },
    {
     "cell_type": "code",
     "collapsed": false,
     "input": [
      "# 6) Make a histogram of the variance of a single HAI score accross hospitals across all years. \n",
      "#    Make 6 charts, one for each HAI score.\n",
      "\n",
      "hospital_hai_1_sir_map = {}\n",
      "\n",
      "for df in dfs:\n",
      "    hai_1_sir_df = hai_data_cleanup.filterByMeasureID(df, 'HAI_1_SIR')\n",
      "    hai_1_sir_df = hai_data_cleanup.removeRowsWithMissingTarget(hai_1_sir_df, 'Score')\n",
      "    assert len(list(hai_1_sir_df['Provider ID'])) == len(set(hai_1_sir_df['Provider ID']))\n",
      "    for _, row in hai_1_sir_df.iterrows():\n",
      "        prev_row = row\n",
      "        if row['Provider ID'] not in hospital_hai_1_sir_map:\n",
      "            hospital_hai_1_sir_map[row['Provider ID']] = []\n",
      "        hospital_hai_1_sir_map[row['Provider ID']].append(float(row['Score']))\n",
      "\n",
      "print 'Number of provider IDs:', len(hospital_hai_1_sir_map)\n",
      "all_years = len([len(scores) for hospital_id, scores in hospital_hai_1_sir_map.iteritems() if len(scores) == len(data_years)])\n",
      "print 'Number of provider IDs that have a value all three years:', all_years\n",
      "\n",
      "\n",
      "hospital_hai_1_sir_means = [np.mean(scores) for provider_id, scores in hospital_hai_1_sir_map.iteritems()]\n",
      "plt.hist(hospital_hai_1_sir_means, bins = 50, color = 'b', alpha = 0.5)\n",
      "plt.title(\"Distribution of HAI_1_SIR means\")\n",
      "plt.ylabel(\"Counts\")\n",
      "plt.xlabel(\"Standard Deviation\")\n",
      "plt.show()\n",
      "\n",
      "hospital_hai_1_sir_vars = [np.std(scores) for provider_id, scores in hospital_hai_1_sir_map.iteritems()]\n",
      "\n",
      "plt.hist(hospital_hai_1_sir_vars, bins = 50, color = 'r', alpha = 0.5)\n",
      "plt.title(\"Distribution of HAI_1_SIR standard deviation\")\n",
      "plt.ylabel(\"Counts\")\n",
      "plt.xlabel(\"Standard Deviation\")\n",
      "plt.show()"
     ],
     "language": "python",
     "metadata": {},
     "outputs": [
      {
       "output_type": "stream",
       "stream": "stdout",
       "text": [
        "Number of provider IDs: 2110\n",
        "Number of provider IDs that have a value all three years: 1874\n"
       ]
      },
      {
       "metadata": {},
       "output_type": "display_data",
       "png": "[encoded data removed]",
       "text": [
        "<matplotlib.figure.Figure at 0x10bf11f90>"
       ]
      },
      {
       "metadata": {},
       "output_type": "display_data",
       "png": "[encoded data removed]",
       "text": [
        "<matplotlib.figure.Figure at 0x10ce110d0>"
       ]
      }
     ],
     "prompt_number": 39
    },
    {
     "cell_type": "code",
     "collapsed": false,
     "input": [],
     "language": "python",
     "metadata": {},
     "outputs": [],
     "prompt_number": 50
    },
    {
     "cell_type": "code",
     "collapsed": false,
     "input": [],
     "language": "python",
     "metadata": {},
     "outputs": []
    }
   ],
   "metadata": {}
  }
 ]
}