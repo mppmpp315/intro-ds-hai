{
 "metadata": {
  "name": "",
  "signature": "sha256:32db9010276314edb67339cab54c4985eacb4efc3b005ca88d96f28d33a6b0b8"
 },
 "nbformat": 3,
 "nbformat_minor": 0,
 "worksheets": [
  {
   "cells": [
    {
     "cell_type": "code",
     "collapsed": false,
     "input": [
      "# The \"Hospital General Information.csv\" (2014) and the \"Hospital_Data.csv\" (2005(?)-2013) files contain three\n",
      "# potentially useful features for each hospital: \"Hospital Type\" ,\"Hospital Ownership\", and \"Emergency Services\".\n",
      "# 1) Hospital Type -- A string describing the kinds of services offered by the hospital.\n",
      "# 2) Hospital Ownership -- A string describing what type of organization operates the hospital.\n",
      "# 3) Emergency Services -- A boolean that indicates whether or not the hospital provides emergency services\n",
      "\n",
      "# Functions to write:\n",
      "# 1) Read in a csv file, load it into a data frame, and strip out all columns except \"Provider ID\", \"Hospital Type\", \n",
      "#   \"Hospital Ownership\", and \"Emergency Services\".\n",
      "# 2) Merge the General Information dataframe into the HAI dataframe.\n",
      "\n",
      "# Questions to answer:\n",
      "# 1) What possible values can the three types take on? What string do they use to indicate there is no data available?\n",
      "# 2) Do these features vary over time, or are they constant for all available years?\n",
      "# 3) If they vary significantly over time, what how many hospitals have data for all available years?"
     ],
     "language": "python",
     "metadata": {},
     "outputs": [],
     "prompt_number": 15
    },
    {
     "cell_type": "code",
     "collapsed": false,
     "input": [
      "import sys\n",
      "sys.path.append('src')\n",
      "\n",
      "import numpy as np\n",
      "import pandas as pd\n",
      "\n",
      "import matplotlib.pyplot as plt\n",
      "%matplotlib inline"
     ],
     "language": "python",
     "metadata": {},
     "outputs": [],
     "prompt_number": 12
    },
    {
     "cell_type": "code",
     "collapsed": false,
     "input": [
      "# Functions to write:\n",
      "# 1) Read in a csv file, load it into a data frame, and strip out all columns except \"Provider ID\", \"Hospital Type\", \n",
      "#   \"Hospital Ownership\", and \"Emergency Services\".\n",
      "\n",
      "import data_utils\n",
      "\n",
      "def parseGeneralInfoCSVFirstVersion(filepath, year_str):\n",
      "    '''Imports \"Hospital_Data.csv\" or \"Hospital General Information.csv\" as a dataframe.\n",
      "    The useful columns seem to have the same name year, so there is no year param.\n",
      "    (This is the first version of this function, the final version is at the bottom of the notebook)\n",
      "    '''\n",
      "    COLUMNS_OLD = ['Provider Number', 'Hospital Type', 'Hospital Ownership', 'Emergency Services']\n",
      "    COLUMNS_NEW = ['Provider ID', 'Hospital Type', 'Hospital Ownership', 'Emergency Services']\n",
      "    useful_columns = COLUMNS_NEW if year_str == '2014' else COLUMNS_OLD\n",
      "    data = data_utils.parseFile(filepath, useful_columns)\n",
      "    if year_str != '2014':\n",
      "        data = data.rename(columns={'Provider Number': 'Provider ID'})\n",
      "    return data\n",
      "\n",
      "\n",
      "base_data_dir = 'data'\n",
      "data_year_files = ['2012/Hospital_Data.csv',\n",
      "                   '2013/Hospital_Data.csv', \n",
      "                   '2014/Hospital General Information.csv']\n",
      "data_years = ['2012', '2013', '2014']\n",
      "\n",
      "dfs = []\n",
      "\n",
      "for i, filename in enumerate(data_year_files):\n",
      "    df = parseGeneralInfoCSVFirstVersion('/'.join([base_data_dir, data_year_files[i]]), data_years[i])\n",
      "    print 'Imported data file from', data_years[i], '. Columns:', list(df.columns), 'Number of rows:', len(df)    \n",
      "    dfs.append(df)\n"
     ],
     "language": "python",
     "metadata": {},
     "outputs": [
      {
       "output_type": "stream",
       "stream": "stdout",
       "text": [
        "Imported data file from 2012 . Columns: ['Provider ID', 'Hospital Type', 'Hospital Ownership', 'Emergency Services'] Number of rows: 4797\n",
        "Imported data file from 2013 . Columns: ['Provider ID', 'Hospital Type', 'Hospital Ownership', 'Emergency Services'] Number of rows: 4822\n",
        "Imported data file from 2014 . Columns: ['Provider ID', 'Hospital Type', 'Hospital Ownership', 'Emergency Services'] Number of rows: 4861\n"
       ]
      }
     ],
     "prompt_number": 13
    },
    {
     "cell_type": "code",
     "collapsed": false,
     "input": [
      "# Questions to answer:\n",
      "# 1) What possible values can the three types take on? What string do they use to indicate there is no data available?\n",
      "\n",
      "# 'Hospital Type', 'Hospital Ownership', 'Emergency Services'\n",
      "# One entry per year.\n",
      "type_values_per_year = []\n",
      "ownership_values_per_year = []\n",
      "emergency_values_per_year = []\n",
      "\n",
      "for df in dfs:\n",
      "    type_values_per_year.append(sorted(set(df['Hospital Type'])))\n",
      "    ownership_values_per_year.append(sorted(set(df['Hospital Ownership'])))\n",
      "    emergency_values_per_year.append(sorted(set(df['Emergency Services'])))\n",
      "    \n",
      "for i, year in enumerate(data_years):\n",
      "    print year\n",
      "    print '  Hospital types per year\\n   ', '\\n    '.join(type_values_per_year[i]), '\\n'\n",
      "    print '  Ownership values per year\\n   ', '\\n    '.join(ownership_values_per_year[i]), '\\n'\n",
      "    print '  Emergency values per year\\n   ', '\\n    '.join(emergency_values_per_year[i]), '\\n'\n",
      "\n",
      "# There don't seem to be any values that indicate data is unavailable! Woohoo!"
     ],
     "language": "python",
     "metadata": {},
     "outputs": [
      {
       "output_type": "stream",
       "stream": "stdout",
       "text": [
        "2012\n",
        "  Hospital types per year\n",
        "    ACUTE CARE - VETERANS ADMINISTRATION\n",
        "    Acute Care Hospitals\n",
        "    Childrens\n",
        "    Critical Access Hospitals \n",
        "\n",
        "  Ownership values per year\n",
        "    Government - Federal\n",
        "    Government - Hospital District or Authority\n",
        "    Government - Local\n",
        "    Government - State\n",
        "    Government Federal\n",
        "    Physican Ownership\n",
        "    Proprietary\n",
        "    Tribal\n",
        "    Voluntary non-profit - Church\n",
        "    Voluntary non-profit - Other\n",
        "    Voluntary non-profit - Private \n",
        "\n",
        "  Emergency values per year\n",
        "    No\n",
        "    Yes \n",
        "\n",
        "2013\n",
        "  Hospital types per year\n",
        "    ACUTE CARE - VETERANS ADMINISTRATION\n",
        "    Acute Care Hospitals\n",
        "    Childrens\n",
        "    Critical Access Hospitals \n",
        "\n",
        "  Ownership values per year\n",
        "    Government - Federal\n",
        "    Government - Hospital District or Authority\n",
        "    Government - Local\n",
        "    Government - State\n",
        "    Government Federal\n",
        "    Physician\n",
        "    Proprietary\n",
        "    Tribal\n",
        "    Voluntary non-profit - Church\n",
        "    Voluntary non-profit - Other\n",
        "    Voluntary non-profit - Private \n",
        "\n",
        "  Emergency values per year\n",
        "    NO\n",
        "    No\n",
        "    Yes \n",
        "\n",
        "2014\n",
        "  Hospital types per year\n",
        "    ACUTE CARE - VETERANS ADMINISTRATION\n",
        "    Acute Care Hospitals\n",
        "    Childrens\n",
        "    Critical Access Hospitals \n",
        "\n",
        "  Ownership values per year\n",
        "    Government - Federal\n",
        "    Government - Hospital District or Authority\n",
        "    Government - Local\n",
        "    Government - State\n",
        "    Government Federal\n",
        "    Physician\n",
        "    Proprietary\n",
        "    Tribal\n",
        "    Voluntary non-profit - Church\n",
        "    Voluntary non-profit - Other\n",
        "    Voluntary non-profit - Private \n",
        "\n",
        "  Emergency values per year\n",
        "    No\n",
        "    Yes \n",
        "\n"
       ]
      }
     ],
     "prompt_number": 15
    },
    {
     "cell_type": "code",
     "collapsed": false,
     "input": [
      "# 2) Do these features vary over time, or are they constant for all available years?\n",
      "\n",
      "type_same_all_years = False\n",
      "ownership_same_all_years = False\n",
      "emergency_same_all_years = False\n",
      "\n",
      "for type_set in list(type_values_per_year)[1:]:\n",
      "    type_same_all_years = type_set == type_values_per_year[0]\n",
      "    if not type_same_all_years: break\n",
      "        \n",
      "for ownership_set in list(ownership_values_per_year)[1:]:\n",
      "    ownership_same_all_years = ownership_set == ownership_values_per_year[0]\n",
      "    if not ownership_same_all_years: break\n",
      "        \n",
      "for emergency_set in list(emergency_values_per_year)[1:]:\n",
      "    emergency_same_all_years = emergency_set == emergency_values_per_year[0]\n",
      "    if not emergency_same_all_years: break\n",
      "\n",
      "print 'Is the set of hospital types the same across all years? Answer:', type_same_all_years\n",
      "print 'Is the set of ownership values the same across all years? Answer:', ownership_same_all_years\n",
      "print 'Is the set of emergency values the same across all years? Answer:', emergency_same_all_years\n",
      "\n",
      "# Answer: \n",
      "# 1) Hospital types are the same every year. Woot!\n",
      "# 2) Ownership values are not all the same: some have 'Physican Ownership', and some have 'Physician'. \n",
      "#    We'll standardize to 'Physician', because that's in the 2014 dataset.\n",
      "# 3) Emergency values are always 'no' or 'yes', but sometimes the capitalization varies. \n",
      "#    We'll standardize to 'No' and 'Yes', because that's in the 2014 dataset."
     ],
     "language": "python",
     "metadata": {},
     "outputs": [
      {
       "output_type": "stream",
       "stream": "stdout",
       "text": [
        "Is the set of hospital types the same across all years? Answer: True\n",
        "Is the set of ownership values the same across all years? Answer: False\n",
        "Is the set of emergency values the same across all years? Answer: False\n"
       ]
      }
     ],
     "prompt_number": 16
    },
    {
     "cell_type": "code",
     "collapsed": false,
     "input": [
      "# 3) If they vary significantly over time, what how many hospitals have data for all available years?\n",
      "\n",
      "# Answer: All hospitals have the nearly same data all years, so the dataset with the most hospitals (2014) should be used\n",
      "# for all years."
     ],
     "language": "python",
     "metadata": {},
     "outputs": [],
     "prompt_number": 17
    },
    {
     "cell_type": "code",
     "collapsed": false,
     "input": [
      "# Question: Ther are two hospital ownership values that look like the same thing: \"Government Federal\" and \"Government Federal\".\n",
      "# Should these two be conflated?\n",
      "\n",
      "# Answer: All of the \"Government Federal\" hospitals are VA hospitals. None of them seem to have HAI scores, and they have \n",
      "# non-integer provider IDs, so I'm throwing them out.\n",
      "\n",
      "def parseGeneralInfoCSV(filepath, year_str):\n",
      "    '''Imports \"Hospital_Data.csv\" or \"Hospital General Information.csv\" as a dataframe.'''\n",
      "    COLUMNS_OLD = ['Provider Number', 'Hospital Type', 'Hospital Ownership', 'Emergency Services']\n",
      "    COLUMNS_NEW = ['Provider ID', 'Hospital Type', 'Hospital Ownership', 'Emergency Services']\n",
      "    useful_columns = COLUMNS_NEW if year_str == '2014' else COLUMNS_OLD\n",
      "    data = data_utils.parseFile(filepath, useful_columns)\n",
      "    # Change 'Provider Number' to 'Provider ID' to match the 2014 version.\n",
      "    if year_str != '2014':\n",
      "        data = data.rename(columns={'Provider Number': 'Provider ID'})\n",
      "    # Throw out 'Government Federal' hospitals -- they have no HAI score.\n",
      "    data = data[data['Hospital Ownership'] != 'Government Federal']\n",
      "    # Make Provider ID an integer so we can use it as a merge key. \n",
      "    # Other tables have padding zeros, so converting to int standardizes them.\n",
      "    data['Provider ID'] = data['Provider ID'].astype(int)\n",
      "    return data\n",
      "\n",
      "dfs = []\n",
      "\n",
      "for i, filename in enumerate(data_year_files):\n",
      "    df = parseGeneralInfoCSV('/'.join([base_data_dir, data_year_files[i]]), data_years[i])\n",
      "    print 'Imported data file from', data_years[i], '. Columns:', list(df.columns), 'Number of rows:', len(df)    \n",
      "    dfs.append(df)"
     ],
     "language": "python",
     "metadata": {},
     "outputs": [
      {
       "output_type": "stream",
       "stream": "stdout",
       "text": [
        "Imported data file from 2012 . Columns: ['Provider ID', 'Hospital Type', 'Hospital Ownership', 'Emergency Services'] Number of rows: 4668\n",
        "Imported data file from"
       ]
      },
      {
       "output_type": "stream",
       "stream": "stdout",
       "text": [
        " 2013 . Columns: ['Provider ID', 'Hospital Type', 'Hospital Ownership', 'Emergency Services'] Number of rows: 4694\n",
        "Imported data file from"
       ]
      },
      {
       "output_type": "stream",
       "stream": "stdout",
       "text": [
        " 2014 . Columns: ['Provider ID', 'Hospital Type', 'Hospital Ownership', 'Emergency Services'] Number of rows: 4732\n"
       ]
      }
     ],
     "prompt_number": 18
    },
    {
     "cell_type": "code",
     "collapsed": false,
     "input": [
      "# Functions to write\n",
      "# 2) Merge the General Information dataframe into the HAI dataframe.\n",
      "\n",
      "import hai_data_cleanup\n",
      "\n",
      "def mergeGeneralInfoIntoHAIFrame(hai_df, general_df):\n",
      "    return pd.merge(hai_df, general_df, on='Provider ID', how='left')\n",
      "\n",
      "hai_file = 'data/2014/Healthcare Associated Infections - Hospital.csv'\n",
      "year_str = '2014'\n",
      "\n",
      "hai_df = hai_data_cleanup.parseHAIFile(hai_file, year_str)\n",
      "hai_df = hai_data_cleanup.filterByMeasureID(hai_df, 'HAI_1_SIR')\n",
      "target_column = 'Score'\n",
      "hai_df = hai_data_cleanup.removeRowsWithMissingTarget(hai_df, target_column)\n",
      "\n",
      "\n",
      "general_df = dfs[2]  # 2014 General information file\n",
      "    \n",
      "merged = mergeGeneralInfoIntoHAIFrame(hai_df, general_df)\n",
      "\n",
      "print 'Available Hospital types after merging:', set(merged['Hospital Type'])\n",
      "print 'Available Hospital ownership values after merging:', set(merged['Hospital Ownership'])\n",
      "print 'Available Hospital emergency values after merging:', set(merged['Emergency Services'])\n",
      "\n",
      "# Conclusion\n",
      "# Only the 'Acute Care Hospitals' hospital type has HAI_[1-4]_SIR scores. \n",
      "# 'Acute Care Hospitals' and 'Critical Access Hospitals' have HAI_[5-6]_SIR scores."
     ],
     "language": "python",
     "metadata": {},
     "outputs": [
      {
       "output_type": "stream",
       "stream": "stdout",
       "text": [
        "Available Hospital types after merging: set(['Acute Care Hospitals'])\n",
        "Available Hospital ownership values after merging: set(['Physician', 'Government - Federal', 'Proprietary', 'Voluntary non-profit - Church', 'Voluntary non-profit - Private', 'Government - Hospital District or Authority', 'Government - Local', 'Voluntary non-profit - Other', 'Government - State'])\n",
        "Available Hospital emergency values after merging: set(['Yes', 'No'])\n"
       ]
      }
     ],
     "prompt_number": 35
    },
    {
     "cell_type": "code",
     "collapsed": false,
     "input": [],
     "language": "python",
     "metadata": {},
     "outputs": []
    }
   ],
   "metadata": {}
  }
 ]
}