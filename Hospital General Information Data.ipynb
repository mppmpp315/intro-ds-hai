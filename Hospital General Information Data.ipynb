{
 "metadata": {
  "name": "",
  "signature": "sha256:bb19bf36cfb4596e61006892cc29050803ff42b484eb860fdf6215684eb00dbb"
 },
 "nbformat": 3,
 "nbformat_minor": 0,
 "worksheets": [
  {
   "cells": [
    {
     "cell_type": "code",
     "collapsed": false,
     "input": [
      "# The \"Hospital General Information.csv\" (2014) and the \"Hospital_Data.csv\" (2005(?)-2013) files contain three\n",
      "# potentially useful features for each hospital: \"Hospital Type\" ,\"Hospital Ownership\", and \"Emergency Services\".\n",
      "# 1) Hospital Type -- A string describing the kinds of services offered by the hospital.\n",
      "# 2) Hospital Ownership -- A string describing what type of organization operates the hospital.\n",
      "# 3) Emergency Services -- A boolean that indicates whether or not the hospital provides emergency services\n",
      "\n",
      "# Functions to write:\n",
      "# 1) Read in a csv file, load it into a data frame, and strip out all columns except \"Provider ID\", \"Hospital Type\", \n",
      "#   \"Hospital Ownership\", and \"Emergency Services\".\n",
      "\n",
      "# Questions to answer:\n",
      "# 1) What possible values can the three types take on? What string do they use to indicate there is no data available?\n",
      "# 2) Do these features vary over time, or are they constant for all available years?\n",
      "# 3) If they vary significantly over time, what how many hospitals have data for all available years?"
     ],
     "language": "python",
     "metadata": {},
     "outputs": [],
     "prompt_number": 1
    },
    {
     "cell_type": "code",
     "collapsed": false,
     "input": [
      "import sys\n",
      "sys.path.append('/Users/pinesol/intro-ds-hai/src')\n",
      "\n",
      "import numpy as np\n",
      "\n",
      "import matplotlib.pyplot as plt\n",
      "%matplotlib inline"
     ],
     "language": "python",
     "metadata": {},
     "outputs": [],
     "prompt_number": 5
    },
    {
     "cell_type": "code",
     "collapsed": false,
     "input": [
      "# Functions to write:\n",
      "# 1) Read in a csv file, load it into a data frame, and strip out all columns except \"Provider ID\", \"Hospital Type\", \n",
      "#   \"Hospital Ownership\", and \"Emergency Services\".\n",
      "\n",
      "import data_utils\n",
      "\n",
      "def parseGeneralInfoCSVFirstVersion(filepath):\n",
      "    '''Imports \"Hospital_Data.csv\" or \"Hospital General Information.csv\" as a dataframe.\n",
      "    The useful columns seem to have the same name year, so there is no year param.\n",
      "    (This is the first version of this function, the final version is at the bottom of the notebook)\n",
      "    '''\n",
      "    useful_columns = ['Provider ID', 'Hospital Type', 'Hospital Ownership', 'Emergency Services']\n",
      "    data = data_utils.parseFile(filepath, useful_columns)\n",
      "    return data\n",
      "\n",
      "base_data_dir = '/Users/pinesol/intro-ds-hai/data'\n",
      "data_year_files = ['2012/Hospital_Data.csv',\n",
      "                   '2013/Hospital_Data.csv', \n",
      "                   '2014/Hospital General Information.csv']\n",
      "data_years = ['2012', '2013', '2014']\n",
      "\n",
      "dfs = []\n",
      "\n",
      "for year, filename in zip(data_years, data_year_files):\n",
      "    df = parseGeneralInfoCSVFirstVersion(data_dir + '2014/Hospital General Information.csv')\n",
      "    print 'Imported data file from', year, '. Columns:', list(df.columns), 'Number of rows:', len(df)    \n",
      "    dfs.append(df)\n"
     ],
     "language": "python",
     "metadata": {},
     "outputs": [
      {
       "output_type": "stream",
       "stream": "stdout",
       "text": [
        "Imported data file from 2012 . Columns: ['Provider ID', 'Hospital Type', 'Hospital Ownership', 'Emergency Services'] Number of rows: 4861\n",
        "Imported data file from 2013 . Columns: ['Provider ID', 'Hospital Type', 'Hospital Ownership', 'Emergency Services'] Number of rows: 4861\n",
        "Imported data file from 2014 . Columns: ['Provider ID', 'Hospital Type', 'Hospital Ownership', 'Emergency Services'] Number of rows: 4861\n"
       ]
      }
     ],
     "prompt_number": 53
    },
    {
     "cell_type": "code",
     "collapsed": false,
     "input": [
      "# Questions to answer:\n",
      "# 1) What possible values can the three types take on? What string do they use to indicate there is no data available?\n",
      "\n",
      "# 'Hospital Type', 'Hospital Ownership', 'Emergency Services'\n",
      "# One entry per year.\n",
      "type_values_per_year = []\n",
      "ownership_values_per_year = []\n",
      "emergency_values_per_year = []\n",
      "\n",
      "for df in dfs:\n",
      "    type_values_per_year.append(sorted(set(df['Hospital Type'])))\n",
      "    ownership_values_per_year.append(sorted(set(df['Hospital Ownership'])))\n",
      "    emergency_values_per_year.append(sorted(set(df['Emergency Services'])))\n",
      "    \n",
      "for i, year in enumerate(data_years):\n",
      "    print year\n",
      "    print '  Hospital types per year\\n   ', '\\n    '.join(type_values_per_year[i]), '\\n'\n",
      "    print '  Ownership values per year\\n   ', '\\n    '.join(ownership_values_per_year[i]), '\\n'\n",
      "    print '  Emergency values per year\\n   ', '\\n    '.join(emergency_values_per_year[i]), '\\n'\n",
      "\n",
      "# There don't seem to be any values that indicate data is unavailable! Woohoo!"
     ],
     "language": "python",
     "metadata": {},
     "outputs": [
      {
       "output_type": "stream",
       "stream": "stdout",
       "text": [
        "2012\n",
        "  Hospital types per year\n",
        "    ACUTE CARE - VETERANS ADMINISTRATION\n",
        "    Acute Care Hospitals\n",
        "    Childrens\n",
        "    Critical Access Hospitals \n",
        "\n",
        "  Ownership values per year\n",
        "    Government - Federal\n",
        "    Government - Hospital District or Authority\n",
        "    Government - Local\n",
        "    Government - State\n",
        "    Government Federal\n",
        "    Physician\n",
        "    Proprietary\n",
        "    Tribal\n",
        "    Voluntary non-profit - Church\n",
        "    Voluntary non-profit - Other\n",
        "    Voluntary non-profit - Private \n",
        "\n",
        "  Emergency values per year\n",
        "    No\n",
        "    Yes \n",
        "\n",
        "2013\n",
        "  Hospital types per year\n",
        "    ACUTE CARE - VETERANS ADMINISTRATION\n",
        "    Acute Care Hospitals\n",
        "    Childrens\n",
        "    Critical Access Hospitals \n",
        "\n",
        "  Ownership values per year\n",
        "    Government - Federal\n",
        "    Government - Hospital District or Authority\n",
        "    Government - Local\n",
        "    Government - State\n",
        "    Government Federal\n",
        "    Physician\n",
        "    Proprietary\n",
        "    Tribal\n",
        "    Voluntary non-profit - Church\n",
        "    Voluntary non-profit - Other\n",
        "    Voluntary non-profit - Private \n",
        "\n",
        "  Emergency values per year\n",
        "    No\n",
        "    Yes \n",
        "\n",
        "2014\n",
        "  Hospital types per year\n",
        "    ACUTE CARE - VETERANS ADMINISTRATION\n",
        "    Acute Care Hospitals\n",
        "    Childrens\n",
        "    Critical Access Hospitals \n",
        "\n",
        "  Ownership values per year\n",
        "    Government - Federal\n",
        "    Government - Hospital District or Authority\n",
        "    Government - Local\n",
        "    Government - State\n",
        "    Government Federal\n",
        "    Physician\n",
        "    Proprietary\n",
        "    Tribal\n",
        "    Voluntary non-profit - Church\n",
        "    Voluntary non-profit - Other\n",
        "    Voluntary non-profit - Private \n",
        "\n",
        "  Emergency values per year\n",
        "    No\n",
        "    Yes \n",
        "\n"
       ]
      }
     ],
     "prompt_number": 27
    },
    {
     "cell_type": "code",
     "collapsed": false,
     "input": [
      "# 2) Do these features vary over time, or are they constant for all available years?\n",
      "\n",
      "type_same_all_years = False\n",
      "ownership_same_all_years = False\n",
      "emergency_same_all_years = False\n",
      "\n",
      "for type_set in list(type_values_per_year)[1:]:\n",
      "    type_same_all_years = type_set == type_values_per_year[0]\n",
      "    if not type_same_all_years: break\n",
      "        \n",
      "for ownership_set in list(ownership_values_per_year)[1:]:\n",
      "    ownership_same_all_years = ownership_set == ownership_values_per_year[0]\n",
      "    if not ownership_same_all_years: break\n",
      "        \n",
      "for emergency_set in list(emergency_values_per_year)[1:]:\n",
      "    emergency_same_all_years = emergency_set == emergency_values_per_year[0]\n",
      "    if not emergency_same_all_years: break\n",
      "\n",
      "print 'Is the set of hospital types the same across all years? Answer:', type_same_all_years\n",
      "print 'Is the set of ownership values the same across all years? Answer:', ownership_same_all_years\n",
      "print 'Is the set of emergency values the same across all years? Answer:', emergency_same_all_years\n",
      "\n",
      "# Answer: all years are the same for all three features! Woohoo!"
     ],
     "language": "python",
     "metadata": {},
     "outputs": [
      {
       "output_type": "stream",
       "stream": "stdout",
       "text": [
        "Is the set of hospital types the same across all years? Answer: True\n",
        "Is the set of ownership values the same across all years? Answer: True\n",
        "Is the set of emergency values the same across all years? Answer: True\n"
       ]
      }
     ],
     "prompt_number": 32
    },
    {
     "cell_type": "code",
     "collapsed": false,
     "input": [
      "# 3) If they vary significantly over time, what how many hospitals have data for all available years?\n",
      "\n",
      "# Answer: All hospitals have the same data all years, so the dataset with the most hospitals (2014) should be used\n",
      "# for all years."
     ],
     "language": "python",
     "metadata": {},
     "outputs": [],
     "prompt_number": 33
    },
    {
     "cell_type": "code",
     "collapsed": false,
     "input": [
      "# Question: Ther are two hospital ownership values that look like the same thing: \"Government Federal\" and \"Government Federal\".\n",
      "# Should these two be conflated?\n",
      "\n",
      "# Answer: There is no information in the data guide, so I'm going to assume they are the same.\n",
      "\n",
      "for df in dfs:\n",
      "    df['Hospital Ownership'] = df['Hospital Ownership'].replace('Government Federal', 'Government - Federal')\n",
      "\n",
      "def parseGeneralInfoCSV(filepath):\n",
      "    '''Imports \"Hospital_Data.csv\" or \"Hospital General Information.csv\" as a dataframe.\n",
      "    The useful columns seem to have the same name year, so there is no year param.\n",
      "    '''\n",
      "    useful_columns = ['Provider ID', 'Hospital Type', 'Hospital Ownership', 'Emergency Services']\n",
      "    data = data_utils.parseFile(filepath, useful_columns)\n",
      "    # 'Conflate Government Federal' with 'Government - Federal'\n",
      "    data['Hospital Ownership'] = data['Hospital Ownership'].replace('Government Federal', 'Government - Federal')\n",
      "    return data"
     ],
     "language": "python",
     "metadata": {},
     "outputs": [],
     "prompt_number": 55
    },
    {
     "cell_type": "code",
     "collapsed": false,
     "input": [
      "# Distribution of data?"
     ],
     "language": "python",
     "metadata": {},
     "outputs": []
    }
   ],
   "metadata": {}
  }
 ]
}