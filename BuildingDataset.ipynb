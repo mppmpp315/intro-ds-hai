{
 "metadata": {
  "name": "",
  "signature": "sha256:521654de9f08f41a48673931bdd75a135a88293a4f5d25cdd8fe7915bc1dfca4"
 },
 "nbformat": 3,
 "nbformat_minor": 0,
 "worksheets": [
  {
   "cells": [
    {
     "cell_type": "code",
     "collapsed": false,
     "input": [
      "%matplotlib inline\n",
      "import matplotlib.pyplot as plt\n",
      "import pandas as pd\n",
      "import numpy as np\n",
      "import sys,os\n",
      "from sklearn import linear_model\n",
      "from sklearn.cross_validation import train_test_split\n",
      "\n",
      "from sklearn.metrics import roc_auc_score\n",
      "\n",
      "from sklearn import linear_model\n",
      "from sklearn.cross_validation import train_test_split\n",
      "from sklearn.metrics import roc_curve, auc\n",
      "\n",
      "sys.path.append('src/')"
     ],
     "language": "python",
     "metadata": {},
     "outputs": [],
     "prompt_number": 1
    },
    {
     "cell_type": "code",
     "collapsed": false,
     "input": [
      "import hai_data_cleanup\n",
      "reload(hai_data_cleanup)\n",
      "\n",
      "# Only 2014, 2013, and 2012 are currently avaiable (and I think they always track the previous year, but whatevs).\n",
      "data_year_files = ['data/2012/Healthcare_Associated_Infections.csv',\n",
      "                   'data/2013/Healthcare_Associated_Infections.csv', \n",
      "                   'data/2014/Healthcare Associated Infections - Hospital.csv']\n",
      "#data_years = np.arange(2005, 2014)\n",
      "data_years = np.arange(2012,2014+1).astype('str')\n",
      "\n",
      "dfs = []\n",
      "\n",
      "for year, filename in zip(data_years, data_year_files):\n",
      "    df = hai_data_cleanup.parseHAIFile(filename, year)\n",
      "    dfs.append(df)"
     ],
     "language": "python",
     "metadata": {},
     "outputs": [],
     "prompt_number": 8
    },
    {
     "cell_type": "code",
     "collapsed": false,
     "input": [
      "df_joined = dfs[0]\n",
      "for year in range(len(data_years)):\n",
      "    df_joined = df_joined.merge(dfs[year], how='left', on=dfs[year].columns.drop('Score').tolist(), \n",
      "                                suffixes=('',' ' + data_years[year]))\n",
      "df_joined = df_joined.drop('Score',1)"
     ],
     "language": "python",
     "metadata": {},
     "outputs": [],
     "prompt_number": 9
    },
    {
     "cell_type": "code",
     "collapsed": false,
     "input": [
      "import data_utils\n",
      "df_2013 = data_utils.parseFileWithIndex('data/2013/Medicare Volume Measures.csv', \n",
      "                               ['Diagnosis Related Group', 'Number Of Cases'])\n",
      "df_2012 = data_utils.parseFileWithIndex('data/2012/Medicare Payment and Volume Measures.csv', \n",
      "                               ['Diagnosis Related Group', 'Number Of Cases'])\n",
      "mincases = '10'\n",
      "missing_marker = '*'"
     ],
     "language": "python",
     "metadata": {},
     "outputs": [],
     "prompt_number": 10
    },
    {
     "cell_type": "code",
     "collapsed": false,
     "input": [
      "reformatted = []\n",
      "for df in [df_2013, df_2012]:\n",
      "    df['Number Of Cases'][df['Number Of Cases'] == missing_marker] = mincases\n",
      "    df['Number Of Cases'] = df['Number Of Cases'].str.replace(\",\", \"\")\n",
      "    df['Number Of Cases'] = df['Number Of Cases'].astype(float)\n",
      "    \n",
      "    hospitals = pd.unique(df.index)\n",
      "    cols = pd.unique(df['Diagnosis Related Group'])\n",
      "    \n",
      "    df2 = pd.DataFrame(index = hospitals, columns = cols)\n",
      "    for col in cols:\n",
      "        x = df['Number Of Cases'][df['Diagnosis Related Group'] == col]\n",
      "        df2[col] = x\n",
      "        \n",
      "    reformatted.append(df2)"
     ],
     "language": "python",
     "metadata": {},
     "outputs": [],
     "prompt_number": 11
    },
    {
     "cell_type": "code",
     "collapsed": false,
     "input": [
      "reformatted[0].columns = reformatted[0].columns.map(lambda x: str(x) + ' 2013')\n",
      "volume = reformatted[0].join(reformatted[1], how = 'outer', rsuffix=' 2012')\n",
      "volume[pd.isnull(volume)] = mincases "
     ],
     "language": "python",
     "metadata": {},
     "outputs": [],
     "prompt_number": 12
    },
    {
     "cell_type": "code",
     "collapsed": false,
     "input": [
      "reload(merge_data)\n",
      "\n",
      "data = merge_data.mergeAllTheThings()\n"
     ],
     "language": "python",
     "metadata": {},
     "outputs": []
    },
    {
     "cell_type": "code",
     "collapsed": false,
     "input": [
      "x = merge_data.processVolumeData(data)"
     ],
     "language": "python",
     "metadata": {},
     "outputs": [],
     "prompt_number": 81
    },
    {
     "cell_type": "code",
     "collapsed": false,
     "input": [
      "np.sum(np.sum(x.isnull()))"
     ],
     "language": "python",
     "metadata": {},
     "outputs": [
      {
       "metadata": {},
       "output_type": "pyout",
       "prompt_number": 85,
       "text": [
        "0"
       ]
      }
     ],
     "prompt_number": 85
    },
    {
     "cell_type": "code",
     "collapsed": false,
     "input": [
      "for index, row in x.iterrows():\n",
      "        for column in data.columns.values:\n",
      "            assert not np.isnan(data[column][index]), 'Data with Provider ID %i in column %s is NaN: %s.' % (index, column, data[column][index])\n",
      "            assert np.isreal(data[column][index]), 'Data with Provider ID %i in column %s has non-numeric data: %s.' % (index, column, data[column][index])\n",
      "            "
     ],
     "language": "python",
     "metadata": {},
     "outputs": [],
     "prompt_number": 89
    }
   ],
   "metadata": {}
  }
 ]
}