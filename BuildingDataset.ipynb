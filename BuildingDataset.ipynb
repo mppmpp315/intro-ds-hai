{
 "metadata": {
  "name": "",
  "signature": "sha256:40afe32abfda85ab14f34e8244f8031bd09e5d1c5a1d5fb33521e4553ae96a8d"
 },
 "nbformat": 3,
 "nbformat_minor": 0,
 "worksheets": [
  {
   "cells": [
    {
     "cell_type": "code",
     "collapsed": false,
     "input": [
      "%matplotlib inline\n",
      "import matplotlib.pyplot as plt\n",
      "import pandas as pd\n",
      "import numpy as np\n",
      "import sys,os\n",
      "from sklearn import linear_model\n",
      "from sklearn.cross_validation import train_test_split\n",
      "\n",
      "from sklearn.metrics import roc_auc_score\n",
      "\n",
      "from sklearn import linear_model\n",
      "from sklearn.cross_validation import train_test_split\n",
      "from sklearn.metrics import roc_curve, auc\n",
      "\n",
      "sys.path.append('src/')"
     ],
     "language": "python",
     "metadata": {},
     "outputs": [],
     "prompt_number": 3
    },
    {
     "cell_type": "code",
     "collapsed": false,
     "input": [
      "import hai_data_cleanup\n",
      "reload(hai_data_cleanup)\n",
      "\n",
      "# Only 2014, 2013, and 2012 are currently avaiable (and I think they always track the previous year, but whatevs).\n",
      "data_year_files = ['data/2012/Healthcare_Associated_Infections.csv',\n",
      "                   'data/2013/Healthcare_Associated_Infections.csv', \n",
      "                   'data/2014/Healthcare Associated Infections - Hospital.csv']\n",
      "#data_years = np.arange(2005, 2014)\n",
      "data_years = np.arange(2012,2014+1).astype('str')\n",
      "\n",
      "dfs = []\n",
      "\n",
      "for year, filename in zip(data_years, data_year_files):\n",
      "    df = hai_data_cleanup.parseHAIFile(filename, year)\n",
      "    dfs.append(df)"
     ],
     "language": "python",
     "metadata": {},
     "outputs": [],
     "prompt_number": 12
    },
    {
     "cell_type": "code",
     "collapsed": false,
     "input": [
      "df_joined = dfs[0]\n",
      "for year in range(len(data_years)):\n",
      "    df_joined = df_joined.merge(dfs[year], how='left', on=dfs[year].columns.drop('Score').tolist(), \n",
      "                                suffixes=('',' ' + data_years[year]))\n",
      "df_joined = df_joined.drop('Score',1)"
     ],
     "language": "python",
     "metadata": {},
     "outputs": [],
     "prompt_number": 13
    },
    {
     "cell_type": "code",
     "collapsed": false,
     "input": [
      "import data_utils\n",
      "df_2013 = data_utils.parseFileWithIndex('data/2013/Medicare Volume Measures.csv', \n",
      "                               ['Diagnosis Related Group', 'Number Of Cases'])\n",
      "df_2012 = data_utils.parseFileWithIndex('data/2012/Medicare Payment and Volume Measures.csv', \n",
      "                               ['Diagnosis Related Group', 'Number Of Cases'])\n",
      "mincases = '10'\n",
      "missing_marker = '*'"
     ],
     "language": "python",
     "metadata": {},
     "outputs": [],
     "prompt_number": 14
    },
    {
     "cell_type": "code",
     "collapsed": false,
     "input": [
      "reformatted = []\n",
      "for df in [df_2013, df_2012]:\n",
      "    df['Number Of Cases'][df['Number Of Cases'] == missing_marker] = mincases\n",
      "    df['Number Of Cases'] = df['Number Of Cases'].str.replace(\",\", \"\")\n",
      "    df['Number Of Cases'] = df['Number Of Cases'].astype(float)\n",
      "    \n",
      "    hospitals = pd.unique(df.index)\n",
      "    cols = pd.unique(df['Diagnosis Related Group'])\n",
      "    \n",
      "    df2 = pd.DataFrame(index = hospitals, columns = cols)\n",
      "    for col in cols:\n",
      "        x = df['Number Of Cases'][df['Diagnosis Related Group'] == col]\n",
      "        df2[col] = x\n",
      "        \n",
      "    reformatted.append(df2)"
     ],
     "language": "python",
     "metadata": {},
     "outputs": [],
     "prompt_number": 15
    },
    {
     "cell_type": "code",
     "collapsed": false,
     "input": [
      "reformatted[0]['Chest Pain']"
     ],
     "language": "python",
     "metadata": {},
     "outputs": [
      {
       "metadata": {},
       "output_type": "pyout",
       "prompt_number": 17,
       "text": [
        "10001    27\n",
        "10005    10\n",
        "10006    30\n",
        "10007    20\n",
        "10011    34\n",
        "10012    10\n",
        "10024    56\n",
        "10025    14\n",
        "10029    15\n",
        "10032    10\n",
        "10033    61\n",
        "10016    34\n",
        "10019    16\n",
        "10021    10\n",
        "10022    10\n",
        "...\n",
        "360271   NaN\n",
        "360350   NaN\n",
        "390307   NaN\n",
        "390314   NaN\n",
        "390323   NaN\n",
        "170198   NaN\n",
        "150172   NaN\n",
        "190268   NaN\n",
        "230264   NaN\n",
        "670005   NaN\n",
        "100240   NaN\n",
        "50754    NaN\n",
        "190255   NaN\n",
        "430093   NaN\n",
        "460043   NaN\n",
        "Name: Chest Pain, Length: 3382, dtype: float64"
       ]
      }
     ],
     "prompt_number": 17
    },
    {
     "cell_type": "code",
     "collapsed": false,
     "input": [
      "reformatted[0].columns = reformatted[0].columns.map(lambda x: str(x) + ' 2013')\n",
      "volume = reformatted[0].join(reformatted[1], how = 'outer', rsuffix=' 2012')\n",
      "volume[pd.isnull(volume)] = float(mincases) "
     ],
     "language": "python",
     "metadata": {},
     "outputs": [],
     "prompt_number": 20
    },
    {
     "cell_type": "code",
     "collapsed": false,
     "input": [
      "import merge_data\n",
      "reload(merge_data)\n",
      "data = merge_data.mergeAllTheThings()"
     ],
     "language": "python",
     "metadata": {},
     "outputs": [],
     "prompt_number": 21
    },
    {
     "cell_type": "code",
     "collapsed": false,
     "input": [
      "data.columns"
     ],
     "language": "python",
     "metadata": {},
     "outputs": [
      {
       "metadata": {},
       "output_type": "pyout",
       "prompt_number": 22,
       "text": [
        "Index([u'Bin 2014', u'AK', u'AL', u'AR', u'AZ', u'CA', u'CO', u'CT', u'DC', u'DE', u'FL', u'GA', u'HI', u'IA', u'ID', u'IL', u'IN', u'KS', u'KY', u'LA', u'MA', u'MD', u'ME', u'MI', u'MN', u'MO', u'MS', u'MT', u'NC', u'ND', u'NE', u'NH', u'NJ', u'NM', u'NV', u'NY', u'OH', u'OK', u'OR', u'PA', u'PR', u'RI', u'SC', u'SD', u'TN', u'TX', u'UT', u'VA', u'VI', u'VT', u'WA', u'WI', u'WV', u'WY', u'Bin 2013', u'Bin 2012', u'SCIP_INF_1_1', u'SCIP_INF_2_1', u'SCIP_INF_3_1', u'SCIP_INF_10_1', u'SCIP_INF_1_2', u'SCIP_INF_2_2', u'SCIP_INF_3_2', u'SCIP_INF_10_2', u'Spending_per_patient_2012', u'Spending_per_patient_2013', u'Acute myocardial infarction, discharged alive w/o CC/MCC 2013', u'Acute myocardial infarction, discharged alive w MCC 2013', u'Acute myocardial infarction, discharged alive w CC 2013', u'Heart failure and shock w/o CC/MCC 2013', u'Heart failure and shock w MCC 2013', u'Heart failure and shock w CC 2013', u'Chronic obstructive pulmonary disease w/o CC/MCC 2013', u'Chronic obstructive pulmonary disease w MCC 2013', u'Chronic obstructive pulmonary disease w CC 2013', u'Simple pneumonia and pleurisy w MCC 2013', u'Diabetes w MCC 2013', u'Chest Pain 2013', u'Cardiac valve and oth maj cardiothoracic proc w/o card cath w/o CC/MCC 2013', u'Cardiac valve and oth maj cardiothoracic proc w/o card cath w MCC 2013', u'Cardiac valve and oth maj cardiothoracic proc w/o card cath w CC 2013', u'Major cardiovasc procedures w MCC or thoracic aortic aneurysm repair 2013', u'Cardiac defibrillator implant w/o cardiac cath w/o MCC 2013', u'Cardiac defibrillator implant w/o cardiac cath w MCC 2013', u'Cardiac defib implant w cardiac cath w/o AMI/HF/shock w/o MCC 2013', u'Cardiac defib implant w cardiac cath w/o AMI/HF/shock w MCC 2013', u'Extracranial procedures w/o CC/MCC 2013', u'Extracranial procedures w CC 2013', u'Coronary bypass w/o cardiac cath w/o MCC 2013', u'Coronary bypass w/o cardiac cath w MCC 2013', u'Permanent cardiac pacemaker implant w/o CC/MCC 2013', u'Permanent cardiac pacemaker implant w CC 2013', u'Perc cardiovasc proc w drug-eluting stent w/o MCC 2013', u'Laparoscopic cholecystectomy w/o c.d.e. w/o CC/MCC 2013', u'Laparoscopic cholecystectomy w/o c.d.e. w MCC 2013', u'Laparoscopic cholecystectomy w/o c.d.e. w CC 2013', u'Cholecystectomy except by laparoscope w/o c.d.e. w MCC 2013', u'Hernia procedures except inguinal and femoral w/o CC/MCC 2013', u'Hernia procedures except inguinal and femoral w MCC 2013', u'Hernia procedures except inguinal and femoral w CC 2013', ...], dtype='object')"
       ]
      }
     ],
     "prompt_number": 22
    },
    {
     "cell_type": "code",
     "collapsed": false,
     "input": [
      "data['Bin 2014'].dtype == 'float64'"
     ],
     "language": "python",
     "metadata": {},
     "outputs": [
      {
       "metadata": {},
       "output_type": "pyout",
       "prompt_number": 26,
       "text": [
        "True"
       ]
      }
     ],
     "prompt_number": 26
    },
    {
     "cell_type": "code",
     "collapsed": false,
     "input": [
      "for index, row in x.iterrows():\n",
      "        for column in data.columns.values:\n",
      "            assert not np.isnan(data[column][index]), 'Data with Provider ID %i in column %s is NaN: %s.' % (index, column, data[column][index])\n",
      "            assert np.isreal(data[column][index]), 'Data with Provider ID %i in column %s has non-numeric data: %s.' % (index, column, data[column][index])\n",
      "            "
     ],
     "language": "python",
     "metadata": {},
     "outputs": [],
     "prompt_number": 89
    }
   ],
   "metadata": {}
  }
 ]
}