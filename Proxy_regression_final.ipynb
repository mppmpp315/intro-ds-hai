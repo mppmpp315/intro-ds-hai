{
 "metadata": {
  "name": "",
  "signature": "sha256:445633c102543525bae8e5c624a24e74bb4b8961a5cf9732409a6a55df9495f2"
 },
 "nbformat": 3,
 "nbformat_minor": 0,
 "worksheets": [
  {
   "cells": [
    {
     "cell_type": "code",
     "collapsed": false,
     "input": [
      "# we willl be doing....."
     ],
     "language": "python",
     "metadata": {},
     "outputs": [],
     "prompt_number": 1
    },
    {
     "cell_type": "code",
     "collapsed": false,
     "input": [
      "%matplotlib inline\n",
      "import sys\n",
      "sys.path.append('src')\n",
      "sys.path.append('data')\n",
      "\n",
      "import numpy as np\n",
      "import pandas as pd\n",
      "import matplotlib.pyplot as plt\n",
      "\n",
      "import data_utils\n",
      "import binning_utils\n",
      "import hai_data_cleanup\n",
      "import merge_data\n",
      "import classifier\n",
      "\n",
      "\n",
      "\n",
      "reload(merge_data)\n",
      "reload(data_utils)\n",
      "reload(binning_utils)\n",
      "reload(hai_data_cleanup)\n",
      "reload(classifier)\n",
      "from sklearn import linear_model\n",
      "from sklearn.cross_validation import train_test_split\n",
      "from sklearn.metrics import roc_auc_score,roc_curve, auc\n",
      "\n",
      "from sklearn.cross_validation import KFold\n",
      "from sklearn import metrics"
     ],
     "language": "python",
     "metadata": {},
     "outputs": [],
     "prompt_number": 36
    },
    {
     "cell_type": "code",
     "collapsed": false,
     "input": [
      "# compare chages given different datasets merged. (different features)\n",
      "# compare different binning functions\n",
      "# compare proxy versus auto regressive\n",
      "# learning curve."
     ],
     "language": "python",
     "metadata": {},
     "outputs": [],
     "prompt_number": 3
    },
    {
     "cell_type": "code",
     "collapsed": false,
     "input": [
      "# Taking target as bin function 1. proxy as bin function 2\n",
      "'''\n",
      "\n",
      "DF_all_features_1_2 = merge_data.mergeAllTheThingsForProxy(Target_binning_func =binning_utils.binByScore1 ,\n",
      "                             Proxy_binning_func = binning_utils.binByScore2, \n",
      "                             hai_2013_binning_func = binning_utils.binByScore4, \n",
      "                             hai_2012_binning_func = binning_utils.binByScore4)\n",
      "\n",
      "DF_no_states_1_2 = DF_all_features_1_2.drop(['AK', 'AL', 'AR', 'AZ', 'CA', 'CO', 'CT', 'DC', 'DE', 'FL',\n",
      "    'GA', 'HI', 'IA', 'ID', 'IL', 'IN', 'KS', 'KY', 'LA', 'MA', 'MD', 'ME', 'MI', 'MN', 'MO', 'MS', \n",
      "    'MT', 'NC', 'ND', 'NE', 'NH', 'NJ', 'NM', 'NV', 'NY', 'OH', 'OK', 'OR', 'PA', 'PR', 'RI', 'SC', \n",
      "    'SD', 'TN', 'TX', 'UT', 'VA', 'VI', 'VT', 'WA', 'WI', 'WV', 'WY'],1)\n",
      "\n",
      "DF_no_SCIPD_1_2 = merge_data.mergeAllTheThingsForProxy(Target_binning_func =binning_utils.binByScore1 ,\n",
      "                             Proxy_binning_func = binning_utils.binByScore2, \n",
      "                             hai_2013_binning_func = binning_utils.binByScore4, \n",
      "                             hai_2012_binning_func = binning_utils.binByScore4, SCIPD =False, Spending = True, Volume = True  )\n",
      "\n",
      "DF_no_Spending_1_2 = merge_data.mergeAllTheThingsForProxy(Target_binning_func =binning_utils.binByScore1 ,\n",
      "                             Proxy_binning_func = binning_utils.binByScore2, \n",
      "                             hai_2013_binning_func = binning_utils.binByScore4, \n",
      "                             hai_2012_binning_func = binning_utils.binByScore4, SCIPD =True, Spending = False, Volume = True)\n",
      "\n",
      "DF_no_Volume_1_2 = merge_data.mergeAllTheThingsForProxy(Target_binning_func =binning_utils.binByScore1 ,\n",
      "                             Proxy_binning_func = binning_utils.binByScore2, \n",
      "                             hai_2013_binning_func = binning_utils.binByScore4, \n",
      "                             hai_2012_binning_func = binning_utils.binByScore4, SCIPD =True, Spending = True, Volume = False  )'''"
     ],
     "language": "python",
     "metadata": {},
     "outputs": [
      {
       "metadata": {},
       "output_type": "pyout",
       "prompt_number": 4,
       "text": [
        "\"\\n\\nDF_all_features_1_2 = merge_data.mergeAllTheThingsForProxy(Target_binning_func =binning_utils.binByScore1 ,\\n                             Proxy_binning_func = binning_utils.binByScore2, \\n                             hai_2013_binning_func = binning_utils.binByScore4, \\n                             hai_2012_binning_func = binning_utils.binByScore4)\\n\\nDF_no_states_1_2 = DF_all_features_1_2.drop(['AK', 'AL', 'AR', 'AZ', 'CA', 'CO', 'CT', 'DC', 'DE', 'FL',\\n    'GA', 'HI', 'IA', 'ID', 'IL', 'IN', 'KS', 'KY', 'LA', 'MA', 'MD', 'ME', 'MI', 'MN', 'MO', 'MS', \\n    'MT', 'NC', 'ND', 'NE', 'NH', 'NJ', 'NM', 'NV', 'NY', 'OH', 'OK', 'OR', 'PA', 'PR', 'RI', 'SC', \\n    'SD', 'TN', 'TX', 'UT', 'VA', 'VI', 'VT', 'WA', 'WI', 'WV', 'WY'],1)\\n\\nDF_no_SCIPD_1_2 = merge_data.mergeAllTheThingsForProxy(Target_binning_func =binning_utils.binByScore1 ,\\n                             Proxy_binning_func = binning_utils.binByScore2, \\n                             hai_2013_binning_func = binning_utils.binByScore4, \\n                             hai_2012_binning_func = binning_utils.binByScore4, SCIPD =False, Spending = True, Volume = True  )\\n\\nDF_no_Spending_1_2 = merge_data.mergeAllTheThingsForProxy(Target_binning_func =binning_utils.binByScore1 ,\\n                             Proxy_binning_func = binning_utils.binByScore2, \\n                             hai_2013_binning_func = binning_utils.binByScore4, \\n                             hai_2012_binning_func = binning_utils.binByScore4, SCIPD =True, Spending = False, Volume = True)\\n\\nDF_no_Volume_1_2 = merge_data.mergeAllTheThingsForProxy(Target_binning_func =binning_utils.binByScore1 ,\\n                             Proxy_binning_func = binning_utils.binByScore2, \\n                             hai_2013_binning_func = binning_utils.binByScore4, \\n                             hai_2012_binning_func = binning_utils.binByScore4, SCIPD =True, Spending = True, Volume = False  )\""
       ]
      }
     ],
     "prompt_number": 4
    },
    {
     "cell_type": "code",
     "collapsed": false,
     "input": [
      "'''# Taking target as bin function label. proxy as bin function 2\n",
      "\n",
      "DF_all_features_label_2 = merge_data.mergeAllTheThingsForProxy(Target_binning_func =binning_utils.binByLabel ,\n",
      "                             Proxy_binning_func = binning_utils.binByScore2, \n",
      "                             hai_2013_binning_func = binning_utils.binByScore4, \n",
      "                             hai_2012_binning_func = binning_utils.binByScore4)\n",
      "\n",
      "DF_no_states_label_2 = DF_all_features_label_2.drop(['AK', 'AL', 'AR', 'AZ', 'CA', 'CO', 'CT', 'DC', 'DE', 'FL',\n",
      "    'GA', 'HI', 'IA', 'ID', 'IL', 'IN', 'KS', 'KY', 'LA', 'MA', 'MD', 'ME', 'MI', 'MN', 'MO', 'MS', \n",
      "    'MT', 'NC', 'ND', 'NE', 'NH', 'NJ', 'NM', 'NV', 'NY', 'OH', 'OK', 'OR', 'PA', 'PR', 'RI', 'SC', \n",
      "    'SD', 'TN', 'TX', 'UT', 'VA', 'VI', 'VT', 'WA', 'WI', 'WV', 'WY'],1)\n",
      "\n",
      "DF_no_SCIPD_label_2 = merge_data.mergeAllTheThingsForProxy(Target_binning_func =binning_utils.binByLabel,\n",
      "                             Proxy_binning_func = binning_utils.binByScore2, \n",
      "                             hai_2013_binning_func = binning_utils.binByScore4, \n",
      "                             hai_2012_binning_func = binning_utils.binByScore4, SCIPD =False, Spending = True, Volume = True  )\n",
      "\n",
      "DF_no_Spending_label_2 = merge_data.mergeAllTheThingsForProxy(Target_binning_func =binning_utils.binByLabel ,\n",
      "                             Proxy_binning_func = binning_utils.binByScore2, \n",
      "                             hai_2013_binning_func = binning_utils.binByScore4, \n",
      "                             hai_2012_binning_func = binning_utils.binByScore4, SCIPD =True, Spending = False, Volume = True)\n",
      "\n",
      "DF_no_Volume_label_2 = merge_data.mergeAllTheThingsForProxy(Target_binning_func =binning_utils.binByLabel ,\n",
      "                             Proxy_binning_func = binning_utils.binByScore2, \n",
      "                             hai_2013_binning_func = binning_utils.binByScore4, \n",
      "                             hai_2012_binning_func = binning_utils.binByScore4, SCIPD =True, Spending = True, Volume = False  )'''"
     ],
     "language": "python",
     "metadata": {},
     "outputs": [
      {
       "metadata": {},
       "output_type": "pyout",
       "prompt_number": 5,
       "text": [
        "\"# Taking target as bin function label. proxy as bin function 2\\n\\nDF_all_features_label_2 = merge_data.mergeAllTheThingsForProxy(Target_binning_func =binning_utils.binByLabel ,\\n                             Proxy_binning_func = binning_utils.binByScore2, \\n                             hai_2013_binning_func = binning_utils.binByScore4, \\n                             hai_2012_binning_func = binning_utils.binByScore4)\\n\\nDF_no_states_label_2 = DF_all_features_label_2.drop(['AK', 'AL', 'AR', 'AZ', 'CA', 'CO', 'CT', 'DC', 'DE', 'FL',\\n    'GA', 'HI', 'IA', 'ID', 'IL', 'IN', 'KS', 'KY', 'LA', 'MA', 'MD', 'ME', 'MI', 'MN', 'MO', 'MS', \\n    'MT', 'NC', 'ND', 'NE', 'NH', 'NJ', 'NM', 'NV', 'NY', 'OH', 'OK', 'OR', 'PA', 'PR', 'RI', 'SC', \\n    'SD', 'TN', 'TX', 'UT', 'VA', 'VI', 'VT', 'WA', 'WI', 'WV', 'WY'],1)\\n\\nDF_no_SCIPD_label_2 = merge_data.mergeAllTheThingsForProxy(Target_binning_func =binning_utils.binByLabel,\\n                             Proxy_binning_func = binning_utils.binByScore2, \\n                             hai_2013_binning_func = binning_utils.binByScore4, \\n                             hai_2012_binning_func = binning_utils.binByScore4, SCIPD =False, Spending = True, Volume = True  )\\n\\nDF_no_Spending_label_2 = merge_data.mergeAllTheThingsForProxy(Target_binning_func =binning_utils.binByLabel ,\\n                             Proxy_binning_func = binning_utils.binByScore2, \\n                             hai_2013_binning_func = binning_utils.binByScore4, \\n                             hai_2012_binning_func = binning_utils.binByScore4, SCIPD =True, Spending = False, Volume = True)\\n\\nDF_no_Volume_label_2 = merge_data.mergeAllTheThingsForProxy(Target_binning_func =binning_utils.binByLabel ,\\n                             Proxy_binning_func = binning_utils.binByScore2, \\n                             hai_2013_binning_func = binning_utils.binByScore4, \\n                             hai_2012_binning_func = binning_utils.binByScore4, SCIPD =True, Spending = True, Volume = False  )\""
       ]
      }
     ],
     "prompt_number": 5
    },
    {
     "cell_type": "code",
     "collapsed": false,
     "input": [],
     "language": "python",
     "metadata": {},
     "outputs": [],
     "prompt_number": 5
    },
    {
     "cell_type": "code",
     "collapsed": false,
     "input": [
      "'''def GetROCDataProxy(X_train_test, X_holdout,Y_train_test, Y_holdout,Y_s_train_test, classifier):\n",
      "    print '-- Number of positives: Y train (Proxy variable)', sum(Y_s_train_test)\n",
      "    print '-- Number of positives: Y test (Target variable)', sum(Y_holdout)\n",
      "\n",
      "    classifier.fit(X_train_test, Y_s_train_test)\n",
      "    if hasattr(classifier, 'support_'):\n",
      "        print 'number of features:', len(X_train.columns.values)\n",
      "        print 'Useful features:', [col for col_used, col in zip(classifier.support_, X_train_test.columns.values) if col_used]\n",
      "    fpr, tpr, thresholds = metrics.roc_curve(Y_holdout, classifier.decision_function(X_holdout))\n",
      "    print '-- Number of ROC threshold values', len(thresholds)    \n",
      "    return fpr, tpr, metrics.auc(fpr, tpr)''' # moved to classifier\n",
      "#classifier.GetROCDataProxy\n"
     ],
     "language": "python",
     "metadata": {},
     "outputs": [
      {
       "metadata": {},
       "output_type": "pyout",
       "prompt_number": 6,
       "text": [
        "\"def GetROCDataProxy(X_train_test, X_holdout,Y_train_test, Y_holdout,Y_s_train_test, classifier):\\n    print '-- Number of positives: Y train (Proxy variable)', sum(Y_s_train_test)\\n    print '-- Number of positives: Y test (Target variable)', sum(Y_holdout)\\n\\n    classifier.fit(X_train_test, Y_s_train_test)\\n    if hasattr(classifier, 'support_'):\\n        print 'number of features:', len(X_train.columns.values)\\n        print 'Useful features:', [col for col_used, col in zip(classifier.support_, X_train_test.columns.values) if col_used]\\n    fpr, tpr, thresholds = metrics.roc_curve(Y_holdout, classifier.decision_function(X_holdout))\\n    print '-- Number of ROC threshold values', len(thresholds)    \\n    return fpr, tpr, metrics.auc(fpr, tpr)\""
       ]
      }
     ],
     "prompt_number": 6
    },
    {
     "cell_type": "heading",
     "level": 3,
     "metadata": {},
     "source": [
      "Comparative performance of Logistic Regression and Proxy Logistic Regression\n",
      "\n",
      "(Target variable - binned variable using binning function 1)"
     ]
    },
    {
     "cell_type": "code",
     "collapsed": false,
     "input": [],
     "language": "python",
     "metadata": {},
     "outputs": [],
     "prompt_number": 6
    },
    {
     "cell_type": "code",
     "collapsed": false,
     "input": [],
     "language": "python",
     "metadata": {},
     "outputs": [],
     "prompt_number": 6
    },
    {
     "cell_type": "code",
     "collapsed": false,
     "input": [],
     "language": "python",
     "metadata": {},
     "outputs": [],
     "prompt_number": 6
    },
    {
     "cell_type": "code",
     "collapsed": false,
     "input": [
      "# because there are so few positives, you can increase the threshold by a lot and still not get any more True Positives.\n",
      "# many many features, overfitting.\n",
      "#how does performance change when dropping states?\n"
     ],
     "language": "python",
     "metadata": {},
     "outputs": [],
     "prompt_number": 7
    },
    {
     "cell_type": "code",
     "collapsed": false,
     "input": [
      "# Load the datasets we wish to compare\n",
      "\n",
      "DF_all_features_1_2 = merge_data.mergeAllTheThingsForProxy(Target_binning_func =binning_utils.binByScore1 ,\n",
      "                             Proxy_binning_func = binning_utils.binByScore2, \n",
      "                             hai_2013_binning_func = binning_utils.binByScore4, \n",
      "                             hai_2012_binning_func = binning_utils.binByScore4)\n",
      "\n",
      "\n",
      "all_bin_1 = merge_data.mergeAllTheThings(hai_2014_binning_func=binning_utils.binByScore1, \n",
      "                                         hai_2013_binning_func=binning_utils.binByScore4, \n",
      "                                         hai_2012_binning_func=binning_utils.binByScore4)"
     ],
     "language": "python",
     "metadata": {},
     "outputs": [],
     "prompt_number": 8
    },
    {
     "cell_type": "code",
     "collapsed": false,
     "input": [
      "# get indices for test_train and holdout sets.\n",
      "# can be used for all datasets with the same target variable\n",
      "train_test_ix, holdout_ix = data_utils.splitTestTrainIndices(DF_all_features_1_2, 'Bin 2014', train_size=0.8)\n",
      "\n",
      "# create classifier for comparison.\n",
      "# this classifier is untrained. therefore we can fit and optimize it on both data.\n",
      "l2_classifier = classifier.UnfittedLogisticRegression('roc_auc', regularization_type='l2')"
     ],
     "language": "python",
     "metadata": {},
     "outputs": [],
     "prompt_number": 9
    },
    {
     "cell_type": "code",
     "collapsed": false,
     "input": [
      "\n",
      "def compareRegularProxy(DF_regular,DF_proxy, classifier_, label_1, label_2):\n",
      "    ''' Given 2 datasets, one for regular regression, and one for proxy, \n",
      "    the function plots the ROC curves for each on the same graph for easy comparison'''\n",
      "    # Train classifiers, and get ROC curve data \n",
      "    print \"Regular\"\n",
      "    print 'Bin: all_bin_1'\n",
      "    lr_fpr_label, lr_tpr_label, lr_auc_label = classifier.GetROCData(DF_regular, train_test_ix, holdout_ix, classifier_)\n",
      "\n",
      "    print 'Bin: Maya  1 2'  \n",
      "    X_train_test, X_holdout,Y_train_test, Y_holdout,Y_s_train_test, Y_s_holdout = data_utils.partition_data(train_test_ix, holdout_ix, DF_proxy,'Bin 2014 Proxy', 'Bin 2014' )\n",
      "    lr_fpr_1, lr_tpr_1, lr_auc_1 = classifier.GetROCDataProxy(X_train_test, X_holdout,Y_train_test, Y_holdout,Y_s_train_test,classifier_)\n",
      "\n",
      "    fig, ax = plt.subplots()\n",
      "    ax.set_xlabel('False Positive Rate')\n",
      "    ax.set_ylabel('True Positive Rate')\n",
      "    ax.set_title('ROC')    \n",
      "    legends = []\n",
      "\n",
      "    plt.plot(lr_fpr_label, lr_tpr_label)\n",
      "    legends.append('LR, %s  (AUC = %0.2f)' % (label_1,lr_auc_label))\n",
      "    plt.plot(lr_fpr_1, lr_tpr_1)\n",
      "    legends.append('LR, %s (AUC = %0.2f)' % (label_2, lr_auc_1))\n",
      "    \n",
      "    # Straight line\n",
      "    diagonal_fpr = [0,1]\n",
      "    diagonal_tpr = [0,1]\n",
      "    plt.plot(diagonal_fpr, diagonal_tpr)\n",
      "    legends.append('Random Guess (AUC = %0.2f)' % (metrics.auc(diagonal_fpr, diagonal_tpr)))\n",
      "\n",
      "    plt.legend(legends, loc='upper center', bbox_to_anchor=(0.5, -0.05),\n",
      "          fancybox=True, shadow=True, ncol=2)\n",
      "    plt.show()\n"
     ],
     "language": "python",
     "metadata": {},
     "outputs": [],
     "prompt_number": 10
    },
    {
     "cell_type": "code",
     "collapsed": false,
     "input": [
      "compareRegularProxy(all_bin_1,DF_all_features_1_2, l2_classifier, 'Regular Binning 1', 'Binning 1 Proxy 2')"
     ],
     "language": "python",
     "metadata": {},
     "outputs": [
      {
       "output_type": "stream",
       "stream": "stdout",
       "text": [
        "Regular\n",
        "Bin: all_bin_1\n",
        "-- Number of positives: Y train 77.0\n",
        "-- Number of positives: Y test 20.0\n",
        "-- Number of ROC threshold values"
       ]
      },
      {
       "output_type": "stream",
       "stream": "stdout",
       "text": [
        " 402\n",
        "Bin: Maya  1 2\n",
        "-- Number of positives: Y train (Proxy variable)"
       ]
      },
      {
       "output_type": "stream",
       "stream": "stdout",
       "text": [
        " 161.0\n",
        "-- Number of positives: Y test (Target variable) 20.0\n",
        "-- Number of ROC threshold values"
       ]
      },
      {
       "output_type": "stream",
       "stream": "stdout",
       "text": [
        " 402\n"
       ]
      },
      {
       "metadata": {},
       "output_type": "display_data",
       "png": "[encoded data removed]",
       "text": [
        "<matplotlib.figure.Figure at 0x1039b64d0>"
       ]
      }
     ],
     "prompt_number": 11
    },
    {
     "cell_type": "heading",
     "level": 2,
     "metadata": {},
     "source": [
      "Comparative performance of Logistic Regression and Proxy Logistic Regression\n",
      "\n",
      "\n",
      "(Target variable - Original Labels)"
     ]
    },
    {
     "cell_type": "code",
     "collapsed": false,
     "input": [
      "# Load the datasets we wish to compare\n",
      "DF_all_features_label_2 = merge_data.mergeAllTheThingsForProxy(Target_binning_func =binning_utils.binByLabel ,\n",
      "                             Proxy_binning_func = binning_utils.binByScore2, \n",
      "                             hai_2013_binning_func = binning_utils.binByScore4, \n",
      "                             hai_2012_binning_func = binning_utils.binByScore4)\n",
      "\n",
      "\n",
      "\n",
      "all_label = merge_data.mergeAllTheThings(hai_2014_binning_func=binning_utils.binByLabel, \n",
      "                                         hai_2013_binning_func=binning_utils.binByScore4, \n",
      "                                         hai_2012_binning_func=binning_utils.binByScore4)\n",
      "\n"
     ],
     "language": "python",
     "metadata": {},
     "outputs": [],
     "prompt_number": 17
    },
    {
     "cell_type": "code",
     "collapsed": false,
     "input": [
      "# resplit on labels \n",
      "# we must resplit the dataset because we have a new target variable and we must be sure that we have enough positives in the holdout set\n",
      "train_test_ix, holdout_ix = data_utils.splitTestTrainIndices(DF_all_features_label_2, 'Bin 2014', train_size=0.8)\n",
      "\n",
      "\n",
      "# create classifier for comparison.\n",
      "# this classifier is untrained. therefore we can fit and optimize it on both data.\n",
      "l2_classifier = classifier.UnfittedLogisticRegression('roc_auc', regularization_type='l2')"
     ],
     "language": "python",
     "metadata": {},
     "outputs": [],
     "prompt_number": 18
    },
    {
     "cell_type": "code",
     "collapsed": false,
     "input": [
      "compareRegularProxy(all_label,DF_all_features_label_2, l2_classifier, 'Regular Labels', 'Binning Labels Proxy 2')"
     ],
     "language": "python",
     "metadata": {},
     "outputs": [
      {
       "output_type": "stream",
       "stream": "stdout",
       "text": [
        "Regular\n",
        "Bin: all_bin_1\n",
        "-- Number of positives: Y train 19.0\n",
        "-- Number of positives: Y test 4.0\n",
        "-- Number of ROC threshold values"
       ]
      },
      {
       "output_type": "stream",
       "stream": "stdout",
       "text": [
        " 402\n",
        "Bin: Maya  1 2\n",
        "-- Number of positives: Y train (Proxy variable) 161.0\n",
        "-- Number of positives: Y test (Target variable) 4.0\n",
        "-- Number of ROC threshold values"
       ]
      },
      {
       "output_type": "stream",
       "stream": "stdout",
       "text": [
        " 402\n"
       ]
      },
      {
       "metadata": {},
       "output_type": "display_data",
       "png": "[encoded data removed]",
       "text": [
        "<matplotlib.figure.Figure at 0x10e7f1950>"
       ]
      }
     ],
     "prompt_number": 19
    },
    {
     "cell_type": "heading",
     "level": 3,
     "metadata": {},
     "source": [
      "\n",
      "\n",
      "\n",
      "\n",
      "\n",
      "Use Different \"scorer\" for logistic regression\n",
      "\n",
      "\n"
     ]
    },
    {
     "cell_type": "code",
     "collapsed": false,
     "input": [
      "f1_classifier = classifier.UnfittedLogisticRegression('f1', regularization_type='l2')"
     ],
     "language": "python",
     "metadata": {},
     "outputs": [],
     "prompt_number": 21
    },
    {
     "cell_type": "code",
     "collapsed": false,
     "input": [
      "# for DF_all_features_1_2 and all_bin_1\n",
      "train_test_ix, holdout_ix = data_utils.splitTestTrainIndices(DF_all_features_label_2, 'Bin 2014', train_size=0.8)\n",
      "print sum(DF_all_features_1_2['Bin 2014'].ix[train_test_ix])\n",
      "print sum(DF_all_features_1_2['Bin 2014'].ix[holdout_ix])"
     ],
     "language": "python",
     "metadata": {},
     "outputs": [
      {
       "output_type": "stream",
       "stream": "stdout",
       "text": [
        "75.0\n",
        "22.0\n"
       ]
      }
     ],
     "prompt_number": 34
    },
    {
     "cell_type": "code",
     "collapsed": false,
     "input": [
      "#compareRegularProxy(all_bin_1,DF_all_features_1_2, l2_classifier, 'Regular Binning 1', 'Binning 1 Proxy 2')\n",
      "\n",
      "a = classifier.GetmetricsData(DF_all_features_1_2, train_test_ix, holdout_ix, classifier=f1_classifier, meassure = metrics.f1_score)\n",
      "print a\n",
      "b = classifier.GetmetricsData(all_bin_1, train_test_ix, holdout_ix, classifier=f1_classifier, meassure = metrics.f1_score)\n",
      "print b"
     ],
     "language": "python",
     "metadata": {},
     "outputs": [
      {
       "output_type": "stream",
       "stream": "stdout",
       "text": [
        "-- Number of positives: Y train 75.0\n",
        "-- Number of positives: Y test 22.0\n",
        "0.355555555556"
       ]
      },
      {
       "output_type": "stream",
       "stream": "stdout",
       "text": [
        "\n",
        "-- Number of positives: Y train 75.0\n",
        "-- Number of positives: Y test 22.0\n",
        "0.133333333333"
       ]
      },
      {
       "output_type": "stream",
       "stream": "stdout",
       "text": [
        "\n"
       ]
      }
     ],
     "prompt_number": 39
    },
    {
     "cell_type": "code",
     "collapsed": false,
     "input": [
      "train_test_ix, holdout_ix = data_utils.splitTestTrainIndices(DF_all_features_label_2, 'Bin 2014', train_size=0.8)\n",
      "a_1 = classifier.GetmetricsData(DF_all_features_1_2, train_test_ix, holdout_ix, classifier=f1_classifier, meassure = metrics.f1_score)\n",
      "print a_1\n",
      "b_1 = classifier.GetmetricsData(all_bin_1, train_test_ix, holdout_ix, classifier=f1_classifier, meassure = metrics.f1_score)\n",
      "print b_1"
     ],
     "language": "python",
     "metadata": {},
     "outputs": [
      {
       "output_type": "stream",
       "stream": "stdout",
       "text": [
        "-- Number of positives: Y train 77.0\n",
        "-- Number of positives: Y test 20.0\n",
        "0.263157894737"
       ]
      },
      {
       "output_type": "stream",
       "stream": "stdout",
       "text": [
        "\n",
        "-- Number of positives: Y train 77.0\n",
        "-- Number of positives: Y test 20.0\n",
        "0.0625"
       ]
      },
      {
       "output_type": "stream",
       "stream": "stdout",
       "text": [
        "\n"
       ]
      }
     ],
     "prompt_number": 40
    },
    {
     "cell_type": "code",
     "collapsed": false,
     "input": [
      "# Load non-binned data   \n",
      "hai_nobin_label = merge_data.mergeHAITables(hai_2014_binning_func=binning_utils.binByLabel, \n",
      "                                            hai_2013_binning_func=binning_utils.binByScore4, \n",
      "                                            hai_2012_binning_func=binning_utils.binByScore4)\n",
      "hai_nobin_1 = merge_data.mergeHAITables(hai_2014_binning_func=binning_utils.binByScore1, \n",
      "                                      hai_2013_binning_func=binning_utils.binByScore4, \n",
      "                                      hai_2012_binning_func=binning_utils.binByScore4)\n",
      "hai_nobin_2 = merge_data.mergeHAITables(hai_2014_binning_func=binning_utils.binByScore2, \n",
      "                                      hai_2013_binning_func=binning_utils.binByScore4, \n",
      "                                      hai_2012_binning_func=binning_utils.binByScore4)\n",
      "hai_nobin_3 = merge_data.mergeHAITables(hai_2014_binning_func=binning_utils.binByScore3, \n",
      "                                      hai_2013_binning_func=binning_utils.binByScore4, \n",
      "                                      hai_2012_binning_func=binning_utils.binByScore4)"
     ],
     "language": "python",
     "metadata": {},
     "outputs": [],
     "prompt_number": 43
    },
    {
     "cell_type": "code",
     "collapsed": false,
     "input": [
      "# 4) 2012 and 2013 data, unbinned.\n",
      "hai_both_nobin_label = pd.concat([hai_nobin_label['Bin 2014'], hai_nobin_label['Bin 2013'], hai_nobin_label['Bin 2012']], axis=1)\n",
      "hai_both_nobin_1 = pd.concat([hai_nobin_1['Bin 2014'], hai_nobin_1['Bin 2013'], hai_nobin_1['Bin 2012']], axis=1)\n",
      "hai_both_nobin_2 = pd.concat([hai_nobin_2['Bin 2014'], hai_nobin_2['Bin 2013'], hai_nobin_2['Bin 2012']], axis=1)\n",
      "hai_both_nobin_3 = pd.concat([hai_nobin_3['Bin 2014'], hai_nobin_3['Bin 2013'], hai_nobin_3['Bin 2012']], axis=1)"
     ],
     "language": "python",
     "metadata": {},
     "outputs": [],
     "prompt_number": 44
    },
    {
     "cell_type": "code",
     "collapsed": false,
     "input": [
      "\n",
      "\n",
      "def getF1Scores(DF, f1_classifier, itrs):\n",
      "    list_f1 = []\n",
      "    for i in range(itrs):\n",
      "        train_test_ix, holdout_ix = data_utils.splitTestTrainIndices(DF, 'Bin 2014', train_size=0.8)\n",
      "        a_1 = classifier.GetmetricsData(DF, train_test_ix, holdout_ix, \n",
      "                                        classifier= f1_classifier, meassure = metrics.f1_score)\n",
      "        list_f1.append(a_1)\n",
      "    return np.mean(list_f1)\n"
     ],
     "language": "python",
     "metadata": {},
     "outputs": [],
     "prompt_number": 129
    },
    {
     "cell_type": "code",
     "collapsed": false,
     "input": [
      "#train_test_ix, holdout_ix = data_utils.splitTestTrainIndices(hai_both_nobin_label, 'Bin 2014', train_size=0.8)\n",
      "f1_classifier = classifier.UnfittedLogisticRegression('f1', regularization_type='l2')\n",
      "F1_label = getF1Scores(hai_both_nobin_label, f1_classifier,100)\n",
      "F1_1 = getF1Scores(hai_both_nobin_1, f1_classifier,100)\n",
      "F1_2 = getF1Scores(hai_both_nobin_2, f1_classifier,100)\n",
      "F1_3 = getF1Scores(hai_both_nobin_3, f1_classifier,100)"
     ],
     "language": "python",
     "metadata": {},
     "outputs": [
      {
       "output_type": "stream",
       "stream": "stdout",
       "text": [
        "-- Number of positives: Y train 19.0\n",
        "-- Number of positives: Y test 4.0\n",
        "-- Number of positives: Y train"
       ]
      },
      {
       "output_type": "stream",
       "stream": "stdout",
       "text": [
        " 18.0\n",
        "-- Number of positives: Y test 5.0\n",
        "-- Number of positives: Y train"
       ]
      },
      {
       "output_type": "stream",
       "stream": "stdout",
       "text": [
        " 19.0\n",
        "-- Number of positives: Y test 4.0\n",
        "-- Number of positives: Y train"
       ]
      },
      {
       "output_type": "stream",
       "stream": "stdout",
       "text": [
        " 18.0\n",
        "-- Number of positives: Y test 5.0\n",
        "-- Number of positives: Y train"
       ]
      },
      {
       "output_type": "stream",
       "stream": "stdout",
       "text": [
        " 19.0\n",
        "-- Number of positives: Y test 4.0\n",
        "-- Number of positives: Y train"
       ]
      },
      {
       "output_type": "stream",
       "stream": "stdout",
       "text": [
        " 18.0\n",
        "-- Number of positives: Y test 5.0\n",
        "-- Number of positives: Y train"
       ]
      },
      {
       "output_type": "stream",
       "stream": "stdout",
       "text": [
        " 18.0\n",
        "-- Number of positives: Y test 5.0\n",
        "-- Number of positives: Y train"
       ]
      },
      {
       "output_type": "stream",
       "stream": "stdout",
       "text": [
        " 19.0\n",
        "-- Number of positives: Y test 4.0\n",
        "-- Number of positives: Y train"
       ]
      },
      {
       "output_type": "stream",
       "stream": "stdout",
       "text": [
        " 18.0\n",
        "-- Number of positives: Y test 5.0\n",
        "-- Number of positives: Y train"
       ]
      },
      {
       "output_type": "stream",
       "stream": "stdout",
       "text": [
        " 19.0\n",
        "-- Number of positives: Y test 4.0\n",
        "-- Number of positives: Y train"
       ]
      },
      {
       "output_type": "stream",
       "stream": "stdout",
       "text": [
        " 18.0\n",
        "-- Number of positives: Y test 5.0\n",
        "-- Number of positives: Y train"
       ]
      },
      {
       "output_type": "stream",
       "stream": "stdout",
       "text": [
        " 19.0\n",
        "-- Number of positives: Y test 4.0\n",
        "-- Number of positives: Y train"
       ]
      },
      {
       "output_type": "stream",
       "stream": "stdout",
       "text": [
        " 19.0\n",
        "-- Number of positives: Y test 4.0\n",
        "-- Number of positives: Y train"
       ]
      },
      {
       "output_type": "stream",
       "stream": "stdout",
       "text": [
        " 19.0\n",
        "-- Number of positives: Y test 4.0\n",
        "-- Number of positives: Y train"
       ]
      },
      {
       "output_type": "stream",
       "stream": "stdout",
       "text": [
        " 18.0\n",
        "-- Number of positives: Y test 5.0\n",
        "-- Number of positives: Y train"
       ]
      },
      {
       "output_type": "stream",
       "stream": "stdout",
       "text": [
        " 19.0\n",
        "-- Number of positives: Y test 4.0\n",
        "-- Number of positives: Y train"
       ]
      },
      {
       "output_type": "stream",
       "stream": "stdout",
       "text": [
        " 19.0\n",
        "-- Number of positives: Y test 4.0\n",
        "-- Number of positives: Y train"
       ]
      },
      {
       "output_type": "stream",
       "stream": "stdout",
       "text": [
        " 18.0\n",
        "-- Number of positives: Y test 5.0\n",
        "-- Number of positives: Y train"
       ]
      },
      {
       "output_type": "stream",
       "stream": "stdout",
       "text": [
        " 18.0\n",
        "-- Number of positives: Y test 5.0\n",
        "-- Number of positives: Y train"
       ]
      },
      {
       "output_type": "stream",
       "stream": "stdout",
       "text": [
        " 18.0\n",
        "-- Number of positives: Y test 5.0\n",
        "-- Number of positives: Y train"
       ]
      },
      {
       "output_type": "stream",
       "stream": "stdout",
       "text": [
        " 19.0\n",
        "-- Number of positives: Y test 4.0\n",
        "-- Number of positives: Y train"
       ]
      },
      {
       "output_type": "stream",
       "stream": "stdout",
       "text": [
        " 18.0\n",
        "-- Number of positives: Y test 5.0\n",
        "-- Number of positives: Y train"
       ]
      },
      {
       "output_type": "stream",
       "stream": "stdout",
       "text": [
        " 19.0\n",
        "-- Number of positives: Y test 4.0\n",
        "-- Number of positives: Y train"
       ]
      },
      {
       "output_type": "stream",
       "stream": "stdout",
       "text": [
        " 19.0\n",
        "-- Number of positives: Y test 4.0\n",
        "-- Number of positives: Y train"
       ]
      },
      {
       "output_type": "stream",
       "stream": "stdout",
       "text": [
        " 19.0\n",
        "-- Number of positives: Y test 4.0\n",
        "-- Number of positives: Y train"
       ]
      },
      {
       "output_type": "stream",
       "stream": "stdout",
       "text": [
        " 19.0\n",
        "-- Number of positives: Y test 4.0\n",
        "-- Number of positives: Y train"
       ]
      },
      {
       "output_type": "stream",
       "stream": "stdout",
       "text": [
        " 19.0\n",
        "-- Number of positives: Y test 4.0\n",
        "-- Number of positives: Y train"
       ]
      },
      {
       "output_type": "stream",
       "stream": "stdout",
       "text": [
        " 18.0\n",
        "-- Number of positives: Y test 5.0\n",
        "-- Number of positives: Y train"
       ]
      },
      {
       "output_type": "stream",
       "stream": "stdout",
       "text": [
        " 19.0\n",
        "-- Number of positives: Y test 4.0\n",
        "-- Number of positives: Y train"
       ]
      },
      {
       "output_type": "stream",
       "stream": "stdout",
       "text": [
        " 19.0\n",
        "-- Number of positives: Y test 4.0\n",
        "-- Number of positives: Y train"
       ]
      },
      {
       "output_type": "stream",
       "stream": "stdout",
       "text": [
        " 19.0\n",
        "-- Number of positives: Y test 4.0\n",
        "-- Number of positives: Y train"
       ]
      },
      {
       "output_type": "stream",
       "stream": "stdout",
       "text": [
        " 18.0\n",
        "-- Number of positives: Y test 5.0\n",
        "-- Number of positives: Y train"
       ]
      },
      {
       "output_type": "stream",
       "stream": "stdout",
       "text": [
        " 18.0\n",
        "-- Number of positives: Y test 5.0\n",
        "-- Number of positives: Y train"
       ]
      },
      {
       "output_type": "stream",
       "stream": "stdout",
       "text": [
        " 18.0\n",
        "-- Number of positives: Y test 5.0\n",
        "-- Number of positives: Y train"
       ]
      },
      {
       "output_type": "stream",
       "stream": "stdout",
       "text": [
        " 19.0\n",
        "-- Number of positives: Y test 4.0\n",
        "-- Number of positives: Y train"
       ]
      },
      {
       "output_type": "stream",
       "stream": "stdout",
       "text": [
        " 18.0\n",
        "-- Number of positives: Y test 5.0\n",
        "-- Number of positives: Y train"
       ]
      },
      {
       "output_type": "stream",
       "stream": "stdout",
       "text": [
        " 18.0\n",
        "-- Number of positives: Y test 5.0\n",
        "-- Number of positives: Y train"
       ]
      },
      {
       "output_type": "stream",
       "stream": "stdout",
       "text": [
        " 19.0\n",
        "-- Number of positives: Y test 4.0\n",
        "-- Number of positives: Y train"
       ]
      },
      {
       "output_type": "stream",
       "stream": "stdout",
       "text": [
        " 19.0\n",
        "-- Number of positives: Y test 4.0\n",
        "-- Number of positives: Y train"
       ]
      },
      {
       "output_type": "stream",
       "stream": "stdout",
       "text": [
        " 18.0\n",
        "-- Number of positives: Y test 5.0\n",
        "-- Number of positives: Y train"
       ]
      },
      {
       "output_type": "stream",
       "stream": "stdout",
       "text": [
        " 19.0\n",
        "-- Number of positives: Y test 4.0\n",
        "-- Number of positives: Y train"
       ]
      },
      {
       "output_type": "stream",
       "stream": "stdout",
       "text": [
        " 19.0\n",
        "-- Number of positives: Y test 4.0\n",
        "-- Number of positives: Y train"
       ]
      },
      {
       "output_type": "stream",
       "stream": "stdout",
       "text": [
        " 19.0\n",
        "-- Number of positives: Y test 4.0\n",
        "-- Number of positives: Y train"
       ]
      },
      {
       "output_type": "stream",
       "stream": "stdout",
       "text": [
        " 18.0\n",
        "-- Number of positives: Y test 5.0\n",
        "-- Number of positives: Y train"
       ]
      },
      {
       "output_type": "stream",
       "stream": "stdout",
       "text": [
        " 19.0\n",
        "-- Number of positives: Y test 4.0\n",
        "-- Number of positives: Y train"
       ]
      },
      {
       "output_type": "stream",
       "stream": "stdout",
       "text": [
        " 19.0\n",
        "-- Number of positives: Y test 4.0\n",
        "-- Number of positives: Y train"
       ]
      },
      {
       "output_type": "stream",
       "stream": "stdout",
       "text": [
        " 18.0\n",
        "-- Number of positives: Y test 5.0\n",
        "-- Number of positives: Y train"
       ]
      },
      {
       "output_type": "stream",
       "stream": "stdout",
       "text": [
        " 19.0\n",
        "-- Number of positives: Y test 4.0\n",
        "-- Number of positives: Y train"
       ]
      },
      {
       "output_type": "stream",
       "stream": "stdout",
       "text": [
        " 18.0\n",
        "-- Number of positives: Y test 5.0\n",
        "-- Number of positives: Y train"
       ]
      },
      {
       "output_type": "stream",
       "stream": "stdout",
       "text": [
        " 18.0\n",
        "-- Number of positives: Y test 5.0\n",
        "-- Number of positives: Y train"
       ]
      },
      {
       "output_type": "stream",
       "stream": "stdout",
       "text": [
        " 18.0\n",
        "-- Number of positives: Y test 5.0\n",
        "-- Number of positives: Y train"
       ]
      },
      {
       "output_type": "stream",
       "stream": "stdout",
       "text": [
        " 18.0\n",
        "-- Number of positives: Y test 5.0\n",
        "-- Number of positives: Y train"
       ]
      },
      {
       "output_type": "stream",
       "stream": "stdout",
       "text": [
        " 19.0\n",
        "-- Number of positives: Y test 4.0\n",
        "-- Number of positives: Y train"
       ]
      },
      {
       "output_type": "stream",
       "stream": "stdout",
       "text": [
        " 18.0\n",
        "-- Number of positives: Y test 5.0\n",
        "-- Number of positives: Y train"
       ]
      },
      {
       "output_type": "stream",
       "stream": "stdout",
       "text": [
        " 19.0\n",
        "-- Number of positives: Y test 4.0\n",
        "-- Number of positives: Y train"
       ]
      },
      {
       "output_type": "stream",
       "stream": "stdout",
       "text": [
        " 19.0\n",
        "-- Number of positives: Y test 4.0\n",
        "-- Number of positives: Y train"
       ]
      },
      {
       "output_type": "stream",
       "stream": "stdout",
       "text": [
        " 19.0\n",
        "-- Number of positives: Y test 4.0\n",
        "-- Number of positives: Y train"
       ]
      },
      {
       "output_type": "stream",
       "stream": "stdout",
       "text": [
        " 18.0\n",
        "-- Number of positives: Y test 5.0\n",
        "-- Number of positives: Y train"
       ]
      },
      {
       "output_type": "stream",
       "stream": "stdout",
       "text": [
        " 19.0\n",
        "-- Number of positives: Y test 4.0\n",
        "-- Number of positives: Y train"
       ]
      },
      {
       "output_type": "stream",
       "stream": "stdout",
       "text": [
        " 19.0\n",
        "-- Number of positives: Y test 4.0\n",
        "-- Number of positives: Y train"
       ]
      },
      {
       "output_type": "stream",
       "stream": "stdout",
       "text": [
        " 19.0\n",
        "-- Number of positives: Y test 4.0\n",
        "-- Number of positives: Y train"
       ]
      },
      {
       "output_type": "stream",
       "stream": "stdout",
       "text": [
        " 18.0\n",
        "-- Number of positives: Y test 5.0\n",
        "-- Number of positives: Y train"
       ]
      },
      {
       "output_type": "stream",
       "stream": "stdout",
       "text": [
        " 18.0\n",
        "-- Number of positives: Y test 5.0\n",
        "-- Number of positives: Y train"
       ]
      },
      {
       "output_type": "stream",
       "stream": "stdout",
       "text": [
        " 19.0\n",
        "-- Number of positives: Y test 4.0\n",
        "-- Number of positives: Y train"
       ]
      },
      {
       "output_type": "stream",
       "stream": "stdout",
       "text": [
        " 18.0\n",
        "-- Number of positives: Y test 5.0\n",
        "-- Number of positives: Y train"
       ]
      },
      {
       "output_type": "stream",
       "stream": "stdout",
       "text": [
        " 19.0\n",
        "-- Number of positives: Y test 4.0\n",
        "-- Number of positives: Y train"
       ]
      },
      {
       "output_type": "stream",
       "stream": "stdout",
       "text": [
        " 19.0\n",
        "-- Number of positives: Y test 4.0\n",
        "-- Number of positives: Y train"
       ]
      },
      {
       "output_type": "stream",
       "stream": "stdout",
       "text": [
        " 19.0\n",
        "-- Number of positives: Y test 4.0\n",
        "-- Number of positives: Y train"
       ]
      },
      {
       "output_type": "stream",
       "stream": "stdout",
       "text": [
        " 18.0\n",
        "-- Number of positives: Y test 5.0\n",
        "-- Number of positives: Y train"
       ]
      },
      {
       "output_type": "stream",
       "stream": "stdout",
       "text": [
        " 19.0\n",
        "-- Number of positives: Y test 4.0\n",
        "-- Number of positives: Y train"
       ]
      },
      {
       "output_type": "stream",
       "stream": "stdout",
       "text": [
        " 18.0\n",
        "-- Number of positives: Y test 5.0\n",
        "-- Number of positives: Y train"
       ]
      },
      {
       "output_type": "stream",
       "stream": "stdout",
       "text": [
        " 19.0\n",
        "-- Number of positives: Y test 4.0\n",
        "-- Number of positives: Y train"
       ]
      },
      {
       "output_type": "stream",
       "stream": "stdout",
       "text": [
        " 19.0\n",
        "-- Number of positives: Y test 4.0\n",
        "-- Number of positives: Y train"
       ]
      },
      {
       "output_type": "stream",
       "stream": "stdout",
       "text": [
        " 19.0\n",
        "-- Number of positives: Y test 4.0\n",
        "-- Number of positives: Y train"
       ]
      },
      {
       "output_type": "stream",
       "stream": "stdout",
       "text": [
        " 18.0\n",
        "-- Number of positives: Y test 5.0\n",
        "-- Number of positives: Y train"
       ]
      },
      {
       "output_type": "stream",
       "stream": "stdout",
       "text": [
        " 19.0\n",
        "-- Number of positives: Y test 4.0\n",
        "-- Number of positives: Y train"
       ]
      },
      {
       "output_type": "stream",
       "stream": "stdout",
       "text": [
        " 18.0\n",
        "-- Number of positives: Y test 5.0\n",
        "-- Number of positives: Y train"
       ]
      },
      {
       "output_type": "stream",
       "stream": "stdout",
       "text": [
        " 18.0\n",
        "-- Number of positives: Y test 5.0\n",
        "-- Number of positives: Y train"
       ]
      },
      {
       "output_type": "stream",
       "stream": "stdout",
       "text": [
        " 18.0\n",
        "-- Number of positives: Y test 5.0\n",
        "-- Number of positives: Y train"
       ]
      },
      {
       "output_type": "stream",
       "stream": "stdout",
       "text": [
        " 18.0\n",
        "-- Number of positives: Y test 5.0\n",
        "-- Number of positives: Y train"
       ]
      },
      {
       "output_type": "stream",
       "stream": "stdout",
       "text": [
        " 19.0\n",
        "-- Number of positives: Y test 4.0\n",
        "-- Number of positives: Y train"
       ]
      },
      {
       "output_type": "stream",
       "stream": "stdout",
       "text": [
        " 19.0\n",
        "-- Number of positives: Y test 4.0\n",
        "-- Number of positives: Y train"
       ]
      },
      {
       "output_type": "stream",
       "stream": "stdout",
       "text": [
        " 18.0\n",
        "-- Number of positives: Y test 5.0\n",
        "-- Number of positives: Y train"
       ]
      },
      {
       "output_type": "stream",
       "stream": "stdout",
       "text": [
        " 18.0\n",
        "-- Number of positives: Y test 5.0\n",
        "-- Number of positives: Y train"
       ]
      },
      {
       "output_type": "stream",
       "stream": "stdout",
       "text": [
        " 19.0\n",
        "-- Number of positives: Y test 4.0\n",
        "-- Number of positives: Y train"
       ]
      },
      {
       "output_type": "stream",
       "stream": "stdout",
       "text": [
        " 18.0\n",
        "-- Number of positives: Y test 5.0\n",
        "-- Number of positives: Y train"
       ]
      },
      {
       "output_type": "stream",
       "stream": "stdout",
       "text": [
        " 19.0\n",
        "-- Number of positives: Y test 4.0\n",
        "-- Number of positives: Y train"
       ]
      },
      {
       "output_type": "stream",
       "stream": "stdout",
       "text": [
        " 19.0\n",
        "-- Number of positives: Y test 4.0\n",
        "-- Number of positives: Y train"
       ]
      },
      {
       "output_type": "stream",
       "stream": "stdout",
       "text": [
        " 18.0\n",
        "-- Number of positives: Y test 5.0\n",
        "-- Number of positives: Y train"
       ]
      },
      {
       "output_type": "stream",
       "stream": "stdout",
       "text": [
        " 19.0\n",
        "-- Number of positives: Y test 4.0\n",
        "-- Number of positives: Y train"
       ]
      },
      {
       "output_type": "stream",
       "stream": "stdout",
       "text": [
        " 19.0\n",
        "-- Number of positives: Y test 4.0\n",
        "-- Number of positives: Y train"
       ]
      },
      {
       "output_type": "stream",
       "stream": "stdout",
       "text": [
        " 18.0\n",
        "-- Number of positives: Y test 5.0\n",
        "-- Number of positives: Y train"
       ]
      },
      {
       "output_type": "stream",
       "stream": "stdout",
       "text": [
        " 18.0\n",
        "-- Number of positives: Y test 5.0\n",
        "-- Number of positives: Y train"
       ]
      },
      {
       "output_type": "stream",
       "stream": "stdout",
       "text": [
        " 18.0\n",
        "-- Number of positives: Y test 5.0\n",
        "-- Number of positives: Y train"
       ]
      },
      {
       "output_type": "stream",
       "stream": "stdout",
       "text": [
        " 19.0\n",
        "-- Number of positives: Y test 4.0\n",
        "-- Number of positives: Y train"
       ]
      },
      {
       "output_type": "stream",
       "stream": "stdout",
       "text": [
        " 19.0\n",
        "-- Number of positives: Y test 4.0\n",
        "-- Number of positives: Y train"
       ]
      },
      {
       "output_type": "stream",
       "stream": "stdout",
       "text": [
        " 19.0\n",
        "-- Number of positives: Y test 4.0\n",
        "-- Number of positives: Y train"
       ]
      },
      {
       "output_type": "stream",
       "stream": "stdout",
       "text": [
        " 19.0\n",
        "-- Number of positives: Y test 4.0\n",
        "-- Number of positives: Y train"
       ]
      },
      {
       "output_type": "stream",
       "stream": "stdout",
       "text": [
        " 19.0\n",
        "-- Number of positives: Y test 4.0\n",
        "-- Number of positives: Y train"
       ]
      },
      {
       "output_type": "stream",
       "stream": "stdout",
       "text": [
        " 19.0\n",
        "-- Number of positives: Y test 4.0\n",
        "-- Number of positives: Y train"
       ]
      },
      {
       "output_type": "stream",
       "stream": "stdout",
       "text": [
        " 77.0\n",
        "-- Number of positives: Y test 20.0\n",
        "-- Number of positives: Y train"
       ]
      },
      {
       "output_type": "stream",
       "stream": "stdout",
       "text": [
        " 78.0\n",
        "-- Number of positives: Y test 19.0\n",
        "-- Number of positives: Y train"
       ]
      },
      {
       "output_type": "stream",
       "stream": "stdout",
       "text": [
        " 78.0\n",
        "-- Number of positives: Y test 19.0\n",
        "-- Number of positives: Y train"
       ]
      },
      {
       "output_type": "stream",
       "stream": "stdout",
       "text": [
        " 78.0\n",
        "-- Number of positives: Y test 19.0\n",
        "-- Number of positives: Y train"
       ]
      },
      {
       "output_type": "stream",
       "stream": "stdout",
       "text": [
        " 77.0\n",
        "-- Number of positives: Y test 20.0\n",
        "-- Number of positives: Y train"
       ]
      },
      {
       "output_type": "stream",
       "stream": "stdout",
       "text": [
        " 77.0\n",
        "-- Number of positives: Y test 20.0\n",
        "-- Number of positives: Y train"
       ]
      },
      {
       "output_type": "stream",
       "stream": "stdout",
       "text": [
        " 77.0\n",
        "-- Number of positives: Y test 20.0\n",
        "-- Number of positives: Y train"
       ]
      },
      {
       "output_type": "stream",
       "stream": "stdout",
       "text": [
        " 78.0\n",
        "-- Number of positives: Y test 19.0\n",
        "-- Number of positives: Y train"
       ]
      },
      {
       "output_type": "stream",
       "stream": "stdout",
       "text": [
        " 77.0\n",
        "-- Number of positives: Y test 20.0\n",
        "-- Number of positives: Y train"
       ]
      },
      {
       "output_type": "stream",
       "stream": "stdout",
       "text": [
        " 77.0\n",
        "-- Number of positives: Y test 20.0\n",
        "-- Number of positives: Y train"
       ]
      },
      {
       "output_type": "stream",
       "stream": "stdout",
       "text": [
        " 78.0\n",
        "-- Number of positives: Y test 19.0\n",
        "-- Number of positives: Y train"
       ]
      },
      {
       "output_type": "stream",
       "stream": "stdout",
       "text": [
        " 78.0\n",
        "-- Number of positives: Y test 19.0\n",
        "-- Number of positives: Y train"
       ]
      },
      {
       "output_type": "stream",
       "stream": "stdout",
       "text": [
        " 77.0\n",
        "-- Number of positives: Y test 20.0\n",
        "-- Number of positives: Y train"
       ]
      },
      {
       "output_type": "stream",
       "stream": "stdout",
       "text": [
        " 78.0\n",
        "-- Number of positives: Y test 19.0\n",
        "-- Number of positives: Y train"
       ]
      },
      {
       "output_type": "stream",
       "stream": "stdout",
       "text": [
        " 77.0\n",
        "-- Number of positives: Y test 20.0\n",
        "-- Number of positives: Y train"
       ]
      },
      {
       "output_type": "stream",
       "stream": "stdout",
       "text": [
        " 78.0\n",
        "-- Number of positives: Y test 19.0\n",
        "-- Number of positives: Y train"
       ]
      },
      {
       "output_type": "stream",
       "stream": "stdout",
       "text": [
        " 77.0\n",
        "-- Number of positives: Y test 20.0\n",
        "-- Number of positives: Y train"
       ]
      },
      {
       "output_type": "stream",
       "stream": "stdout",
       "text": [
        " 77.0\n",
        "-- Number of positives: Y test 20.0\n",
        "-- Number of positives: Y train"
       ]
      },
      {
       "output_type": "stream",
       "stream": "stdout",
       "text": [
        " 78.0\n",
        "-- Number of positives: Y test 19.0\n",
        "-- Number of positives: Y train"
       ]
      },
      {
       "output_type": "stream",
       "stream": "stdout",
       "text": [
        " 78.0\n",
        "-- Number of positives: Y test 19.0\n",
        "-- Number of positives: Y train"
       ]
      },
      {
       "output_type": "stream",
       "stream": "stdout",
       "text": [
        " 78.0\n",
        "-- Number of positives: Y test 19.0\n",
        "-- Number of positives: Y train"
       ]
      },
      {
       "output_type": "stream",
       "stream": "stdout",
       "text": [
        " 78.0\n",
        "-- Number of positives: Y test 19.0\n",
        "-- Number of positives: Y train"
       ]
      },
      {
       "output_type": "stream",
       "stream": "stdout",
       "text": [
        " 77.0\n",
        "-- Number of positives: Y test 20.0\n",
        "-- Number of positives: Y train"
       ]
      },
      {
       "output_type": "stream",
       "stream": "stdout",
       "text": [
        " 77.0\n",
        "-- Number of positives: Y test 20.0\n",
        "-- Number of positives: Y train"
       ]
      },
      {
       "output_type": "stream",
       "stream": "stdout",
       "text": [
        " 77.0\n",
        "-- Number of positives: Y test 20.0\n",
        "-- Number of positives: Y train"
       ]
      },
      {
       "output_type": "stream",
       "stream": "stdout",
       "text": [
        " 77.0\n",
        "-- Number of positives: Y test 20.0\n",
        "-- Number of positives: Y train"
       ]
      },
      {
       "output_type": "stream",
       "stream": "stdout",
       "text": [
        " 78.0\n",
        "-- Number of positives: Y test 19.0\n",
        "-- Number of positives: Y train"
       ]
      },
      {
       "output_type": "stream",
       "stream": "stdout",
       "text": [
        " 78.0\n",
        "-- Number of positives: Y test 19.0\n",
        "-- Number of positives: Y train"
       ]
      },
      {
       "output_type": "stream",
       "stream": "stdout",
       "text": [
        " 78.0\n",
        "-- Number of positives: Y test 19.0\n",
        "-- Number of positives: Y train"
       ]
      },
      {
       "output_type": "stream",
       "stream": "stdout",
       "text": [
        " 78.0\n",
        "-- Number of positives: Y test 19.0\n",
        "-- Number of positives: Y train"
       ]
      },
      {
       "output_type": "stream",
       "stream": "stdout",
       "text": [
        " 77.0\n",
        "-- Number of positives: Y test 20.0\n",
        "-- Number of positives: Y train"
       ]
      },
      {
       "output_type": "stream",
       "stream": "stdout",
       "text": [
        " 77.0\n",
        "-- Number of positives: Y test 20.0\n",
        "-- Number of positives: Y train"
       ]
      },
      {
       "output_type": "stream",
       "stream": "stdout",
       "text": [
        " 77.0\n",
        "-- Number of positives: Y test 20.0\n",
        "-- Number of positives: Y train"
       ]
      },
      {
       "output_type": "stream",
       "stream": "stdout",
       "text": [
        " 78.0\n",
        "-- Number of positives: Y test 19.0\n",
        "-- Number of positives: Y train"
       ]
      },
      {
       "output_type": "stream",
       "stream": "stdout",
       "text": [
        " 77.0\n",
        "-- Number of positives: Y test 20.0\n",
        "-- Number of positives: Y train"
       ]
      },
      {
       "output_type": "stream",
       "stream": "stdout",
       "text": [
        " 77.0\n",
        "-- Number of positives: Y test 20.0\n",
        "-- Number of positives: Y train"
       ]
      },
      {
       "output_type": "stream",
       "stream": "stdout",
       "text": [
        " 77.0\n",
        "-- Number of positives: Y test 20.0\n",
        "-- Number of positives: Y train"
       ]
      },
      {
       "output_type": "stream",
       "stream": "stdout",
       "text": [
        " 77.0\n",
        "-- Number of positives: Y test 20.0\n",
        "-- Number of positives: Y train"
       ]
      },
      {
       "output_type": "stream",
       "stream": "stdout",
       "text": [
        " 78.0\n",
        "-- Number of positives: Y test 19.0\n",
        "-- Number of positives: Y train"
       ]
      },
      {
       "output_type": "stream",
       "stream": "stdout",
       "text": [
        " 77.0\n",
        "-- Number of positives: Y test 20.0\n",
        "-- Number of positives: Y train"
       ]
      },
      {
       "output_type": "stream",
       "stream": "stdout",
       "text": [
        " 77.0\n",
        "-- Number of positives: Y test 20.0\n",
        "-- Number of positives: Y train"
       ]
      },
      {
       "output_type": "stream",
       "stream": "stdout",
       "text": [
        " 77.0\n",
        "-- Number of positives: Y test 20.0\n",
        "-- Number of positives: Y train"
       ]
      },
      {
       "output_type": "stream",
       "stream": "stdout",
       "text": [
        " 78.0\n",
        "-- Number of positives: Y test 19.0\n",
        "-- Number of positives: Y train"
       ]
      },
      {
       "output_type": "stream",
       "stream": "stdout",
       "text": [
        " 77.0\n",
        "-- Number of positives: Y test 20.0\n",
        "-- Number of positives: Y train"
       ]
      },
      {
       "output_type": "stream",
       "stream": "stdout",
       "text": [
        " 77.0\n",
        "-- Number of positives: Y test 20.0\n",
        "-- Number of positives: Y train"
       ]
      },
      {
       "output_type": "stream",
       "stream": "stdout",
       "text": [
        " 77.0\n",
        "-- Number of positives: Y test 20.0\n",
        "-- Number of positives: Y train"
       ]
      },
      {
       "output_type": "stream",
       "stream": "stdout",
       "text": [
        " 77.0\n",
        "-- Number of positives: Y test 20.0\n",
        "-- Number of positives: Y train"
       ]
      },
      {
       "output_type": "stream",
       "stream": "stdout",
       "text": [
        " 77.0\n",
        "-- Number of positives: Y test 20.0\n",
        "-- Number of positives: Y train"
       ]
      },
      {
       "output_type": "stream",
       "stream": "stdout",
       "text": [
        " 78.0\n",
        "-- Number of positives: Y test 19.0\n",
        "-- Number of positives: Y train"
       ]
      },
      {
       "output_type": "stream",
       "stream": "stdout",
       "text": [
        " 78.0\n",
        "-- Number of positives: Y test 19.0\n",
        "-- Number of positives: Y train"
       ]
      },
      {
       "output_type": "stream",
       "stream": "stdout",
       "text": [
        " 77.0\n",
        "-- Number of positives: Y test 20.0\n",
        "-- Number of positives: Y train"
       ]
      },
      {
       "output_type": "stream",
       "stream": "stdout",
       "text": [
        " 78.0\n",
        "-- Number of positives: Y test 19.0\n",
        "-- Number of positives: Y train"
       ]
      },
      {
       "output_type": "stream",
       "stream": "stdout",
       "text": [
        " 78.0\n",
        "-- Number of positives: Y test 19.0\n",
        "-- Number of positives: Y train"
       ]
      },
      {
       "output_type": "stream",
       "stream": "stdout",
       "text": [
        " 78.0\n",
        "-- Number of positives: Y test 19.0\n",
        "-- Number of positives: Y train"
       ]
      },
      {
       "output_type": "stream",
       "stream": "stdout",
       "text": [
        " 78.0\n",
        "-- Number of positives: Y test 19.0\n",
        "-- Number of positives: Y train"
       ]
      },
      {
       "output_type": "stream",
       "stream": "stdout",
       "text": [
        " 78.0\n",
        "-- Number of positives: Y test 19.0\n",
        "-- Number of positives: Y train"
       ]
      },
      {
       "output_type": "stream",
       "stream": "stdout",
       "text": [
        " 77.0\n",
        "-- Number of positives: Y test 20.0\n",
        "-- Number of positives: Y train"
       ]
      },
      {
       "output_type": "stream",
       "stream": "stdout",
       "text": [
        " 77.0\n",
        "-- Number of positives: Y test 20.0\n",
        "-- Number of positives: Y train"
       ]
      },
      {
       "output_type": "stream",
       "stream": "stdout",
       "text": [
        " 78.0\n",
        "-- Number of positives: Y test 19.0\n",
        "-- Number of positives: Y train"
       ]
      },
      {
       "output_type": "stream",
       "stream": "stdout",
       "text": [
        " 78.0\n",
        "-- Number of positives: Y test 19.0\n",
        "-- Number of positives: Y train"
       ]
      },
      {
       "output_type": "stream",
       "stream": "stdout",
       "text": [
        " 77.0\n",
        "-- Number of positives: Y test 20.0\n",
        "-- Number of positives: Y train"
       ]
      },
      {
       "output_type": "stream",
       "stream": "stdout",
       "text": [
        " 77.0\n",
        "-- Number of positives: Y test 20.0\n",
        "-- Number of positives: Y train"
       ]
      },
      {
       "output_type": "stream",
       "stream": "stdout",
       "text": [
        " 78.0\n",
        "-- Number of positives: Y test 19.0\n",
        "-- Number of positives: Y train"
       ]
      },
      {
       "output_type": "stream",
       "stream": "stdout",
       "text": [
        " 77.0\n",
        "-- Number of positives: Y test 20.0\n",
        "-- Number of positives: Y train"
       ]
      },
      {
       "output_type": "stream",
       "stream": "stdout",
       "text": [
        " 77.0\n",
        "-- Number of positives: Y test 20.0\n",
        "-- Number of positives: Y train"
       ]
      },
      {
       "output_type": "stream",
       "stream": "stdout",
       "text": [
        " 78.0\n",
        "-- Number of positives: Y test 19.0\n",
        "-- Number of positives: Y train"
       ]
      },
      {
       "output_type": "stream",
       "stream": "stdout",
       "text": [
        " 77.0\n",
        "-- Number of positives: Y test 20.0\n",
        "-- Number of positives: Y train"
       ]
      },
      {
       "output_type": "stream",
       "stream": "stdout",
       "text": [
        " 77.0\n",
        "-- Number of positives: Y test 20.0\n",
        "-- Number of positives: Y train"
       ]
      },
      {
       "output_type": "stream",
       "stream": "stdout",
       "text": [
        " 78.0\n",
        "-- Number of positives: Y test 19.0\n",
        "-- Number of positives: Y train"
       ]
      },
      {
       "output_type": "stream",
       "stream": "stdout",
       "text": [
        " 77.0\n",
        "-- Number of positives: Y test 20.0\n",
        "-- Number of positives: Y train"
       ]
      },
      {
       "output_type": "stream",
       "stream": "stdout",
       "text": [
        " 78.0\n",
        "-- Number of positives: Y test 19.0\n",
        "-- Number of positives: Y train"
       ]
      },
      {
       "output_type": "stream",
       "stream": "stdout",
       "text": [
        " 77.0\n",
        "-- Number of positives: Y test 20.0\n",
        "-- Number of positives: Y train"
       ]
      },
      {
       "output_type": "stream",
       "stream": "stdout",
       "text": [
        " 78.0\n",
        "-- Number of positives: Y test 19.0\n",
        "-- Number of positives: Y train"
       ]
      },
      {
       "output_type": "stream",
       "stream": "stdout",
       "text": [
        " 77.0\n",
        "-- Number of positives: Y test 20.0\n",
        "-- Number of positives: Y train"
       ]
      },
      {
       "output_type": "stream",
       "stream": "stdout",
       "text": [
        " 78.0\n",
        "-- Number of positives: Y test 19.0\n",
        "-- Number of positives: Y train"
       ]
      },
      {
       "output_type": "stream",
       "stream": "stdout",
       "text": [
        " 77.0\n",
        "-- Number of positives: Y test 20.0\n",
        "-- Number of positives: Y train"
       ]
      },
      {
       "output_type": "stream",
       "stream": "stdout",
       "text": [
        " 78.0\n",
        "-- Number of positives: Y test 19.0\n",
        "-- Number of positives: Y train"
       ]
      },
      {
       "output_type": "stream",
       "stream": "stdout",
       "text": [
        " 78.0\n",
        "-- Number of positives: Y test 19.0\n",
        "-- Number of positives: Y train"
       ]
      },
      {
       "output_type": "stream",
       "stream": "stdout",
       "text": [
        " 78.0\n",
        "-- Number of positives: Y test 19.0\n",
        "-- Number of positives: Y train"
       ]
      },
      {
       "output_type": "stream",
       "stream": "stdout",
       "text": [
        " 77.0\n",
        "-- Number of positives: Y test 20.0\n",
        "-- Number of positives: Y train"
       ]
      },
      {
       "output_type": "stream",
       "stream": "stdout",
       "text": [
        " 78.0\n",
        "-- Number of positives: Y test 19.0\n",
        "-- Number of positives: Y train"
       ]
      },
      {
       "output_type": "stream",
       "stream": "stdout",
       "text": [
        " 77.0\n",
        "-- Number of positives: Y test 20.0\n",
        "-- Number of positives: Y train"
       ]
      },
      {
       "output_type": "stream",
       "stream": "stdout",
       "text": [
        " 77.0\n",
        "-- Number of positives: Y test 20.0\n",
        "-- Number of positives: Y train"
       ]
      },
      {
       "output_type": "stream",
       "stream": "stdout",
       "text": [
        " 77.0\n",
        "-- Number of positives: Y test 20.0\n",
        "-- Number of positives: Y train"
       ]
      },
      {
       "output_type": "stream",
       "stream": "stdout",
       "text": [
        " 78.0\n",
        "-- Number of positives: Y test 19.0\n",
        "-- Number of positives: Y train"
       ]
      },
      {
       "output_type": "stream",
       "stream": "stdout",
       "text": [
        " 77.0\n",
        "-- Number of positives: Y test 20.0\n",
        "-- Number of positives: Y train"
       ]
      },
      {
       "output_type": "stream",
       "stream": "stdout",
       "text": [
        " 77.0\n",
        "-- Number of positives: Y test 20.0\n",
        "-- Number of positives: Y train"
       ]
      },
      {
       "output_type": "stream",
       "stream": "stdout",
       "text": [
        " 78.0\n",
        "-- Number of positives: Y test 19.0\n",
        "-- Number of positives: Y train"
       ]
      },
      {
       "output_type": "stream",
       "stream": "stdout",
       "text": [
        " 77.0\n",
        "-- Number of positives: Y test 20.0\n",
        "-- Number of positives: Y train"
       ]
      },
      {
       "output_type": "stream",
       "stream": "stdout",
       "text": [
        " 78.0\n",
        "-- Number of positives: Y test 19.0\n",
        "-- Number of positives: Y train"
       ]
      },
      {
       "output_type": "stream",
       "stream": "stdout",
       "text": [
        " 77.0\n",
        "-- Number of positives: Y test 20.0\n",
        "-- Number of positives: Y train"
       ]
      },
      {
       "output_type": "stream",
       "stream": "stdout",
       "text": [
        " 78.0\n",
        "-- Number of positives: Y test 19.0\n",
        "-- Number of positives: Y train"
       ]
      },
      {
       "output_type": "stream",
       "stream": "stdout",
       "text": [
        " 78.0\n",
        "-- Number of positives: Y test 19.0\n",
        "-- Number of positives: Y train"
       ]
      },
      {
       "output_type": "stream",
       "stream": "stdout",
       "text": [
        " 77.0\n",
        "-- Number of positives: Y test 20.0\n",
        "-- Number of positives: Y train"
       ]
      },
      {
       "output_type": "stream",
       "stream": "stdout",
       "text": [
        " 78.0\n",
        "-- Number of positives: Y test 19.0\n",
        "-- Number of positives: Y train"
       ]
      },
      {
       "output_type": "stream",
       "stream": "stdout",
       "text": [
        " 78.0\n",
        "-- Number of positives: Y test 19.0\n",
        "-- Number of positives: Y train"
       ]
      },
      {
       "output_type": "stream",
       "stream": "stdout",
       "text": [
        " 77.0\n",
        "-- Number of positives: Y test 20.0\n",
        "-- Number of positives: Y train"
       ]
      },
      {
       "output_type": "stream",
       "stream": "stdout",
       "text": [
        " 77.0\n",
        "-- Number of positives: Y test 20.0\n",
        "-- Number of positives: Y train"
       ]
      },
      {
       "output_type": "stream",
       "stream": "stdout",
       "text": [
        " 77.0\n",
        "-- Number of positives: Y test 20.0\n",
        "-- Number of positives: Y train"
       ]
      },
      {
       "output_type": "stream",
       "stream": "stdout",
       "text": [
        " 78.0\n",
        "-- Number of positives: Y test 19.0\n",
        "-- Number of positives: Y train"
       ]
      },
      {
       "output_type": "stream",
       "stream": "stdout",
       "text": [
        " 161.0\n",
        "-- Number of positives: Y test 40.0\n",
        "-- Number of positives: Y train"
       ]
      },
      {
       "output_type": "stream",
       "stream": "stdout",
       "text": [
        " 161.0\n",
        "-- Number of positives: Y test 40.0\n",
        "-- Number of positives: Y train"
       ]
      },
      {
       "output_type": "stream",
       "stream": "stdout",
       "text": [
        " 160.0\n",
        "-- Number of positives: Y test 41.0\n",
        "-- Number of positives: Y train"
       ]
      },
      {
       "output_type": "stream",
       "stream": "stdout",
       "text": [
        " 160.0\n",
        "-- Number of positives: Y test 41.0\n",
        "-- Number of positives: Y train"
       ]
      },
      {
       "output_type": "stream",
       "stream": "stdout",
       "text": [
        " 161.0\n",
        "-- Number of positives: Y test 40.0\n",
        "-- Number of positives: Y train"
       ]
      },
      {
       "output_type": "stream",
       "stream": "stdout",
       "text": [
        " 161.0\n",
        "-- Number of positives: Y test 40.0\n",
        "-- Number of positives: Y train"
       ]
      },
      {
       "output_type": "stream",
       "stream": "stdout",
       "text": [
        " 161.0\n",
        "-- Number of positives: Y test 40.0\n",
        "-- Number of positives: Y train"
       ]
      },
      {
       "output_type": "stream",
       "stream": "stdout",
       "text": [
        " 160.0\n",
        "-- Number of positives: Y test 41.0\n",
        "-- Number of positives: Y train"
       ]
      },
      {
       "output_type": "stream",
       "stream": "stdout",
       "text": [
        " 160.0\n",
        "-- Number of positives: Y test 41.0\n",
        "-- Number of positives: Y train"
       ]
      },
      {
       "output_type": "stream",
       "stream": "stdout",
       "text": [
        " 160.0\n",
        "-- Number of positives: Y test 41.0\n",
        "-- Number of positives: Y train"
       ]
      },
      {
       "output_type": "stream",
       "stream": "stdout",
       "text": [
        " 160.0\n",
        "-- Number of positives: Y test 41.0\n",
        "-- Number of positives: Y train"
       ]
      },
      {
       "output_type": "stream",
       "stream": "stdout",
       "text": [
        " 161.0\n",
        "-- Number of positives: Y test 40.0\n",
        "-- Number of positives: Y train"
       ]
      },
      {
       "output_type": "stream",
       "stream": "stdout",
       "text": [
        " 160.0\n",
        "-- Number of positives: Y test 41.0\n",
        "-- Number of positives: Y train"
       ]
      },
      {
       "output_type": "stream",
       "stream": "stdout",
       "text": [
        " 161.0\n",
        "-- Number of positives: Y test 40.0\n",
        "-- Number of positives: Y train"
       ]
      },
      {
       "output_type": "stream",
       "stream": "stdout",
       "text": [
        " 161.0\n",
        "-- Number of positives: Y test 40.0\n",
        "-- Number of positives: Y train"
       ]
      },
      {
       "output_type": "stream",
       "stream": "stdout",
       "text": [
        " 161.0\n",
        "-- Number of positives: Y test 40.0\n",
        "-- Number of positives: Y train"
       ]
      },
      {
       "output_type": "stream",
       "stream": "stdout",
       "text": [
        " 160.0\n",
        "-- Number of positives: Y test 41.0\n",
        "-- Number of positives: Y train"
       ]
      },
      {
       "output_type": "stream",
       "stream": "stdout",
       "text": [
        " 160.0\n",
        "-- Number of positives: Y test 41.0\n",
        "-- Number of positives: Y train"
       ]
      },
      {
       "output_type": "stream",
       "stream": "stdout",
       "text": [
        " 161.0\n",
        "-- Number of positives: Y test 40.0\n",
        "-- Number of positives: Y train"
       ]
      },
      {
       "output_type": "stream",
       "stream": "stdout",
       "text": [
        " 161.0\n",
        "-- Number of positives: Y test 40.0\n",
        "-- Number of positives: Y train"
       ]
      },
      {
       "output_type": "stream",
       "stream": "stdout",
       "text": [
        " 161.0\n",
        "-- Number of positives: Y test 40.0\n",
        "-- Number of positives: Y train"
       ]
      },
      {
       "output_type": "stream",
       "stream": "stdout",
       "text": [
        " 161.0\n",
        "-- Number of positives: Y test 40.0\n",
        "-- Number of positives: Y train"
       ]
      },
      {
       "output_type": "stream",
       "stream": "stdout",
       "text": [
        " 160.0\n",
        "-- Number of positives: Y test 41.0\n",
        "-- Number of positives: Y train"
       ]
      },
      {
       "output_type": "stream",
       "stream": "stdout",
       "text": [
        " 160.0\n",
        "-- Number of positives: Y test 41.0\n",
        "-- Number of positives: Y train"
       ]
      },
      {
       "output_type": "stream",
       "stream": "stdout",
       "text": [
        " 160.0\n",
        "-- Number of positives: Y test 41.0\n",
        "-- Number of positives: Y train"
       ]
      },
      {
       "output_type": "stream",
       "stream": "stdout",
       "text": [
        " 161.0\n",
        "-- Number of positives: Y test 40.0\n",
        "-- Number of positives: Y train"
       ]
      },
      {
       "output_type": "stream",
       "stream": "stdout",
       "text": [
        " 160.0\n",
        "-- Number of positives: Y test 41.0\n",
        "-- Number of positives: Y train"
       ]
      },
      {
       "output_type": "stream",
       "stream": "stdout",
       "text": [
        " 160.0\n",
        "-- Number of positives: Y test 41.0\n",
        "-- Number of positives: Y train"
       ]
      },
      {
       "output_type": "stream",
       "stream": "stdout",
       "text": [
        " 160.0\n",
        "-- Number of positives: Y test 41.0\n",
        "-- Number of positives: Y train"
       ]
      },
      {
       "output_type": "stream",
       "stream": "stdout",
       "text": [
        " 160.0\n",
        "-- Number of positives: Y test 41.0\n",
        "-- Number of positives: Y train"
       ]
      },
      {
       "output_type": "stream",
       "stream": "stdout",
       "text": [
        " 161.0\n",
        "-- Number of positives: Y test 40.0\n",
        "-- Number of positives: Y train"
       ]
      },
      {
       "output_type": "stream",
       "stream": "stdout",
       "text": [
        " 161.0\n",
        "-- Number of positives: Y test 40.0\n",
        "-- Number of positives: Y train"
       ]
      },
      {
       "output_type": "stream",
       "stream": "stdout",
       "text": [
        " 161.0\n",
        "-- Number of positives: Y test 40.0\n",
        "-- Number of positives: Y train"
       ]
      },
      {
       "output_type": "stream",
       "stream": "stdout",
       "text": [
        " 160.0\n",
        "-- Number of positives: Y test 41.0\n",
        "-- Number of positives: Y train"
       ]
      },
      {
       "output_type": "stream",
       "stream": "stdout",
       "text": [
        " 161.0\n",
        "-- Number of positives: Y test 40.0\n",
        "-- Number of positives: Y train"
       ]
      },
      {
       "output_type": "stream",
       "stream": "stdout",
       "text": [
        " 160.0\n",
        "-- Number of positives: Y test 41.0\n",
        "-- Number of positives: Y train"
       ]
      },
      {
       "output_type": "stream",
       "stream": "stdout",
       "text": [
        " 160.0\n",
        "-- Number of positives: Y test 41.0\n",
        "-- Number of positives: Y train"
       ]
      },
      {
       "output_type": "stream",
       "stream": "stdout",
       "text": [
        " 161.0\n",
        "-- Number of positives: Y test 40.0\n",
        "-- Number of positives: Y train"
       ]
      },
      {
       "output_type": "stream",
       "stream": "stdout",
       "text": [
        " 161.0\n",
        "-- Number of positives: Y test 40.0\n",
        "-- Number of positives: Y train"
       ]
      },
      {
       "output_type": "stream",
       "stream": "stdout",
       "text": [
        " 161.0\n",
        "-- Number of positives: Y test 40.0\n",
        "-- Number of positives: Y train"
       ]
      },
      {
       "output_type": "stream",
       "stream": "stdout",
       "text": [
        " 161.0\n",
        "-- Number of positives: Y test 40.0\n",
        "-- Number of positives: Y train"
       ]
      },
      {
       "output_type": "stream",
       "stream": "stdout",
       "text": [
        " 160.0\n",
        "-- Number of positives: Y test 41.0\n",
        "-- Number of positives: Y train"
       ]
      },
      {
       "output_type": "stream",
       "stream": "stdout",
       "text": [
        " 161.0\n",
        "-- Number of positives: Y test 40.0\n",
        "-- Number of positives: Y train"
       ]
      },
      {
       "output_type": "stream",
       "stream": "stdout",
       "text": [
        " 160.0\n",
        "-- Number of positives: Y test 41.0\n",
        "-- Number of positives: Y train"
       ]
      },
      {
       "output_type": "stream",
       "stream": "stdout",
       "text": [
        " 161.0\n",
        "-- Number of positives: Y test 40.0\n",
        "-- Number of positives: Y train"
       ]
      },
      {
       "output_type": "stream",
       "stream": "stdout",
       "text": [
        " 160.0\n",
        "-- Number of positives: Y test 41.0\n",
        "-- Number of positives: Y train"
       ]
      },
      {
       "output_type": "stream",
       "stream": "stdout",
       "text": [
        " 161.0\n",
        "-- Number of positives: Y test 40.0\n",
        "-- Number of positives: Y train"
       ]
      },
      {
       "output_type": "stream",
       "stream": "stdout",
       "text": [
        " 161.0\n",
        "-- Number of positives: Y test 40.0\n",
        "-- Number of positives: Y train"
       ]
      },
      {
       "output_type": "stream",
       "stream": "stdout",
       "text": [
        " 161.0\n",
        "-- Number of positives: Y test 40.0\n",
        "-- Number of positives: Y train"
       ]
      },
      {
       "output_type": "stream",
       "stream": "stdout",
       "text": [
        " 161.0\n",
        "-- Number of positives: Y test 40.0\n",
        "-- Number of positives: Y train"
       ]
      },
      {
       "output_type": "stream",
       "stream": "stdout",
       "text": [
        " 160.0\n",
        "-- Number of positives: Y test 41.0\n",
        "-- Number of positives: Y train"
       ]
      },
      {
       "output_type": "stream",
       "stream": "stdout",
       "text": [
        " 160.0\n",
        "-- Number of positives: Y test 41.0\n",
        "-- Number of positives: Y train"
       ]
      },
      {
       "output_type": "stream",
       "stream": "stdout",
       "text": [
        " 160.0\n",
        "-- Number of positives: Y test 41.0\n",
        "-- Number of positives: Y train"
       ]
      },
      {
       "output_type": "stream",
       "stream": "stdout",
       "text": [
        " 160.0\n",
        "-- Number of positives: Y test 41.0\n",
        "-- Number of positives: Y train"
       ]
      },
      {
       "output_type": "stream",
       "stream": "stdout",
       "text": [
        " 160.0\n",
        "-- Number of positives: Y test 41.0\n",
        "-- Number of positives: Y train"
       ]
      },
      {
       "output_type": "stream",
       "stream": "stdout",
       "text": [
        " 161.0\n",
        "-- Number of positives: Y test 40.0\n",
        "-- Number of positives: Y train"
       ]
      },
      {
       "output_type": "stream",
       "stream": "stdout",
       "text": [
        " 160.0\n",
        "-- Number of positives: Y test 41.0\n",
        "-- Number of positives: Y train"
       ]
      },
      {
       "output_type": "stream",
       "stream": "stdout",
       "text": [
        " 161.0\n",
        "-- Number of positives: Y test 40.0\n",
        "-- Number of positives: Y train"
       ]
      },
      {
       "output_type": "stream",
       "stream": "stdout",
       "text": [
        " 161.0\n",
        "-- Number of positives: Y test 40.0\n",
        "-- Number of positives: Y train"
       ]
      },
      {
       "output_type": "stream",
       "stream": "stdout",
       "text": [
        " 160.0\n",
        "-- Number of positives: Y test 41.0\n",
        "-- Number of positives: Y train"
       ]
      },
      {
       "output_type": "stream",
       "stream": "stdout",
       "text": [
        " 161.0\n",
        "-- Number of positives: Y test 40.0\n",
        "-- Number of positives: Y train"
       ]
      },
      {
       "output_type": "stream",
       "stream": "stdout",
       "text": [
        " 160.0\n",
        "-- Number of positives: Y test 41.0\n",
        "-- Number of positives: Y train"
       ]
      },
      {
       "output_type": "stream",
       "stream": "stdout",
       "text": [
        " 161.0\n",
        "-- Number of positives: Y test 40.0\n",
        "-- Number of positives: Y train"
       ]
      },
      {
       "output_type": "stream",
       "stream": "stdout",
       "text": [
        " 160.0\n",
        "-- Number of positives: Y test 41.0\n",
        "-- Number of positives: Y train"
       ]
      },
      {
       "output_type": "stream",
       "stream": "stdout",
       "text": [
        " 161.0\n",
        "-- Number of positives: Y test 40.0\n",
        "-- Number of positives: Y train"
       ]
      },
      {
       "output_type": "stream",
       "stream": "stdout",
       "text": [
        " 160.0\n",
        "-- Number of positives: Y test 41.0\n",
        "-- Number of positives: Y train"
       ]
      },
      {
       "output_type": "stream",
       "stream": "stdout",
       "text": [
        " 160.0\n",
        "-- Number of positives: Y test 41.0\n",
        "-- Number of positives: Y train"
       ]
      },
      {
       "output_type": "stream",
       "stream": "stdout",
       "text": [
        " 161.0\n",
        "-- Number of positives: Y test 40.0\n",
        "-- Number of positives: Y train"
       ]
      },
      {
       "output_type": "stream",
       "stream": "stdout",
       "text": [
        " 160.0\n",
        "-- Number of positives: Y test 41.0\n",
        "-- Number of positives: Y train"
       ]
      },
      {
       "output_type": "stream",
       "stream": "stdout",
       "text": [
        " 160.0\n",
        "-- Number of positives: Y test 41.0\n",
        "-- Number of positives: Y train"
       ]
      },
      {
       "output_type": "stream",
       "stream": "stdout",
       "text": [
        " 161.0\n",
        "-- Number of positives: Y test 40.0\n",
        "-- Number of positives: Y train"
       ]
      },
      {
       "output_type": "stream",
       "stream": "stdout",
       "text": [
        " 161.0\n",
        "-- Number of positives: Y test 40.0\n",
        "-- Number of positives: Y train"
       ]
      },
      {
       "output_type": "stream",
       "stream": "stdout",
       "text": [
        " 161.0\n",
        "-- Number of positives: Y test 40.0\n",
        "-- Number of positives: Y train"
       ]
      },
      {
       "output_type": "stream",
       "stream": "stdout",
       "text": [
        " 161.0\n",
        "-- Number of positives: Y test 40.0\n",
        "-- Number of positives: Y train"
       ]
      },
      {
       "output_type": "stream",
       "stream": "stdout",
       "text": [
        " 161.0\n",
        "-- Number of positives: Y test 40.0\n",
        "-- Number of positives: Y train"
       ]
      },
      {
       "output_type": "stream",
       "stream": "stdout",
       "text": [
        " 160.0\n",
        "-- Number of positives: Y test 41.0\n",
        "-- Number of positives: Y train"
       ]
      },
      {
       "output_type": "stream",
       "stream": "stdout",
       "text": [
        " 160.0\n",
        "-- Number of positives: Y test 41.0\n",
        "-- Number of positives: Y train"
       ]
      },
      {
       "output_type": "stream",
       "stream": "stdout",
       "text": [
        " 160.0\n",
        "-- Number of positives: Y test 41.0\n",
        "-- Number of positives: Y train"
       ]
      },
      {
       "output_type": "stream",
       "stream": "stdout",
       "text": [
        " 160.0\n",
        "-- Number of positives: Y test 41.0\n",
        "-- Number of positives: Y train"
       ]
      },
      {
       "output_type": "stream",
       "stream": "stdout",
       "text": [
        " 161.0\n",
        "-- Number of positives: Y test 40.0\n",
        "-- Number of positives: Y train"
       ]
      },
      {
       "output_type": "stream",
       "stream": "stdout",
       "text": [
        " 160.0\n",
        "-- Number of positives: Y test 41.0\n",
        "-- Number of positives: Y train"
       ]
      },
      {
       "output_type": "stream",
       "stream": "stdout",
       "text": [
        " 161.0\n",
        "-- Number of positives: Y test 40.0\n",
        "-- Number of positives: Y train"
       ]
      },
      {
       "output_type": "stream",
       "stream": "stdout",
       "text": [
        " 160.0\n",
        "-- Number of positives: Y test 41.0\n",
        "-- Number of positives: Y train"
       ]
      },
      {
       "output_type": "stream",
       "stream": "stdout",
       "text": [
        " 160.0\n",
        "-- Number of positives: Y test 41.0\n",
        "-- Number of positives: Y train"
       ]
      },
      {
       "output_type": "stream",
       "stream": "stdout",
       "text": [
        " 161.0\n",
        "-- Number of positives: Y test 40.0\n",
        "-- Number of positives: Y train"
       ]
      },
      {
       "output_type": "stream",
       "stream": "stdout",
       "text": [
        " 160.0\n",
        "-- Number of positives: Y test 41.0\n",
        "-- Number of positives: Y train"
       ]
      },
      {
       "output_type": "stream",
       "stream": "stdout",
       "text": [
        " 161.0\n",
        "-- Number of positives: Y test 40.0\n",
        "-- Number of positives: Y train"
       ]
      },
      {
       "output_type": "stream",
       "stream": "stdout",
       "text": [
        " 161.0\n",
        "-- Number of positives: Y test 40.0\n",
        "-- Number of positives: Y train"
       ]
      },
      {
       "output_type": "stream",
       "stream": "stdout",
       "text": [
        " 160.0\n",
        "-- Number of positives: Y test 41.0\n",
        "-- Number of positives: Y train"
       ]
      },
      {
       "output_type": "stream",
       "stream": "stdout",
       "text": [
        " 160.0\n",
        "-- Number of positives: Y test 41.0\n",
        "-- Number of positives: Y train"
       ]
      },
      {
       "output_type": "stream",
       "stream": "stdout",
       "text": [
        " 160.0\n",
        "-- Number of positives: Y test 41.0\n",
        "-- Number of positives: Y train"
       ]
      },
      {
       "output_type": "stream",
       "stream": "stdout",
       "text": [
        " 160.0\n",
        "-- Number of positives: Y test 41.0\n",
        "-- Number of positives: Y train"
       ]
      },
      {
       "output_type": "stream",
       "stream": "stdout",
       "text": [
        " 160.0\n",
        "-- Number of positives: Y test 41.0\n",
        "-- Number of positives: Y train"
       ]
      },
      {
       "output_type": "stream",
       "stream": "stdout",
       "text": [
        " 160.0\n",
        "-- Number of positives: Y test 41.0\n",
        "-- Number of positives: Y train"
       ]
      },
      {
       "output_type": "stream",
       "stream": "stdout",
       "text": [
        " 161.0\n",
        "-- Number of positives: Y test 40.0\n",
        "-- Number of positives: Y train"
       ]
      },
      {
       "output_type": "stream",
       "stream": "stdout",
       "text": [
        " 161.0\n",
        "-- Number of positives: Y test 40.0\n",
        "-- Number of positives: Y train"
       ]
      },
      {
       "output_type": "stream",
       "stream": "stdout",
       "text": [
        " 161.0\n",
        "-- Number of positives: Y test 40.0\n",
        "-- Number of positives: Y train"
       ]
      },
      {
       "output_type": "stream",
       "stream": "stdout",
       "text": [
        " 160.0\n",
        "-- Number of positives: Y test 41.0\n",
        "-- Number of positives: Y train"
       ]
      },
      {
       "output_type": "stream",
       "stream": "stdout",
       "text": [
        " 161.0\n",
        "-- Number of positives: Y test 40.0\n",
        "-- Number of positives: Y train"
       ]
      },
      {
       "output_type": "stream",
       "stream": "stdout",
       "text": [
        " 161.0\n",
        "-- Number of positives: Y test 40.0\n",
        "-- Number of positives: Y train"
       ]
      },
      {
       "output_type": "stream",
       "stream": "stdout",
       "text": [
        " 236.0\n",
        "-- Number of positives: Y test 60.0\n",
        "-- Number of positives: Y train"
       ]
      },
      {
       "output_type": "stream",
       "stream": "stdout",
       "text": [
        " 237.0\n",
        "-- Number of positives: Y test 59.0\n",
        "-- Number of positives: Y train"
       ]
      },
      {
       "output_type": "stream",
       "stream": "stdout",
       "text": [
        " 236.0\n",
        "-- Number of positives: Y test 60.0\n",
        "-- Number of positives: Y train"
       ]
      },
      {
       "output_type": "stream",
       "stream": "stdout",
       "text": [
        " 236.0\n",
        "-- Number of positives: Y test 60.0\n",
        "-- Number of positives: Y train"
       ]
      },
      {
       "output_type": "stream",
       "stream": "stdout",
       "text": [
        " 236.0\n",
        "-- Number of positives: Y test 60.0\n",
        "-- Number of positives: Y train"
       ]
      },
      {
       "output_type": "stream",
       "stream": "stdout",
       "text": [
        " 237.0\n",
        "-- Number of positives: Y test 59.0\n",
        "-- Number of positives: Y train"
       ]
      },
      {
       "output_type": "stream",
       "stream": "stdout",
       "text": [
        " 237.0\n",
        "-- Number of positives: Y test 59.0\n",
        "-- Number of positives: Y train"
       ]
      },
      {
       "output_type": "stream",
       "stream": "stdout",
       "text": [
        " 237.0\n",
        "-- Number of positives: Y test 59.0\n",
        "-- Number of positives: Y train"
       ]
      },
      {
       "output_type": "stream",
       "stream": "stdout",
       "text": [
        " 236.0\n",
        "-- Number of positives: Y test 60.0\n",
        "-- Number of positives: Y train"
       ]
      },
      {
       "output_type": "stream",
       "stream": "stdout",
       "text": [
        " 236.0\n",
        "-- Number of positives: Y test 60.0\n",
        "-- Number of positives: Y train"
       ]
      },
      {
       "output_type": "stream",
       "stream": "stdout",
       "text": [
        " 236.0\n",
        "-- Number of positives: Y test 60.0\n",
        "-- Number of positives: Y train"
       ]
      },
      {
       "output_type": "stream",
       "stream": "stdout",
       "text": [
        " 236.0\n",
        "-- Number of positives: Y test 60.0\n",
        "-- Number of positives: Y train"
       ]
      },
      {
       "output_type": "stream",
       "stream": "stdout",
       "text": [
        " 237.0\n",
        "-- Number of positives: Y test 59.0\n",
        "-- Number of positives: Y train"
       ]
      },
      {
       "output_type": "stream",
       "stream": "stdout",
       "text": [
        " 237.0\n",
        "-- Number of positives: Y test 59.0\n",
        "-- Number of positives: Y train"
       ]
      },
      {
       "output_type": "stream",
       "stream": "stdout",
       "text": [
        " 236.0\n",
        "-- Number of positives: Y test 60.0\n",
        "-- Number of positives: Y train"
       ]
      },
      {
       "output_type": "stream",
       "stream": "stdout",
       "text": [
        " 237.0\n",
        "-- Number of positives: Y test 59.0\n",
        "-- Number of positives: Y train"
       ]
      },
      {
       "output_type": "stream",
       "stream": "stdout",
       "text": [
        " 237.0\n",
        "-- Number of positives: Y test 59.0\n",
        "-- Number of positives: Y train"
       ]
      },
      {
       "output_type": "stream",
       "stream": "stdout",
       "text": [
        " 237.0\n",
        "-- Number of positives: Y test 59.0\n",
        "-- Number of positives: Y train"
       ]
      },
      {
       "output_type": "stream",
       "stream": "stdout",
       "text": [
        " 236.0\n",
        "-- Number of positives: Y test 60.0\n",
        "-- Number of positives: Y train"
       ]
      },
      {
       "output_type": "stream",
       "stream": "stdout",
       "text": [
        " 237.0\n",
        "-- Number of positives: Y test 59.0\n",
        "-- Number of positives: Y train"
       ]
      },
      {
       "output_type": "stream",
       "stream": "stdout",
       "text": [
        " 237.0\n",
        "-- Number of positives: Y test 59.0\n",
        "-- Number of positives: Y train"
       ]
      },
      {
       "output_type": "stream",
       "stream": "stdout",
       "text": [
        " 237.0\n",
        "-- Number of positives: Y test 59.0\n",
        "-- Number of positives: Y train"
       ]
      },
      {
       "output_type": "stream",
       "stream": "stdout",
       "text": [
        " 237.0\n",
        "-- Number of positives: Y test 59.0\n",
        "-- Number of positives: Y train"
       ]
      },
      {
       "output_type": "stream",
       "stream": "stdout",
       "text": [
        " 237.0\n",
        "-- Number of positives: Y test 59.0\n",
        "-- Number of positives: Y train"
       ]
      },
      {
       "output_type": "stream",
       "stream": "stdout",
       "text": [
        " 236.0\n",
        "-- Number of positives: Y test 60.0\n",
        "-- Number of positives: Y train"
       ]
      },
      {
       "output_type": "stream",
       "stream": "stdout",
       "text": [
        " 237.0\n",
        "-- Number of positives: Y test 59.0\n",
        "-- Number of positives: Y train"
       ]
      },
      {
       "output_type": "stream",
       "stream": "stdout",
       "text": [
        " 236.0\n",
        "-- Number of positives: Y test 60.0\n",
        "-- Number of positives: Y train"
       ]
      },
      {
       "output_type": "stream",
       "stream": "stdout",
       "text": [
        " 237.0\n",
        "-- Number of positives: Y test 59.0\n",
        "-- Number of positives: Y train"
       ]
      },
      {
       "output_type": "stream",
       "stream": "stdout",
       "text": [
        " 237.0\n",
        "-- Number of positives: Y test 59.0\n",
        "-- Number of positives: Y train"
       ]
      },
      {
       "output_type": "stream",
       "stream": "stdout",
       "text": [
        " 236.0\n",
        "-- Number of positives: Y test 60.0\n",
        "-- Number of positives: Y train"
       ]
      },
      {
       "output_type": "stream",
       "stream": "stdout",
       "text": [
        " 236.0\n",
        "-- Number of positives: Y test 60.0\n",
        "-- Number of positives: Y train"
       ]
      },
      {
       "output_type": "stream",
       "stream": "stdout",
       "text": [
        " 237.0\n",
        "-- Number of positives: Y test 59.0\n",
        "-- Number of positives: Y train"
       ]
      },
      {
       "output_type": "stream",
       "stream": "stdout",
       "text": [
        " 237.0\n",
        "-- Number of positives: Y test 59.0\n",
        "-- Number of positives: Y train"
       ]
      },
      {
       "output_type": "stream",
       "stream": "stdout",
       "text": [
        " 236.0\n",
        "-- Number of positives: Y test 60.0\n",
        "-- Number of positives: Y train"
       ]
      },
      {
       "output_type": "stream",
       "stream": "stdout",
       "text": [
        " 237.0\n",
        "-- Number of positives: Y test 59.0\n",
        "-- Number of positives: Y train"
       ]
      },
      {
       "output_type": "stream",
       "stream": "stdout",
       "text": [
        " 237.0\n",
        "-- Number of positives: Y test 59.0\n",
        "-- Number of positives: Y train"
       ]
      },
      {
       "output_type": "stream",
       "stream": "stdout",
       "text": [
        " 236.0\n",
        "-- Number of positives: Y test 60.0\n",
        "-- Number of positives: Y train"
       ]
      },
      {
       "output_type": "stream",
       "stream": "stdout",
       "text": [
        " 237.0\n",
        "-- Number of positives: Y test 59.0\n",
        "-- Number of positives: Y train"
       ]
      },
      {
       "output_type": "stream",
       "stream": "stdout",
       "text": [
        " 236.0\n",
        "-- Number of positives: Y test 60.0\n",
        "-- Number of positives: Y train"
       ]
      },
      {
       "output_type": "stream",
       "stream": "stdout",
       "text": [
        " 237.0\n",
        "-- Number of positives: Y test 59.0\n",
        "-- Number of positives: Y train"
       ]
      },
      {
       "output_type": "stream",
       "stream": "stdout",
       "text": [
        " 237.0\n",
        "-- Number of positives: Y test 59.0\n",
        "-- Number of positives: Y train"
       ]
      },
      {
       "output_type": "stream",
       "stream": "stdout",
       "text": [
        " 237.0\n",
        "-- Number of positives: Y test 59.0\n",
        "-- Number of positives: Y train"
       ]
      },
      {
       "output_type": "stream",
       "stream": "stdout",
       "text": [
        " 236.0\n",
        "-- Number of positives: Y test 60.0\n",
        "-- Number of positives: Y train"
       ]
      },
      {
       "output_type": "stream",
       "stream": "stdout",
       "text": [
        " 237.0\n",
        "-- Number of positives: Y test 59.0\n",
        "-- Number of positives: Y train"
       ]
      },
      {
       "output_type": "stream",
       "stream": "stdout",
       "text": [
        " 237.0\n",
        "-- Number of positives: Y test 59.0\n",
        "-- Number of positives: Y train"
       ]
      },
      {
       "output_type": "stream",
       "stream": "stdout",
       "text": [
        " 236.0\n",
        "-- Number of positives: Y test 60.0\n",
        "-- Number of positives: Y train"
       ]
      },
      {
       "output_type": "stream",
       "stream": "stdout",
       "text": [
        " 237.0\n",
        "-- Number of positives: Y test 59.0\n",
        "-- Number of positives: Y train"
       ]
      },
      {
       "output_type": "stream",
       "stream": "stdout",
       "text": [
        " 237.0\n",
        "-- Number of positives: Y test 59.0\n",
        "-- Number of positives: Y train"
       ]
      },
      {
       "output_type": "stream",
       "stream": "stdout",
       "text": [
        " 237.0\n",
        "-- Number of positives: Y test 59.0\n",
        "-- Number of positives: Y train"
       ]
      },
      {
       "output_type": "stream",
       "stream": "stdout",
       "text": [
        " 237.0\n",
        "-- Number of positives: Y test 59.0\n",
        "-- Number of positives: Y train"
       ]
      },
      {
       "output_type": "stream",
       "stream": "stdout",
       "text": [
        " 236.0\n",
        "-- Number of positives: Y test 60.0\n",
        "-- Number of positives: Y train"
       ]
      },
      {
       "output_type": "stream",
       "stream": "stdout",
       "text": [
        " 236.0\n",
        "-- Number of positives: Y test 60.0\n",
        "-- Number of positives: Y train"
       ]
      },
      {
       "output_type": "stream",
       "stream": "stdout",
       "text": [
        " 236.0\n",
        "-- Number of positives: Y test 60.0\n",
        "-- Number of positives: Y train"
       ]
      },
      {
       "output_type": "stream",
       "stream": "stdout",
       "text": [
        " 237.0\n",
        "-- Number of positives: Y test 59.0\n",
        "-- Number of positives: Y train"
       ]
      },
      {
       "output_type": "stream",
       "stream": "stdout",
       "text": [
        " 237.0\n",
        "-- Number of positives: Y test 59.0\n",
        "-- Number of positives: Y train"
       ]
      },
      {
       "output_type": "stream",
       "stream": "stdout",
       "text": [
        " 236.0\n",
        "-- Number of positives: Y test 60.0\n",
        "-- Number of positives: Y train"
       ]
      },
      {
       "output_type": "stream",
       "stream": "stdout",
       "text": [
        " 237.0\n",
        "-- Number of positives: Y test 59.0\n",
        "-- Number of positives: Y train"
       ]
      },
      {
       "output_type": "stream",
       "stream": "stdout",
       "text": [
        " 237.0\n",
        "-- Number of positives: Y test 59.0\n",
        "-- Number of positives: Y train"
       ]
      },
      {
       "output_type": "stream",
       "stream": "stdout",
       "text": [
        " 236.0\n",
        "-- Number of positives: Y test 60.0\n",
        "-- Number of positives: Y train"
       ]
      },
      {
       "output_type": "stream",
       "stream": "stdout",
       "text": [
        " 236.0\n",
        "-- Number of positives: Y test 60.0\n",
        "-- Number of positives: Y train"
       ]
      },
      {
       "output_type": "stream",
       "stream": "stdout",
       "text": [
        " 237.0\n",
        "-- Number of positives: Y test 59.0\n",
        "-- Number of positives: Y train"
       ]
      },
      {
       "output_type": "stream",
       "stream": "stdout",
       "text": [
        " 236.0\n",
        "-- Number of positives: Y test 60.0\n",
        "-- Number of positives: Y train"
       ]
      },
      {
       "output_type": "stream",
       "stream": "stdout",
       "text": [
        " 237.0\n",
        "-- Number of positives: Y test 59.0\n",
        "-- Number of positives: Y train"
       ]
      },
      {
       "output_type": "stream",
       "stream": "stdout",
       "text": [
        " 237.0\n",
        "-- Number of positives: Y test 59.0\n",
        "-- Number of positives: Y train"
       ]
      },
      {
       "output_type": "stream",
       "stream": "stdout",
       "text": [
        " 237.0\n",
        "-- Number of positives: Y test 59.0\n",
        "-- Number of positives: Y train"
       ]
      },
      {
       "output_type": "stream",
       "stream": "stdout",
       "text": [
        " 236.0\n",
        "-- Number of positives: Y test 60.0\n",
        "-- Number of positives: Y train"
       ]
      },
      {
       "output_type": "stream",
       "stream": "stdout",
       "text": [
        " 237.0\n",
        "-- Number of positives: Y test 59.0\n",
        "-- Number of positives: Y train"
       ]
      },
      {
       "output_type": "stream",
       "stream": "stdout",
       "text": [
        " 237.0\n",
        "-- Number of positives: Y test 59.0\n",
        "-- Number of positives: Y train"
       ]
      },
      {
       "output_type": "stream",
       "stream": "stdout",
       "text": [
        " 236.0\n",
        "-- Number of positives: Y test 60.0\n",
        "-- Number of positives: Y train"
       ]
      },
      {
       "output_type": "stream",
       "stream": "stdout",
       "text": [
        " 236.0\n",
        "-- Number of positives: Y test 60.0\n",
        "-- Number of positives: Y train"
       ]
      },
      {
       "output_type": "stream",
       "stream": "stdout",
       "text": [
        " 237.0\n",
        "-- Number of positives: Y test 59.0\n",
        "-- Number of positives: Y train"
       ]
      },
      {
       "output_type": "stream",
       "stream": "stdout",
       "text": [
        " 237.0\n",
        "-- Number of positives: Y test 59.0\n",
        "-- Number of positives: Y train"
       ]
      },
      {
       "output_type": "stream",
       "stream": "stdout",
       "text": [
        " 237.0\n",
        "-- Number of positives: Y test 59.0\n",
        "-- Number of positives: Y train"
       ]
      },
      {
       "output_type": "stream",
       "stream": "stdout",
       "text": [
        " 237.0\n",
        "-- Number of positives: Y test 59.0\n",
        "-- Number of positives: Y train"
       ]
      },
      {
       "output_type": "stream",
       "stream": "stdout",
       "text": [
        " 237.0\n",
        "-- Number of positives: Y test 59.0\n",
        "-- Number of positives: Y train"
       ]
      },
      {
       "output_type": "stream",
       "stream": "stdout",
       "text": [
        " 236.0\n",
        "-- Number of positives: Y test 60.0\n",
        "-- Number of positives: Y train"
       ]
      },
      {
       "output_type": "stream",
       "stream": "stdout",
       "text": [
        " 236.0\n",
        "-- Number of positives: Y test 60.0\n",
        "-- Number of positives: Y train"
       ]
      },
      {
       "output_type": "stream",
       "stream": "stdout",
       "text": [
        " 236.0\n",
        "-- Number of positives: Y test 60.0\n",
        "-- Number of positives: Y train"
       ]
      },
      {
       "output_type": "stream",
       "stream": "stdout",
       "text": [
        " 237.0\n",
        "-- Number of positives: Y test 59.0\n",
        "-- Number of positives: Y train"
       ]
      },
      {
       "output_type": "stream",
       "stream": "stdout",
       "text": [
        " 236.0\n",
        "-- Number of positives: Y test 60.0\n",
        "-- Number of positives: Y train"
       ]
      },
      {
       "output_type": "stream",
       "stream": "stdout",
       "text": [
        " 237.0\n",
        "-- Number of positives: Y test 59.0\n",
        "-- Number of positives: Y train"
       ]
      },
      {
       "output_type": "stream",
       "stream": "stdout",
       "text": [
        " 236.0\n",
        "-- Number of positives: Y test 60.0\n",
        "-- Number of positives: Y train"
       ]
      },
      {
       "output_type": "stream",
       "stream": "stdout",
       "text": [
        " 236.0\n",
        "-- Number of positives: Y test 60.0\n",
        "-- Number of positives: Y train"
       ]
      },
      {
       "output_type": "stream",
       "stream": "stdout",
       "text": [
        " 236.0\n",
        "-- Number of positives: Y test 60.0\n",
        "-- Number of positives: Y train"
       ]
      },
      {
       "output_type": "stream",
       "stream": "stdout",
       "text": [
        " 236.0\n",
        "-- Number of positives: Y test 60.0\n",
        "-- Number of positives: Y train"
       ]
      },
      {
       "output_type": "stream",
       "stream": "stdout",
       "text": [
        " 237.0\n",
        "-- Number of positives: Y test 59.0\n",
        "-- Number of positives: Y train"
       ]
      },
      {
       "output_type": "stream",
       "stream": "stdout",
       "text": [
        " 237.0\n",
        "-- Number of positives: Y test 59.0\n",
        "-- Number of positives: Y train"
       ]
      },
      {
       "output_type": "stream",
       "stream": "stdout",
       "text": [
        " 236.0\n",
        "-- Number of positives: Y test 60.0\n",
        "-- Number of positives: Y train"
       ]
      },
      {
       "output_type": "stream",
       "stream": "stdout",
       "text": [
        " 237.0\n",
        "-- Number of positives: Y test 59.0\n",
        "-- Number of positives: Y train"
       ]
      },
      {
       "output_type": "stream",
       "stream": "stdout",
       "text": [
        " 237.0\n",
        "-- Number of positives: Y test 59.0\n",
        "-- Number of positives: Y train"
       ]
      },
      {
       "output_type": "stream",
       "stream": "stdout",
       "text": [
        " 236.0\n",
        "-- Number of positives: Y test 60.0\n",
        "-- Number of positives: Y train"
       ]
      },
      {
       "output_type": "stream",
       "stream": "stdout",
       "text": [
        " 236.0\n",
        "-- Number of positives: Y test 60.0\n",
        "-- Number of positives: Y train"
       ]
      },
      {
       "output_type": "stream",
       "stream": "stdout",
       "text": [
        " 237.0\n",
        "-- Number of positives: Y test 59.0\n",
        "-- Number of positives: Y train"
       ]
      },
      {
       "output_type": "stream",
       "stream": "stdout",
       "text": [
        " 236.0\n",
        "-- Number of positives: Y test 60.0\n",
        "-- Number of positives: Y train"
       ]
      },
      {
       "output_type": "stream",
       "stream": "stdout",
       "text": [
        " 237.0\n",
        "-- Number of positives: Y test 59.0\n",
        "-- Number of positives: Y train"
       ]
      },
      {
       "output_type": "stream",
       "stream": "stdout",
       "text": [
        " 237.0\n",
        "-- Number of positives: Y test 59.0\n",
        "-- Number of positives: Y train"
       ]
      },
      {
       "output_type": "stream",
       "stream": "stdout",
       "text": [
        " 236.0\n",
        "-- Number of positives: Y test 60.0\n",
        "-- Number of positives: Y train"
       ]
      },
      {
       "output_type": "stream",
       "stream": "stdout",
       "text": [
        " 236.0\n",
        "-- Number of positives: Y test 60.0\n",
        "-- Number of positives: Y train"
       ]
      },
      {
       "output_type": "stream",
       "stream": "stdout",
       "text": [
        " 236.0\n",
        "-- Number of positives: Y test 60.0\n",
        "-- Number of positives: Y train"
       ]
      },
      {
       "output_type": "stream",
       "stream": "stdout",
       "text": [
        " 237.0\n",
        "-- Number of positives: Y test 59.0\n"
       ]
      }
     ],
     "prompt_number": 130
    },
    {
     "cell_type": "code",
     "collapsed": false,
     "input": [
      "print F1_label, F1_1, F1_2, F1_3\n"
     ],
     "language": "python",
     "metadata": {},
     "outputs": [
      {
       "output_type": "stream",
       "stream": "stdout",
       "text": [
        "0.0 0.0499580274798 0.121833301286 0.226005282118\n"
       ]
      }
     ],
     "prompt_number": 131
    },
    {
     "cell_type": "code",
     "collapsed": false,
     "input": [
      "DF_all_features_1_2 = merge_data.mergeAllTheThingsForProxy(Target_binning_func =binning_utils.binByScore1 ,\n",
      "                             Proxy_binning_func = binning_utils.binByScore2, \n",
      "                             hai_2013_binning_func = binning_utils.binByScore4, \n",
      "                             hai_2012_binning_func = binning_utils.binByScore4)\n",
      "\n",
      "DF_no_states_1_2 = DF_all_features_1_2.drop(['AK', 'AL', 'AR', 'AZ', 'CA', 'CO', 'CT', 'DC', 'DE', 'FL',\n",
      "    'GA', 'HI', 'IA', 'ID', 'IL', 'IN', 'KS', 'KY', 'LA', 'MA', 'MD', 'ME', 'MI', 'MN', 'MO', 'MS', \n",
      "    'MT', 'NC', 'ND', 'NE', 'NH', 'NJ', 'NM', 'NV', 'NY', 'OH', 'OK', 'OR', 'PA', 'PR', 'RI', 'SC', \n",
      "    'SD', 'TN', 'TX', 'UT', 'VA', 'VI', 'VT', 'WA', 'WI', 'WV', 'WY'],1)\n",
      "\n",
      "DF_no_SCIPD_1_2 = merge_data.mergeAllTheThingsForProxy(Target_binning_func =binning_utils.binByScore1 ,\n",
      "                             Proxy_binning_func = binning_utils.binByScore2, \n",
      "                             hai_2013_binning_func = binning_utils.binByScore4, \n",
      "                             hai_2012_binning_func = binning_utils.binByScore4, SCIPD =False, Spending = True, Volume = True  )\n",
      "\n",
      "DF_no_Spending_1_2 = merge_data.mergeAllTheThingsForProxy(Target_binning_func =binning_utils.binByScore1 ,\n",
      "                             Proxy_binning_func = binning_utils.binByScore2, \n",
      "                             hai_2013_binning_func = binning_utils.binByScore4, \n",
      "                             hai_2012_binning_func = binning_utils.binByScore4, SCIPD =True, Spending = False, Volume = True)\n",
      "\n",
      "DF_no_Volume_1_2 = merge_data.mergeAllTheThingsForProxy(Target_binning_func =binning_utils.binByScore1 ,\n",
      "                             Proxy_binning_func = binning_utils.binByScore2, \n",
      "                             hai_2013_binning_func = binning_utils.binByScore4, \n",
      "                             hai_2012_binning_func = binning_utils.binByScore4, SCIPD =True, Spending = True, Volume = False  )"
     ],
     "language": "python",
     "metadata": {},
     "outputs": [],
     "prompt_number": 88
    },
    {
     "cell_type": "code",
     "collapsed": false,
     "input": [
      "\n",
      "\n",
      "\n",
      "\n",
      "'''\n",
      "f1_classifier = classifier.UnfittedLogisticRegression('f1', regularization_type='l2')\n",
      "print getF1Scores(DF_all_features_1_2, f1_classifier,20)\n",
      "print getF1Scores(DF_no_states_1_2, f1_classifier,20)\n",
      "print  getF1Scores(DF_no_SCIPD_1_2, f1_classifier,20)\n",
      "print  getF1Scores(DF_no_Volume_1_2, f1_classifier,20)\n",
      "'''"
     ],
     "language": "python",
     "metadata": {},
     "outputs": [
      {
       "metadata": {},
       "output_type": "pyout",
       "prompt_number": 137,
       "text": [
        "\"\\nf1_classifier = classifier.UnfittedLogisticRegression('f1', regularization_type='l2')\\nprint getF1Scores(DF_all_features_1_2, f1_classifier,20)\\nprint getF1Scores(DF_no_states_1_2, f1_classifier,20)\\nprint  getF1Scores(DF_no_SCIPD_1_2, f1_classifier,20)\\nprint  getF1Scores(DF_no_Volume_1_2, f1_classifier,20)\\n\""
       ]
      }
     ],
     "prompt_number": 137
    },
    {
     "cell_type": "heading",
     "level": 3,
     "metadata": {},
     "source": [
      "Making our own F_2 scorer"
     ]
    },
    {
     "cell_type": "code",
     "collapsed": false,
     "input": [
      "#in our case since we only have two labels (0 and 1), there is no difference in results when using micro, macro or weighted\n",
      "# beta is the weight of precision in the harmonic mean. \n",
      "#so beta < 1 lends more weight to precision, while beta > 1 favors recall \n",
      "#(beta -> 0 considers only precision, beta -> inf only recall).\n",
      "\n",
      "# we do not want to use only recall, because then our scorer will only choose to label them as\n",
      "ftwo_scorer = metrics.make_scorer(metrics.fbeta_score, beta=2)"
     ],
     "language": "python",
     "metadata": {},
     "outputs": [
      {
       "metadata": {},
       "output_type": "pyout",
       "prompt_number": 104,
       "text": [
        "make_scorer(fbeta_score, beta=2)"
       ]
      }
     ],
     "prompt_number": 104
    },
    {
     "cell_type": "code",
     "collapsed": false,
     "input": [
      "metrics.fbeta_score( [0,1], [1,1], average = \"weighted\",beta=2)"
     ],
     "language": "python",
     "metadata": {},
     "outputs": [
      {
       "metadata": {},
       "output_type": "pyout",
       "prompt_number": 120,
       "text": [
        "0.83333333333333337"
       ]
      }
     ],
     "prompt_number": 120
    },
    {
     "cell_type": "code",
     "collapsed": false,
     "input": [
      "def classifierDifferentMetrics(DF, scorer):\n",
      "    \n",
      "    #split into train and test\n",
      "    train_test_ix, holdout_ix = data_utils.splitTestTrainIndices(DF, 'Bin 2014', train_size=0.8)\n",
      "    X, Y = data_utils.splitTrainAndTarget(DF)\n",
      "    X_train, X_test = X.ix[train_test_ix], X.ix[holdout_ix]\n",
      "    Y_train, Y_test = Y.ix[train_test_ix], Y.ix[holdout_ix]\n",
      "    \n",
      "    #create classifier\n",
      "    clf = classifier.UnfittedLogisticRegression(scorer, regularization_type='l2')\n",
      "    \n",
      "    #fit to data\n",
      "    clf.fit(X_train, Y_train)\n",
      "    \n",
      "    temp = metrics.fbeta_score(Y_test, clf.predict(X_test), average = \"weighted\", beta = 2)\n",
      "    return temp\n",
      "  \n",
      "classifierDifferentMetrics(DF = hai_both_nobin_3, scorer = ftwo_scorer)"
     ],
     "language": "python",
     "metadata": {},
     "outputs": [
      {
       "metadata": {},
       "output_type": "pyout",
       "prompt_number": 133,
       "text": [
        "0.21825396825396826"
       ]
      }
     ],
     "prompt_number": 133
    },
    {
     "cell_type": "code",
     "collapsed": false,
     "input": [
      "\n",
      "def meanf2(DF):\n",
      "    f2_scores = []\n",
      "    for i in range(100):\n",
      "        temp = classifierDifferentMetrics(DF , scorer = ftwo_scorer)\n",
      "        f2_scores.append(temp)\n",
      "    return np.mean(f2_scores)"
     ],
     "language": "python",
     "metadata": {},
     "outputs": [],
     "prompt_number": 139
    },
    {
     "cell_type": "code",
     "collapsed": false,
     "input": [
      "print meanf2(hai_bin_label)\n",
      "print meanf2(hai_both_nobin_1)\n",
      "print meanf2(hai_both_nobin_2)\n",
      "print meanf2(hai_both_nobin_3)\n"
     ],
     "language": "python",
     "metadata": {},
     "outputs": [
      {
       "output_type": "stream",
       "stream": "stdout",
       "text": [
        "0.0\n",
        "0.0373937570714"
       ]
      },
      {
       "output_type": "stream",
       "stream": "stdout",
       "text": [
        "\n",
        "0.089218374243"
       ]
      },
      {
       "output_type": "stream",
       "stream": "stdout",
       "text": [
        "\n",
        "0.15460184013"
       ]
      },
      {
       "output_type": "stream",
       "stream": "stdout",
       "text": [
        "\n"
       ]
      }
     ],
     "prompt_number": 140
    },
    {
     "cell_type": "code",
     "collapsed": false,
     "input": [
      "# creating a bar graph for autoregressive measures\n",
      "\n",
      "\n",
      "N = 4\n",
      "\n",
      "# hai_bin_label, hai_both_nobin_1, hai_both_nobin_2, hai_both_nobin_3\n",
      "\n",
      "AUC_Means = (0.6, 0.7, 0.77, 0.77)\n",
      "\n",
      "F1_Means = (0.01, 0.0499580274798, 0.121833301286, 0.226005282118)\n",
      "\n",
      "F2_Means = (0.01, 0.0373937570714, 0.089218374243, 0.15460184013)\n",
      "\n",
      "\n",
      "ind = np.arange(N)  # the x locations for the groups\n",
      "width = 0.15       # the width of the bars\n",
      "\n",
      "fig, ax = plt.subplots()\n",
      "\n",
      "rects1 = ax.bar(ind, AUC_Means, width, color='r' ) #yerr=menStd\n",
      "rects2 = ax.bar(ind+width, F1_Means, width, color='b')\n",
      "rects3 = ax.bar(ind+2*width, F2_Means, width, color='g')\n",
      "\n",
      "\n",
      "# add some text for labels, title and axes ticks\n",
      "ax.set_ylabel('Measure Mean')\n",
      "ax.set_title('Scores by group and gender')\n",
      "ax.set_xticks(ind+width)\n",
      "ax.set_xticklabels( ('Original Label', 'Func 1', 'Func 2', 'Func3') )\n",
      "\n",
      "ax.set_ylim(0,1)\n",
      "#ax.legend( (rects1[0], rects2[0], rects3[0]), ('AUC', 'F1', 'F2') )\n",
      "ax.legend((rects1[0], rects2[0], rects3[0]), ('AUC', 'F1', 'F2'), loc='upper center', bbox_to_anchor=(0.5, -0.05),\n",
      "          fancybox=True, shadow=True, ncol=3)\n",
      "\n",
      "plt.show()\n"
     ],
     "language": "python",
     "metadata": {},
     "outputs": [
      {
       "metadata": {},
       "output_type": "display_data",
       "png": "[encoded data removed]",
       "text": [
        "<matplotlib.figure.Figure at 0x10d0a7b50>"
       ]
      }
     ],
     "prompt_number": 156
    },
    {
     "cell_type": "code",
     "collapsed": false,
     "input": [],
     "language": "python",
     "metadata": {},
     "outputs": []
    }
   ],
   "metadata": {}
  }
 ]
}