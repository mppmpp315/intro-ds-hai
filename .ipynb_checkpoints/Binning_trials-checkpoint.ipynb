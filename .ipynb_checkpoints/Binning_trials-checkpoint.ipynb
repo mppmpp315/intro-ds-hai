{
 "metadata": {
  "name": "",
  "signature": "sha256:a1f2b7da60dab1c5e0ece4f223486c638f3d63d9eb31360af2343f506f9a71e6"
 },
 "nbformat": 3,
 "nbformat_minor": 0,
 "worksheets": [
  {
   "cells": [
    {
     "cell_type": "code",
     "collapsed": false,
     "input": [
      "%matplotlib inline\n",
      "import sys\n",
      "sys.path.append('src')\n",
      "sys.path.append('data')\n",
      "\n",
      "import numpy as np\n",
      "import pandas as pd\n",
      "import matplotlib.pyplot as plt\n",
      "\n",
      "import data_utils\n",
      "import hai_data_cleanup\n",
      "import merge_data\n",
      "reload(merge_data)\n",
      "\n",
      "from sklearn import linear_model\n",
      "from sklearn.cross_validation import train_test_split\n",
      "from sklearn.metrics import roc_auc_score\n",
      "#from sets import Set"
     ],
     "language": "python",
     "metadata": {},
     "outputs": [],
     "prompt_number": 5
    },
    {
     "cell_type": "code",
     "collapsed": false,
     "input": [
      "t = merge_data.mergeAllTheThingsForProxy()"
     ],
     "language": "python",
     "metadata": {},
     "outputs": [],
     "prompt_number": 6
    },
    {
     "cell_type": "code",
     "collapsed": false,
     "input": [
      "t2 = merge_data.mergeAllTheThings()"
     ],
     "language": "python",
     "metadata": {},
     "outputs": [],
     "prompt_number": 10
    },
    {
     "cell_type": "code",
     "collapsed": false,
     "input": [
      "from pandas.util.testing import assert_frame_equal\n",
      "\n",
      "assert_frame_equal(t, t2)\n",
      "\n",
      "try:\n",
      "    assert_frame_equal(t, t2)\n",
      "    print True\n",
      "except:  # appeantly AssertionError doesn't catch all\n",
      "    print False\n"
     ],
     "language": "python",
     "metadata": {},
     "outputs": [
      {
       "output_type": "stream",
       "stream": "stdout",
       "text": [
        "True\n"
       ]
      }
     ],
     "prompt_number": 14
    },
    {
     "cell_type": "code",
     "collapsed": false,
     "input": [
      "def BestAUCLogisiticRegression(X, Y, regularization_type='l2'):\n",
      "    logistic_regression_params = [10**i for i in range(-3,7)] + [1e30]\n",
      "    best_c = None\n",
      "    best_auc = None\n",
      "    best_classifier = None\n",
      "\n",
      "    for c in logistic_regression_params:\n",
      "        classifier = linear_model.LogisticRegression(C=c, penalty=regularization_type) \n",
      "        auc = meanAUCCrossValidation(X, Y, classifier)\n",
      "        if not best_c or best_auc < auc:\n",
      "            best_c = c\n",
      "            best_auc = auc\n",
      "            best_classifier = classifier\n",
      "    print 'best C for logistic regression', best_c, 'results in AUC', best_auc\n",
      "    # L2: Best value for C seems to be 100, it gives AUC ~= .70. These means that some regularization is helpful.\n",
      "    # L1: Best value for C seems to be 10, it gives AUC ~= .68\n",
      "    return best_classifier\n",
      "    \n",
      "\n",
      "def meanAUCCrossValidation(X, Y, classifier, num_folds=5):\n",
      "    cross_valdation_obj = KFold(n=X.shape[0], n_folds = num_folds, random_state=42)\n",
      "    aucs = []\n",
      "    for train_index, test_index in cross_valdation_obj:\n",
      "        X_train = X.iloc[train_index]\n",
      "        Y_train = Y.iloc[train_index]\n",
      "        X_test = X.iloc[test_index]\n",
      "        Y_test = Y.iloc[test_index]\n",
      "       \n",
      "        scores = classifier.fit(X_train, Y_train).predict_proba(X_test)[:,1] # TODO use .decision_function(X_test)? seems to work out the same\n",
      "        auc = metrics.roc_auc_score(Y_test, scores)\n",
      "        aucs.append(auc)\n",
      "\n",
      "    return np.mean(aucs)"
     ],
     "language": "python",
     "metadata": {},
     "outputs": [],
     "prompt_number": 15
    },
    {
     "cell_type": "markdown",
     "metadata": {},
     "source": [
      "Proxy regression cross validation version 1.:\n",
      "    1) we split the data into sub_DF_a = train+test. and sub_DF_b = holdout data.\n",
      "    2) we perform cross valiation on sub_DF_a, in each iteration of the kfold training on the proxy variable and testing on the proxy variable.\n",
      "    3) evaluate final perforance on target variable in the holdout set.\n",
      "\n",
      "Proxy regression cross validation version 2.:\n",
      "    1) we split the data into sub_DF_a = train+test. and sub_DF_b = holdout data.\n",
      "    2) we perform cross valiation on sub_DF_a, in each iteration of the kfold training on the proxy variable and testing on the target variable.\n",
      "    3) evaluate final perforance on target variable in the holdout set."
     ]
    },
    {
     "cell_type": "code",
     "collapsed": false,
     "input": [],
     "language": "python",
     "metadata": {},
     "outputs": []
    }
   ],
   "metadata": {}
  }
 ]
}