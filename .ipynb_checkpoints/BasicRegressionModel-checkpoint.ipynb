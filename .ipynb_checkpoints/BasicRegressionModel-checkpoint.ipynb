{
 "metadata": {
  "name": "",
  "signature": "sha256:6b7d2f4b8d95ee3403fab4f90147c37426cf74c83571fceaaca94cb8f85cb084"
 },
 "nbformat": 3,
 "nbformat_minor": 0,
 "worksheets": []
}