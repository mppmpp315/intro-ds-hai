{
 "metadata": {
  "name": "",
  "signature": "sha256:131843c991b155b6974c77c290a43113bd2e08941c53d1db526c51a2d35110f7"
 },
 "nbformat": 3,
 "nbformat_minor": 0,
 "worksheets": [
  {
   "cells": [
    {
     "cell_type": "code",
     "collapsed": false,
     "input": [
      "import pandas as pd\n",
      "import numpy as np\n",
      "from math import * \n",
      "import matplotlib.pyplot as plt\n",
      "%matplotlib inline"
     ],
     "language": "python",
     "metadata": {},
     "outputs": [],
     "prompt_number": 1
    },
    {
     "cell_type": "code",
     "collapsed": false,
     "input": [
      "file_1 = 'data/Healthcare Associated Infections - Hospital.csv'\n",
      "def dataload(file_name):\n",
      "    DF = pd.read_csv(file_name)\n",
      "    DF = DF.set_index(DF['Provider ID'])\n",
      "    DF = DF.drop('Provider ID', 1)\n",
      "    return DF"
     ],
     "language": "python",
     "metadata": {},
     "outputs": [],
     "prompt_number": 3
    },
    {
     "cell_type": "code",
     "collapsed": false,
     "input": [
      "Infections = dataload(file_1)\n",
      "Infections = Infections[Infections['Measure ID'].str.contains('_SIR')]\n",
      "Infections.head()\n",
      "Infections['Score'][Infections['Score']=='Not Available'] = np.nan\n",
      "Infections['Score'] = Infections['Score'].astype(float)\n",
      "Infections['Score'].dtype"
     ],
     "language": "python",
     "metadata": {},
     "outputs": [
      {
       "metadata": {},
       "output_type": "pyout",
       "prompt_number": 36,
       "text": [
        "dtype('float64')"
       ]
      }
     ],
     "prompt_number": 36
    },
    {
     "cell_type": "code",
     "collapsed": false,
     "input": [],
     "language": "python",
     "metadata": {},
     "outputs": []
    }
   ],
   "metadata": {}
  }
 ]
}